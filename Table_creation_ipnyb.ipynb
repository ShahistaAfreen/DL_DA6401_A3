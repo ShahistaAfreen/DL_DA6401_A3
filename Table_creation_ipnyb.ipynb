{
  "nbformat": 4,
  "nbformat_minor": 0,
  "metadata": {
    "colab": {
      "provenance": [],
      "authorship_tag": "ABX9TyOkMIpcFHFCbfosdpc8cfNo",
      "include_colab_link": true
    },
    "kernelspec": {
      "name": "python3",
      "display_name": "Python 3"
    },
    "language_info": {
      "name": "python"
    }
  },
  "cells": [
    {
      "cell_type": "markdown",
      "metadata": {
        "id": "view-in-github",
        "colab_type": "text"
      },
      "source": [
        "<a href=\"https://colab.research.google.com/github/ShahistaAfreen/DL_DA6401_A3/blob/main/Table_creation_ipnyb.ipynb\" target=\"_parent\"><img src=\"https://colab.research.google.com/assets/colab-badge.svg\" alt=\"Open In Colab\"/></a>"
      ]
    },
    {
      "cell_type": "code",
      "execution_count": 3,
      "metadata": {
        "colab": {
          "base_uri": "https://localhost:8080/",
          "height": 173
        },
        "id": "L3T9Wtn0pqxh",
        "outputId": "98c4009f-6572-49f6-e10a-3e70b63ff219"
      },
      "outputs": [
        {
          "output_type": "display_data",
          "data": {
            "text/plain": [
              "<IPython.core.display.HTML object>"
            ],
            "text/html": [
              "Tracking run with wandb version 0.19.11"
            ]
          },
          "metadata": {}
        },
        {
          "output_type": "display_data",
          "data": {
            "text/plain": [
              "<IPython.core.display.HTML object>"
            ],
            "text/html": [
              "Run data is saved locally in <code>/content/wandb/run-20250520_171445-f88v9e02</code>"
            ]
          },
          "metadata": {}
        },
        {
          "output_type": "display_data",
          "data": {
            "text/plain": [
              "<IPython.core.display.HTML object>"
            ],
            "text/html": [
              "Syncing run <strong><a href='https://wandb.ai/na21b050-iit-madras/DA6401_Assignment3/runs/f88v9e02' target=\"_blank\">fresh-gorge-86</a></strong> to <a href='https://wandb.ai/na21b050-iit-madras/DA6401_Assignment3' target=\"_blank\">Weights & Biases</a> (<a href='https://wandb.me/developer-guide' target=\"_blank\">docs</a>)<br>"
            ]
          },
          "metadata": {}
        },
        {
          "output_type": "display_data",
          "data": {
            "text/plain": [
              "<IPython.core.display.HTML object>"
            ],
            "text/html": [
              " View project at <a href='https://wandb.ai/na21b050-iit-madras/DA6401_Assignment3' target=\"_blank\">https://wandb.ai/na21b050-iit-madras/DA6401_Assignment3</a>"
            ]
          },
          "metadata": {}
        },
        {
          "output_type": "display_data",
          "data": {
            "text/plain": [
              "<IPython.core.display.HTML object>"
            ],
            "text/html": [
              " View run at <a href='https://wandb.ai/na21b050-iit-madras/DA6401_Assignment3/runs/f88v9e02' target=\"_blank\">https://wandb.ai/na21b050-iit-madras/DA6401_Assignment3/runs/f88v9e02</a>"
            ]
          },
          "metadata": {}
        },
        {
          "output_type": "display_data",
          "data": {
            "text/plain": [
              "<IPython.core.display.HTML object>"
            ],
            "text/html": []
          },
          "metadata": {}
        },
        {
          "output_type": "display_data",
          "data": {
            "text/plain": [
              "<IPython.core.display.HTML object>"
            ],
            "text/html": [
              " View run <strong style=\"color:#cdcd00\">fresh-gorge-86</strong> at: <a href='https://wandb.ai/na21b050-iit-madras/DA6401_Assignment3/runs/f88v9e02' target=\"_blank\">https://wandb.ai/na21b050-iit-madras/DA6401_Assignment3/runs/f88v9e02</a><br> View project at: <a href='https://wandb.ai/na21b050-iit-madras/DA6401_Assignment3' target=\"_blank\">https://wandb.ai/na21b050-iit-madras/DA6401_Assignment3</a><br>Synced 5 W&B file(s), 1 media file(s), 2 artifact file(s) and 0 other file(s)"
            ]
          },
          "metadata": {}
        },
        {
          "output_type": "display_data",
          "data": {
            "text/plain": [
              "<IPython.core.display.HTML object>"
            ],
            "text/html": [
              "Find logs at: <code>./wandb/run-20250520_171445-f88v9e02/logs</code>"
            ]
          },
          "metadata": {}
        }
      ],
      "source": [
        "import pandas as pd\n",
        "import wandb\n",
        "\n",
        "# Initialize wandb run\n",
        "wandb.init(project=\"DA6401_Assignment3\")\n",
        "\n",
        "# Load the CSV files\n",
        "vanilla_df = pd.read_csv('predictions_vanilla.csv')\n",
        "attention_df = pd.read_csv('predictions_attention.csv')\n",
        "\n",
        "# Sample 15 rows\n",
        "samples = min(15, len(vanilla_df), len(attention_df))\n",
        "vanilla_sample = vanilla_df.head(samples)\n",
        "attention_sample = attention_df.head(samples)\n",
        "\n",
        "# Create a comparison table\n",
        "comparison_df = pd.DataFrame({\n",
        "    'Input': vanilla_sample['inputs'],\n",
        "    'Target': vanilla_sample['targets'],\n",
        "    'Vanilla Output': vanilla_sample['outputs'],\n",
        "    'Attention Output': attention_sample['outputs']\n",
        "})\n",
        "\n",
        "# Create and log the wandb table\n",
        "comparison_table = wandb.Table(dataframe=comparison_df)\n",
        "wandb.log({\"Translation Comparison\": comparison_table})\n",
        "\n",
        "wandb.finish()"
      ]
    },
    {
      "cell_type": "code",
      "source": [],
      "metadata": {
        "id": "c9SXgikXqEFK"
      },
      "execution_count": null,
      "outputs": []
    }
  ]
}