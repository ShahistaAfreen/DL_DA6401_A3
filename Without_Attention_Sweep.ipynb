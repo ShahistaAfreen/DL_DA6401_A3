{
  "cells": [
    {
      "cell_type": "markdown",
      "metadata": {
        "id": "view-in-github",
        "colab_type": "text"
      },
      "source": [
        "<a href=\"https://colab.research.google.com/github/ShahistaAfreen/DL_DA6401_A3/blob/main/Without_Attention_Sweep.ipynb\" target=\"_parent\"><img src=\"https://colab.research.google.com/assets/colab-badge.svg\" alt=\"Open In Colab\"/></a>"
      ]
    },
    {
      "cell_type": "markdown",
      "metadata": {
        "id": "Y2vkvje2XA3r"
      },
      "source": [
        "# Import package"
      ]
    },
    {
      "cell_type": "code",
      "execution_count": null,
      "metadata": {
        "colab": {
          "base_uri": "https://localhost:8080/"
        },
        "id": "u0qCvgqBxzLo",
        "outputId": "492d90e5-7acc-49bb-aa60-b521633cdd1f"
      },
      "outputs": [
        {
          "output_type": "stream",
          "name": "stdout",
          "text": [
            "Requirement already satisfied: wandb in /usr/local/lib/python3.11/dist-packages (0.19.11)\n",
            "Requirement already satisfied: click!=8.0.0,>=7.1 in /usr/local/lib/python3.11/dist-packages (from wandb) (8.2.0)\n",
            "Requirement already satisfied: docker-pycreds>=0.4.0 in /usr/local/lib/python3.11/dist-packages (from wandb) (0.4.0)\n",
            "Requirement already satisfied: gitpython!=3.1.29,>=1.0.0 in /usr/local/lib/python3.11/dist-packages (from wandb) (3.1.44)\n",
            "Requirement already satisfied: platformdirs in /usr/local/lib/python3.11/dist-packages (from wandb) (4.3.8)\n",
            "Requirement already satisfied: protobuf!=4.21.0,!=5.28.0,<7,>=3.19.0 in /usr/local/lib/python3.11/dist-packages (from wandb) (5.29.4)\n",
            "Requirement already satisfied: psutil>=5.0.0 in /usr/local/lib/python3.11/dist-packages (from wandb) (5.9.5)\n",
            "Requirement already satisfied: pydantic<3 in /usr/local/lib/python3.11/dist-packages (from wandb) (2.11.4)\n",
            "Requirement already satisfied: pyyaml in /usr/local/lib/python3.11/dist-packages (from wandb) (6.0.2)\n",
            "Requirement already satisfied: requests<3,>=2.0.0 in /usr/local/lib/python3.11/dist-packages (from wandb) (2.32.3)\n",
            "Requirement already satisfied: sentry-sdk>=2.0.0 in /usr/local/lib/python3.11/dist-packages (from wandb) (2.28.0)\n",
            "Requirement already satisfied: setproctitle in /usr/local/lib/python3.11/dist-packages (from wandb) (1.3.6)\n",
            "Requirement already satisfied: setuptools in /usr/local/lib/python3.11/dist-packages (from wandb) (75.2.0)\n",
            "Requirement already satisfied: typing-extensions<5,>=4.4 in /usr/local/lib/python3.11/dist-packages (from wandb) (4.13.2)\n",
            "Requirement already satisfied: six>=1.4.0 in /usr/local/lib/python3.11/dist-packages (from docker-pycreds>=0.4.0->wandb) (1.17.0)\n",
            "Requirement already satisfied: gitdb<5,>=4.0.1 in /usr/local/lib/python3.11/dist-packages (from gitpython!=3.1.29,>=1.0.0->wandb) (4.0.12)\n",
            "Requirement already satisfied: annotated-types>=0.6.0 in /usr/local/lib/python3.11/dist-packages (from pydantic<3->wandb) (0.7.0)\n",
            "Requirement already satisfied: pydantic-core==2.33.2 in /usr/local/lib/python3.11/dist-packages (from pydantic<3->wandb) (2.33.2)\n",
            "Requirement already satisfied: typing-inspection>=0.4.0 in /usr/local/lib/python3.11/dist-packages (from pydantic<3->wandb) (0.4.0)\n",
            "Requirement already satisfied: charset-normalizer<4,>=2 in /usr/local/lib/python3.11/dist-packages (from requests<3,>=2.0.0->wandb) (3.4.2)\n",
            "Requirement already satisfied: idna<4,>=2.5 in /usr/local/lib/python3.11/dist-packages (from requests<3,>=2.0.0->wandb) (3.10)\n",
            "Requirement already satisfied: urllib3<3,>=1.21.1 in /usr/local/lib/python3.11/dist-packages (from requests<3,>=2.0.0->wandb) (2.4.0)\n",
            "Requirement already satisfied: certifi>=2017.4.17 in /usr/local/lib/python3.11/dist-packages (from requests<3,>=2.0.0->wandb) (2025.4.26)\n",
            "Requirement already satisfied: smmap<6,>=3.0.1 in /usr/local/lib/python3.11/dist-packages (from gitdb<5,>=4.0.1->gitpython!=3.1.29,>=1.0.0->wandb) (5.0.2)\n",
            "Collecting xtarfile\n",
            "  Downloading xtarfile-0.2.1.tar.gz (7.3 kB)\n",
            "  Preparing metadata (setup.py) ... \u001b[?25l\u001b[?25hdone\n",
            "Building wheels for collected packages: xtarfile\n",
            "  Building wheel for xtarfile (setup.py) ... \u001b[?25l\u001b[?25hdone\n",
            "  Created wheel for xtarfile: filename=xtarfile-0.2.1-py3-none-any.whl size=8056 sha256=ea57fa9ed213e42a0f0f008d20ca19f453ef3726bc3ad78a901d660303001c6f\n",
            "  Stored in directory: /root/.cache/pip/wheels/73/de/d6/def0eebfc3d5adb3a866d1bd9ae45649e07e6cffb284314a00\n",
            "Successfully built xtarfile\n",
            "Installing collected packages: xtarfile\n",
            "Successfully installed xtarfile-0.2.1\n"
          ]
        }
      ],
      "source": [
        "!pip install wandb\n",
        "!pip install xtarfile"
      ]
    },
    {
      "cell_type": "code",
      "execution_count": null,
      "metadata": {
        "id": "6xAqFEssB1RJ"
      },
      "outputs": [],
      "source": [
        "START_TOKEN=\"\\t\"\n",
        "END_TOKEN=\"\\n\""
      ]
    },
    {
      "cell_type": "code",
      "execution_count": null,
      "metadata": {
        "id": "s6xB0KDuy95e"
      },
      "outputs": [],
      "source": [
        "import os\n",
        "import random\n",
        "import time\n",
        "import wandb\n",
        "import re, string\n",
        "import numpy as np\n",
        "import pandas as pd\n",
        "import matplotlib as mpl\n",
        "import matplotlib.pyplot as plt\n",
        "from matplotlib.font_manager import FontProperties\n",
        "from collections import Counter\n",
        "import os\n",
        "from os.path import exists\n",
        "import matplotlib.pyplot as plt\n",
        "import matplotlib.image as mpimg\n",
        "import random\n",
        "import numpy as np\n",
        "import keras\n",
        "import tensorflow as tf\n",
        "import csv\n",
        "\n",
        "from tensorflow.keras import layers\n",
        "import tensorflow.keras.backend as K\n",
        "\n",
        "\n"
      ]
    },
    {
      "cell_type": "markdown",
      "metadata": {
        "id": "9byHOCIOf0WO"
      },
      "source": [
        "# **DataPreprocessing**"
      ]
    },
    {
      "cell_type": "code",
      "execution_count": null,
      "metadata": {
        "id": "xJ8lIJvgitRW"
      },
      "outputs": [],
      "source": [
        "import tensorflow as tf\n",
        "import random\n",
        "import numpy as np\n",
        "import os\n",
        "\n",
        "from os.path import exists\n",
        "import xtarfile as tarfile\n",
        "import pandas as pd\n",
        "import keras\n",
        "START_TOKEN=\"0\"\n",
        "END_TOKEN=\"1\"\n",
        "\n",
        "\"\"\"Download dataset if not exists\"\"\"\n",
        "def downloadDataSet():\n",
        "   cwd = os.getcwd()\n",
        "\n",
        "   file_exists = exists('./dakshina_dataset_v1.0.tar')\n",
        "   if(file_exists==False):\n",
        "     print('downloading....')\n",
        "     os.system('curl -SL https://storage.googleapis.com/gresearch/dakshina/dakshina_dataset_v1.0.tar > dakshina_dataset_v1.0.tar')\n",
        "     print('download Complete')\n",
        "   extract_exists = exists('./dakshina_dataset_v1.0/')\n",
        "   if(extract_exists==False):\n",
        "     print('Extracting..')\n",
        "     with tarfile.open('dakshina_dataset_v1.0.tar', 'r') as archive:\n",
        "         archive.extractall()\n",
        "     print('Complete')\n",
        "   print('You are all set')\n",
        "def get_files(language):\n",
        "\n",
        "  train_dir='./dakshina_dataset_v1.0/'+language+'/lexicons/'+language+'.translit.sampled.train.tsv'\n",
        "  val_dir='./dakshina_dataset_v1.0/'+language+'/lexicons/'+language+'.translit.sampled.dev.tsv'\n",
        "  test_dir='./dakshina_dataset_v1.0/'+language+'/lexicons/'+language+'.translit.sampled.test.tsv'\n",
        "\n",
        "  return train_dir, val_dir, test_dir\n",
        "\"\"\"Generate Tokens\"\"\"\n",
        "def tokenize(lang,tokenizer=None):\n",
        "    \"\"\" Uses tf.keras tokenizer to tokenize the data/words into characters\n",
        "    \"\"\"\n",
        "    if(tokenizer==None):\n",
        "        tokenizer = tf.keras.preprocessing.text.Tokenizer(char_level=True)\n",
        "        tokenizer.fit_on_texts(lang)\n",
        "        lang_tensor = tokenizer.texts_to_sequences(lang)\n",
        "        lang_tensor = tf.keras.preprocessing.sequence.pad_sequences(lang_tensor,\n",
        "                                                            padding='post')\n",
        "    else:\n",
        "\n",
        "        lang_tensor = tokenizer.texts_to_sequences(lang)\n",
        "        lang_tensor = tf.keras.preprocessing.sequence.pad_sequences(lang_tensor,\n",
        "                                                        padding='post')\n",
        "\n",
        "    return lang_tensor, tokenizer\n",
        "\n",
        "\"\"\"Preprocessing the data\"\"\"\n",
        "def preprocess_data(fpath,ip_tokenizer=None, tgt_tokenizer=None):\n",
        "\n",
        "    #Read data from files\n",
        "    df = pd.read_csv(fpath, sep=\"\\t\", header=None)\n",
        "\n",
        "    #Add start and end token\n",
        "    df[0] = df[0].apply( lambda x:START_TOKEN+x+END_TOKEN)\n",
        "    ip_tensor, ip_tokenizer = tokenize(df[1].astype(str).tolist(), tokenizer=ip_tokenizer)\n",
        "\n",
        "    tgt_tensor, tgt_tokenizer = tokenize(df[0].astype(str).tolist(), tokenizer=tgt_tokenizer)\n",
        "\n",
        "    dataset = tf.data.Dataset.from_tensor_slices((ip_tensor, tgt_tensor))\n",
        "    dataset = dataset.shuffle(len(dataset))\n",
        "\n",
        "    return dataset, ip_tokenizer, tgt_tokenizer\n",
        "\n",
        "\n",
        "\n"
      ]
    },
    {
      "cell_type": "markdown",
      "metadata": {
        "id": "DUh7cDcMhFqW"
      },
      "source": [
        "# **Bahdanau Attention**"
      ]
    },
    {
      "cell_type": "code",
      "execution_count": null,
      "metadata": {
        "id": "d1J0s1-UsYaC"
      },
      "outputs": [],
      "source": [
        "import tensorflow as tf\n",
        "from tensorflow.keras import layers\n",
        "import tensorflow.keras.backend as K\n",
        "import tensorflow as tf\n",
        "from tensorflow.keras import layers\n",
        "import tensorflow.keras.backend as K\n",
        "\n",
        "\"\"\"\n",
        "Bahdanau Attention\n",
        "\"\"\"\n",
        "class BahdanauAttention(tf.keras.layers.Layer):\n",
        "  def __init__(self, units):\n",
        "    super(BahdanauAttention, self).__init__()\n",
        "    self.W1 = tf.keras.layers.Dense(units)\n",
        "    self.W2 = tf.keras.layers.Dense(units)\n",
        "    self.V = tf.keras.layers.Dense(1)\n",
        "\n",
        "  def call(self, enc_state, enc_out):\n",
        "\n",
        "    enc_state = tf.concat(enc_state, 1)\n",
        "    enc_state = tf.expand_dims(enc_state, 1)\n",
        "\n",
        "    score = self.V(tf.nn.tanh(self.W1(enc_state) + self.W2(enc_out)))\n",
        "\n",
        "    attention_weights = tf.nn.softmax(score, axis=1)\n",
        "\n",
        "    context_vector = attention_weights * enc_out\n",
        "    context_vector = tf.reduce_sum(context_vector, axis=1)\n",
        "\n",
        "    return context_vector, attention_weights\n",
        "\n",
        "\n"
      ]
    },
    {
      "cell_type": "code",
      "execution_count": null,
      "metadata": {
        "colab": {
          "base_uri": "https://localhost:8080/"
        },
        "id": "ls7v013HipOJ",
        "outputId": "8f8af821-1b00-452a-91e3-6e4781e82e1e"
      },
      "outputs": [
        {
          "output_type": "stream",
          "name": "stdout",
          "text": [
            "/content\n"
          ]
        }
      ],
      "source": [
        "!pwd"
      ]
    },
    {
      "cell_type": "code",
      "execution_count": null,
      "metadata": {
        "id": "ty-yWidXsJyD"
      },
      "outputs": [],
      "source": [
        "class Parameters():\n",
        "  def  __init__(self,  language='te',encoder_layers=1,decoder_layers=1,embedding_dim=128,\\\n",
        "                layer_type='lstm', units=128, dropout=0.5, attention=False,attention_type=\"Luong\",batch_size=128,\\\n",
        "                apply_beam_search=False,apply_teacher_forcing=False,teacher_forcing_ratio=1,\\\n",
        "                 save_outputs=None,epochs=5,wandb=None,beamWidth=5,restoreBestModel=True,\\\n",
        "                 patience=2,encoder_vocab_size=64,decoder_vocab_size=64):\n",
        "        self.language = language\n",
        "        self.embedding_dim = embedding_dim\n",
        "        self.encoder_layers=encoder_layers\n",
        "        self.decoder_layers=decoder_layers\n",
        "        self.layer_type = layer_type\n",
        "        self.units = units\n",
        "        self.dropout = dropout\n",
        "        self.attention = attention\n",
        "        self.stats = []\n",
        "        self.wandb=wandb\n",
        "        self.epochs=epochs\n",
        "        self.batch_size = 128\n",
        "        self.apply_beam_search = apply_beam_search\n",
        "        self.batch_size = batch_size\n",
        "        self.apply_teacher_forcing=apply_teacher_forcing\n",
        "        self.save_outputs=save_outputs\n",
        "        self.restoreBestModel=restoreBestModel\n",
        "        self.attention_type=attention_type\n",
        "        self.patience=patience\n",
        "        self.encoder_vocab_size=encoder_vocab_size\n",
        "        self.decoder_vocab_size=decoder_vocab_size\n",
        "        self.teacher_forcing_ratio=teacher_forcing_ratio"
      ]
    },
    {
      "cell_type": "markdown",
      "metadata": {
        "id": "ukpRAHjigsv0"
      },
      "source": [
        "# **Encoder**"
      ]
    },
    {
      "cell_type": "code",
      "execution_count": null,
      "metadata": {
        "id": "_Xm9LYpBgHdY"
      },
      "outputs": [],
      "source": [
        "import tensorflow as tf\n",
        "from tensorflow.keras import layers\n",
        "\n",
        "# Assumed helper function\n",
        "def get_layer(layer_type, units, dropout, return_sequences, return_state):\n",
        "    if layer_type.lower() == \"lstm\":\n",
        "        return tf.keras.layers.LSTM(units,\n",
        "                                    return_sequences=return_sequences,\n",
        "                                    return_state=return_state,\n",
        "                                    dropout=dropout)\n",
        "    elif layer_type.lower() == \"gru\":\n",
        "        return tf.keras.layers.GRU(units,\n",
        "                                   return_sequences=return_sequences,\n",
        "                                   return_state=return_state,\n",
        "                                   dropout=dropout)\n",
        "    elif layer_type.lower() == \"rnn\":\n",
        "        return tf.keras.layers.SimpleRNN(units,\n",
        "                                   return_sequences=return_sequences,\n",
        "                                   return_state=return_state,\n",
        "                                   dropout=dropout)\n",
        "    else:\n",
        "        raise ValueError(f\"Unsupported layer type: {layer_type}\")\n",
        "\n",
        "class Encoder(tf.keras.Model):\n",
        "    def __init__(self, param):\n",
        "        super(Encoder, self).__init__()\n",
        "        self.layer_type = param.layer_type.lower()\n",
        "        self.n_layers = param.encoder_layers\n",
        "        self.units = param.units\n",
        "        self.dropout = param.dropout\n",
        "        self.embedding = tf.keras.layers.Embedding(\n",
        "            param.encoder_vocab_size,\n",
        "            param.embedding_dim,\n",
        "            trainable=True\n",
        "        )\n",
        "\n",
        "        self.create_rnn_layers()\n",
        "\n",
        "    def create_rnn_layers(self):\n",
        "        self.rnn_layers = []\n",
        "        for i in range(self.n_layers):\n",
        "            # Only the last layer should not return sequences if we have multiple layers\n",
        "            return_sequences = True if i < self.n_layers - 1 else False\n",
        "            layer = get_layer(\n",
        "                self.layer_type,\n",
        "                self.units,\n",
        "                self.dropout,\n",
        "                return_sequences=return_sequences,\n",
        "                return_state=True\n",
        "            )\n",
        "            self.rnn_layers.append(layer)\n",
        "\n",
        "    def call(self, x, hidden):\n",
        "        x = self.embedding(x)\n",
        "\n",
        "        outputs = []\n",
        "        states = []\n",
        "\n",
        "        # Process the hidden state based on the number of layers\n",
        "        if self.layer_type == \"lstm\":\n",
        "            # For LSTM, we need h_state and c_state for each layer\n",
        "            # hidden should be a list of [h1, c1, h2, c2, ..., hn, cn]\n",
        "            hidden_states = []\n",
        "            for i in range(self.n_layers):\n",
        "                if 2*i+1 < len(hidden):\n",
        "                    hidden_states.append([hidden[2*i], hidden[2*i+1]])\n",
        "                else:\n",
        "                    # Default if not enough states provided\n",
        "                    hidden_states.append(None)\n",
        "        else:\n",
        "            # For GRU/RNN, we need one state per layer\n",
        "            # hidden should be a list of [h1, h2, ..., hn]\n",
        "            hidden_states = []\n",
        "            for i in range(self.n_layers):\n",
        "                if i < len(hidden):\n",
        "                    hidden_states.append(hidden[i])\n",
        "                else:\n",
        "                    hidden_states.append(None)\n",
        "\n",
        "        # Process through RNN layers\n",
        "        for i, rnn in enumerate(self.rnn_layers):\n",
        "            if i == 0:\n",
        "                if hidden_states[i] is not None:\n",
        "                    if self.layer_type == \"lstm\":\n",
        "                        x, h_state, c_state = rnn(x, initial_state=hidden_states[i])\n",
        "                        states.extend([h_state, c_state])\n",
        "                    else:\n",
        "                        x, state = rnn(x, initial_state=hidden_states[i])\n",
        "                        states.append(state)\n",
        "                else:\n",
        "                    x, *state = rnn(x)\n",
        "                    states.extend(state)\n",
        "            else:\n",
        "                if hidden_states[i] is not None:\n",
        "                    if self.layer_type == \"lstm\":\n",
        "                        x, h_state, c_state = rnn(x, initial_state=hidden_states[i])\n",
        "                        states.extend([h_state, c_state])\n",
        "                    else:\n",
        "                        x, state = rnn(x, initial_state=hidden_states[i])\n",
        "                        states.append(state)\n",
        "                else:\n",
        "                    x, *state = rnn(x)\n",
        "                    states.extend(state)\n",
        "\n",
        "            outputs.append(x)\n",
        "\n",
        "        # The last output is what we want to return as encoder output\n",
        "        return outputs[-1], states\n",
        "\n",
        "    def initialize_hidden_state(self, batch_size):\n",
        "        states = []\n",
        "        if self.layer_type == \"lstm\":\n",
        "            # For LSTM, we need h_state and c_state for each layer\n",
        "            for _ in range(self.n_layers):\n",
        "                h = tf.zeros((batch_size, self.units))\n",
        "                c = tf.zeros((batch_size, self.units))\n",
        "                states.extend([h, c])\n",
        "        else:\n",
        "            # For GRU/RNN, we need one state per layer\n",
        "            for _ in range(self.n_layers):\n",
        "                states.append(tf.zeros((batch_size, self.units)))\n",
        "\n",
        "        return states"
      ]
    },
    {
      "cell_type": "markdown",
      "metadata": {
        "id": "Pj3T7coAgxNY"
      },
      "source": [
        "# **Decoder**"
      ]
    },
    {
      "cell_type": "code",
      "execution_count": null,
      "metadata": {
        "id": "ycKs9AXrgWsR"
      },
      "outputs": [],
      "source": [
        "import tensorflow as tf\n",
        "from tensorflow.keras import layers\n",
        "\n",
        "# Assumed attention layer (you can replace it with your own class)\n",
        "class BahdanauAttention(tf.keras.layers.Layer):\n",
        "    def __init__(self, units):\n",
        "        super(BahdanauAttention, self).__init__()\n",
        "        self.W1 = tf.keras.layers.Dense(units)\n",
        "        self.W2 = tf.keras.layers.Dense(units)\n",
        "        self.V = tf.keras.layers.Dense(1)\n",
        "\n",
        "    def call(self, hidden, enc_output):\n",
        "        # hidden: [batch_size, hidden_size]\n",
        "        # enc_output: [batch_size, seq_len, hidden_size]\n",
        "        hidden_with_time_axis = tf.expand_dims(hidden, 1)\n",
        "        score = self.V(tf.nn.tanh(self.W1(enc_output) + self.W2(hidden_with_time_axis)))\n",
        "        attention_weights = tf.nn.softmax(score, axis=1)\n",
        "        context_vector = attention_weights * enc_output\n",
        "        context_vector = tf.reduce_sum(context_vector, axis=1)\n",
        "        return context_vector, attention_weights\n",
        "\n",
        "# Assumed helper function\n",
        "def get_layer(layer_type, units, dropout, return_sequences, return_state):\n",
        "    if layer_type.lower() == \"lstm\":\n",
        "        return tf.keras.layers.LSTM(units,\n",
        "                                    return_sequences=return_sequences,\n",
        "                                    return_state=return_state,\n",
        "                                    dropout=dropout)\n",
        "    elif layer_type.lower() == \"gru\":\n",
        "        return tf.keras.layers.GRU(units,\n",
        "                                   return_sequences=return_sequences,\n",
        "                                   return_state=return_state,\n",
        "                                   dropout=dropout)\n",
        "    elif layer_type.lower() == \"rnn\":\n",
        "        return tf.keras.layers.SimpleRNN(units,\n",
        "                                   return_sequences=return_sequences,\n",
        "                                   return_state=return_state,\n",
        "                                   dropout=dropout)\n",
        "    else:\n",
        "        raise ValueError(f\"Unsupported RNN type: {layer_type}\")\n",
        "\n",
        "class Decoder(tf.keras.Model):\n",
        "    def __init__(self, param):\n",
        "        super(Decoder, self).__init__()\n",
        "\n",
        "        self.layer_type = param.layer_type.lower()\n",
        "        self.n_layers = param.decoder_layers\n",
        "        self.units = param.units\n",
        "        self.dropout = param.dropout\n",
        "        self.attention = param.attention\n",
        "        self.attention_type = getattr(param, 'attention_type', 'bahdanau')\n",
        "\n",
        "        self.embedding_layer = layers.Embedding(\n",
        "            input_dim=param.decoder_vocab_size,\n",
        "            output_dim=param.embedding_dim,\n",
        "            trainable=True\n",
        "        )\n",
        "\n",
        "        self.dense = layers.Dense(param.decoder_vocab_size, activation=\"softmax\")\n",
        "\n",
        "        if self.attention:\n",
        "            self.attention_layer = BahdanauAttention(self.units)\n",
        "\n",
        "        self.create_rnn_layers()\n",
        "\n",
        "    def create_rnn_layers(self):\n",
        "        self.rnn_layers = []\n",
        "        for i in range(self.n_layers):\n",
        "            return_sequences = True if i < self.n_layers - 1 else False\n",
        "            layer = get_layer(\n",
        "                self.layer_type, self.units, self.dropout,\n",
        "                return_sequences=return_sequences, return_state=True\n",
        "            )\n",
        "            self.rnn_layers.append(layer)\n",
        "\n",
        "    def call(self, x, hidden, enc_out=None):\n",
        "        # x: [batch_size, 1]\n",
        "        # hidden: list of states from encoder\n",
        "\n",
        "        x = self.embedding_layer(x)  # [batch_size, 1, embedding_dim]\n",
        "\n",
        "        attention_weights = None\n",
        "        attention_vector = None\n",
        "\n",
        "        # Format hidden states based on RNN type\n",
        "        if self.layer_type == \"lstm\":\n",
        "            # For LSTM, we need h_state and c_state for each layer\n",
        "            # hidden should be a list of [h1, c1, h2, c2, ..., hn, cn]\n",
        "            hidden_states = []\n",
        "            for i in range(self.n_layers):\n",
        "                if 2*i+1 < len(hidden):\n",
        "                    hidden_states.append([hidden[2*i], hidden[2*i+1]])\n",
        "                else:\n",
        "                    # Default if not enough states provided\n",
        "                    hidden_states.append(None)\n",
        "\n",
        "            # Use first hidden state for attention\n",
        "            attention_state = hidden[0] if hidden else None\n",
        "        else:\n",
        "            # For GRU/RNN, we need one state per layer\n",
        "            hidden_states = []\n",
        "            for i in range(self.n_layers):\n",
        "                if i < len(hidden):\n",
        "                    hidden_states.append(hidden[i])\n",
        "                else:\n",
        "                    hidden_states.append(None)\n",
        "\n",
        "            # Use first hidden state for attention\n",
        "            attention_state = hidden[0] if hidden else None\n",
        "\n",
        "        # Apply attention if enabled\n",
        "        if self.attention and enc_out is not None and attention_state is not None:\n",
        "            context_vector, attention_weights = self.attention_layer(attention_state, enc_out)\n",
        "            # Expand context vector to match x's time dimension\n",
        "            context_vector = tf.expand_dims(context_vector, 1)\n",
        "            # Concatenate context vector with input embedding\n",
        "            x = tf.concat([context_vector, x], axis=-1)\n",
        "\n",
        "        # Process through RNN layers\n",
        "        states = []\n",
        "        for i, rnn in enumerate(self.rnn_layers):\n",
        "            if i == 0:\n",
        "                if hidden_states[i] is not None:\n",
        "                    if self.layer_type == \"lstm\":\n",
        "                        x, h_state, c_state = rnn(x, initial_state=hidden_states[i])\n",
        "                        states.extend([h_state, c_state])\n",
        "                    else:\n",
        "                        x, state = rnn(x, initial_state=hidden_states[i])\n",
        "                        states.append(state)\n",
        "                else:\n",
        "                    x, *state = rnn(x)\n",
        "                    states.extend(state)\n",
        "            else:\n",
        "                if hidden_states[i] is not None:\n",
        "                    if self.layer_type == \"lstm\":\n",
        "                        x, h_state, c_state = rnn(x, initial_state=hidden_states[i])\n",
        "                        states.extend([h_state, c_state])\n",
        "                    else:\n",
        "                        x, state = rnn(x, initial_state=hidden_states[i])\n",
        "                        states.append(state)\n",
        "                else:\n",
        "                    x, *state = rnn(x)\n",
        "                    states.extend(state)\n",
        "\n",
        "        # Apply the dense layer to get output probabilities\n",
        "        # If the last RNN layer returns sequences, take only the last timestep\n",
        "        if len(x.shape) > 2:\n",
        "            x = x[:, -1, :]\n",
        "\n",
        "        output = self.dense(x)\n",
        "\n",
        "        return output, states, attention_weights\n"
      ]
    },
    {
      "cell_type": "markdown",
      "source": [
        "# **SequenceTOSequence**"
      ],
      "metadata": {
        "id": "pR4TH7AQj7zk"
      }
    },
    {
      "cell_type": "code",
      "execution_count": null,
      "metadata": {
        "id": "Pa0XPzaFsSkW"
      },
      "outputs": [],
      "source": [
        "import tensorflow as tf\n",
        "from tensorflow.keras import layers\n",
        "import tensorflow.keras.backend as K\n",
        "from tensorflow.keras.preprocessing.text import Tokenizer\n",
        "\n",
        "from tqdm import tqdm\n",
        "import random\n",
        "import time\n",
        "import wandb\n",
        "import numpy as np\n",
        "import pandas as pd\n",
        "class SequenceTOSequence():\n",
        "    def __init__(self, parameters):\n",
        "\n",
        "        #Basic configurations\n",
        "        self.param=parameters\n",
        "        self.embedding_dim = parameters.embedding_dim\n",
        "        self.encoder_layers = parameters.encoder_layers\n",
        "        self.decoder_layers = parameters.decoder_layers\n",
        "        self.layer_type = parameters.layer_type\n",
        "        self.units = parameters.units\n",
        "        self.dropout = parameters.dropout\n",
        "        self.batch_size = parameters.batch_size\n",
        "\n",
        "        #Add information regarding attention layer\n",
        "        self.attention = parameters.attention\n",
        "        self.attention_type = parameters.attention_type\n",
        "\n",
        "        self.stats = []\n",
        "\n",
        "        self.apply_beam_search = parameters.apply_beam_search\n",
        "\n",
        "        #Early stop conditions\n",
        "        self.patience=parameters.patience\n",
        "        self.restoreBestModel=parameters.restoreBestModel\n",
        "\n",
        "        #teacher forcing\n",
        "        self.apply_teacher_forcing=parameters.apply_teacher_forcing\n",
        "        self.teacher_forcing_ratio=parameters.teacher_forcing_ratio\n",
        "\n",
        "    #Build model Add specific optimizers\n",
        "    def build(self, loss, metric,optimizer='adam',lr=0.001):\n",
        "        self.loss = loss\n",
        "\n",
        "        #Select specific optimizer\n",
        "        if(optimizer=='adam'):\n",
        "          self.optimizer=tf.keras.optimizers.Adam(learning_rate=lr)\n",
        "        if(optimizer=='nadam'):\n",
        "          self.optimizer=tf.keras.optimizers.Nadam(learning_rate=lr)\n",
        "        else:\n",
        "          self.optimizer=tf.keras.optimizers.RMSprop(learning_rate=lr)\n",
        "\n",
        "        self.metric = metric\n",
        "\n",
        "    def set_vocabulary(self, input_tokenizer, targ_tokenizer):\n",
        "        self.input_tokenizer = input_tokenizer\n",
        "        self.targ_tokenizer = targ_tokenizer\n",
        "        self.create_model()\n",
        "\n",
        "    \"\"\"This procedure used to define Encoder Decoder Layer\"\"\"\n",
        "    def create_model(self):\n",
        "\n",
        "        encoder_vocab_size = len(self.input_tokenizer.word_index) + 1\n",
        "        decoder_vocab_size = len(self.targ_tokenizer.word_index) + 1\n",
        "        self.param.encoder_vocab_size=encoder_vocab_size\n",
        "        self.param.decoder_vocab_size=decoder_vocab_size\n",
        "        #Add Encoder layer\n",
        "\n",
        "        self.encoder = Encoder(self.param)\n",
        "\n",
        "        #Create decode with or without any attention layer\n",
        "        #Check following properties to add attention\n",
        "        # self.attention\n",
        "        # self.attention_type\n",
        "        self.decoder = Decoder(self.param)\n",
        "\n",
        "\n",
        "    @tf.function\n",
        "    def train(self, input, target, enc_state):\n",
        "\n",
        "        loss = 0\n",
        "\n",
        "        with tf.GradientTape() as tape:\n",
        "\n",
        "            enc_out, enc_state = self.encoder(input, enc_state)\n",
        "\n",
        "            dec_state = enc_state\n",
        "            dec_input = tf.expand_dims([self.targ_tokenizer.word_index[\"\\t\"]]*self.batch_size ,1)\n",
        "\n",
        "            apply_teacher_forcing=False\n",
        "            #decide whether to use teacher forcing\n",
        "            if random.random() < self.teacher_forcing_ratio:\n",
        "              apply_teacher_forcing=True\n",
        "            ## We use Teacher forcing to train the network\n",
        "            ## Each target at timestep t is passed as input for timestep t + 1\n",
        "            if  (apply_teacher_forcing==True):\n",
        "                #Apply teacher forcing\n",
        "                for t in range(1, target.shape[1]):\n",
        "\n",
        "                    preds, dec_state, _ = self.decoder(dec_input, dec_state, enc_out)\n",
        "                    loss += self.loss(target[:,t], preds)\n",
        "                    self.metric.update_state(target[:,t], preds)\n",
        "                    #As teacher forcing  applied we pass next target as decoder input\n",
        "                    dec_input = tf.expand_dims(target[:,t], 1)\n",
        "\n",
        "            else:\n",
        "                #Without teacher forcing\n",
        "\n",
        "                for t in range(1, target.shape[1]):\n",
        "\n",
        "                    preds, dec_state, _ = self.decoder(dec_input, dec_state, enc_out)\n",
        "                    loss += self.loss(target[:,t], preds)\n",
        "                    self.metric.update_state(target[:,t], preds)\n",
        "                    #As teacher forcing not applied we pass decoder input as whatever we predict\n",
        "                    preds = tf.argmax(preds, 1)\n",
        "                    dec_input = tf.expand_dims(preds, 1)\n",
        "\n",
        "\n",
        "            batch_loss = loss / target.shape[1]\n",
        "\n",
        "            variables = self.encoder.variables + self.decoder.variables\n",
        "            gradients = tape.gradient(loss, variables)\n",
        "\n",
        "            self.optimizer.apply_gradients(zip(gradients, variables))\n",
        "\n",
        "        return batch_loss, self.metric.result()\n",
        "\n",
        "\n",
        "\n",
        "\n",
        "    def fit(self, dataset, val_dataset, batch_size=128, epochs=5, wandb=None,apply_teacher_forcing=True, teacher_forcing_ratio=0.7):\n",
        "\n",
        "        self.batch_size = batch_size\n",
        "        self.apply_teacher_forcing = apply_teacher_forcing\n",
        "        self.teacher_forcing_ratio=teacher_forcing_ratio\n",
        "        #Prepare chunk of data based on batch size provided\n",
        "        steps_per_epoch = len(dataset) // self.batch_size\n",
        "        #steps_per_epoch_val = len(val_dataset) // self.batch_size\n",
        "\n",
        "        dataset = dataset.batch(self.batch_size, drop_remainder=False)\n",
        "        #val_dataset = val_dataset.batch(self.batch_size, drop_remainder=False)\n",
        "\n",
        "\n",
        "        sample_inp, sample_targ = next(iter(dataset))\n",
        "        self.max_target_len = sample_targ.shape[1]\n",
        "        self.max_input_len = sample_inp.shape[1]\n",
        "\n",
        "        #Store Encoder ,decoder details in case model get good accuracy\n",
        "        #Will be useful to restore best model\n",
        "        self.bestEncoder=self.encoder\n",
        "        self.bestDecoder=self.decoder\n",
        "        self.bestoptimizer=self.optimizer\n",
        "\n",
        "        accuracyDegradePatience=0\n",
        "        self.oldaccuracy=0\n",
        "        for epoch in  tqdm(range(1, epochs+1), total = epochs,desc=\"Epochs \"):\n",
        "\n",
        "            if(accuracyDegradePatience>=self.patience):\n",
        "                if(self.restoreBestModel==True):\n",
        "                    self.encoder=self.bestEncoder\n",
        "                    self.decoder=self.bestDecoder\n",
        "                    self.optimizer=self.bestoptimizer\n",
        "                break\n",
        "            ## Training loop ##\n",
        "            total_loss = 0\n",
        "            total_acc = 0\n",
        "            self.metric.reset_state()\n",
        "\n",
        "            starting_time = time.time()\n",
        "            enc_state = self.encoder.initialize_hidden_state(self.batch_size)\n",
        "\n",
        "\n",
        "\n",
        "            for batch, (input, target) in enumerate(dataset.take(steps_per_epoch)):\n",
        "                #Accumulate loss and accurecy for each batch\n",
        "                batch_loss, acc = self.train(input, target, enc_state)\n",
        "                total_loss += batch_loss\n",
        "                total_acc += acc\n",
        "            #Calculate validation accurecy for current Epoch\n",
        "\n",
        "            avg_acc = total_acc / steps_per_epoch\n",
        "            avg_loss = total_loss / steps_per_epoch\n",
        "\n",
        "            # Validation loop ##\n",
        "            total_val_loss = 0\n",
        "            total_val_acc = 0\n",
        "            self.metric.reset_state()\n",
        "\n",
        "            enc_state = self.encoder.initialize_hidden_state(self.batch_size)\n",
        "\n",
        "            #Process data in batches\n",
        "\n",
        "            avg_val_loss, avg_val_acc = self.evaluate(val_dataset,batch_size=self.batch_size)\n",
        "\n",
        "\n",
        "\n",
        "            #Verify if model performance degrading.add()\n",
        "            #In case train accurecy improved but no significant imprrovement in validation\n",
        "            #Add condition for early stopping\n",
        "            #Restore best model based on the input\n",
        "            if(self.oldaccuracy>avg_val_acc):\n",
        "              accuracyDegradePatience+=1\n",
        "            else:\n",
        "              self.bestEncoder=self.encoder\n",
        "              self.bestDecoder=self.decoder\n",
        "              self.bestoptimizer=self.optimizer\n",
        "              self.oldaccuracy=avg_val_acc\n",
        "              accuracyDegradePatience=0\n",
        "            print( \"\\nTrain Loss: {0:.4f} Train Accuracy: {1:.4f} Validation Loss: {2:.4f} Validation Accuracy: {3:.4f}\".format(avg_loss, avg_acc*100, avg_val_loss, avg_val_acc*100))\n",
        "\n",
        "            time_taken = time.time() - starting_time\n",
        "\n",
        "            #Add logs for WanDb\n",
        "            self.stats.append({\"epoch\": epoch,\n",
        "                            \"train_loss\": avg_loss,\n",
        "                            \"val_loss\": avg_val_loss,\n",
        "                            \"train_acc\": avg_acc*100,\n",
        "                            \"val_acc\": avg_val_acc*100,\n",
        "                            \"training time\": time_taken})\n",
        "\n",
        "            #Log to wanDB\n",
        "            if not (wandb is None):\n",
        "                wandb.log(self.stats[-1])\n",
        "\n",
        "            print(f\"\\nTime taken for the epoch {time_taken:.4f}\")\n",
        "\n",
        "\n",
        "        print(\"\\nModel trained successfully !!\")\n",
        "    @tf.function\n",
        "    def validation(self, inp, trgt, encoder_state):\n",
        "        #Custom validation\n",
        "\n",
        "        loss = 0\n",
        "        #encoder input\n",
        "        encoder_output, encoder_state = self.encoder(inp, encoder_state)\n",
        "\n",
        "        #Set initial state of decoder from encoder state\n",
        "        decoder_state = encoder_state\n",
        "        decoder_input = tf.expand_dims([self.targ_tokenizer.word_index[\"\\t\"]]*self.batch_size ,1)\n",
        "\n",
        "        for t in range(1, trgt.shape[1]):\n",
        "            #Get decoder prediction\n",
        "            prediction, decoder_state, _ = self.decoder(decoder_input, decoder_state, encoder_output)\n",
        "            loss += self.loss(trgt[:,t], prediction)\n",
        "            self.metric.update_state(trgt[:,t], prediction)\n",
        "\n",
        "            prediction = tf.argmax(prediction, 1)\n",
        "            decoder_input = tf.expand_dims(prediction, 1)\n",
        "\n",
        "        batch_loss = loss / trgt.shape[1]\n",
        "\n",
        "        return batch_loss, self.metric.result()\n",
        "    def evaluate(self, test_dataset, batch_size=None):\n",
        "        \"\"\"Evaluate our model on test data\"\"\"\n",
        "        if batch_size is not None:\n",
        "            self.batch_size = batch_size\n",
        "\n",
        "        #prepare chuck of data based on the batch size\n",
        "        steps_per_epoch_test = len(test_dataset) // batch_size\n",
        "        test_dataset = test_dataset.batch(batch_size, drop_remainder=True)\n",
        "\n",
        "        total_test_loss = 0\n",
        "        total_test_acc = 0\n",
        "        self.metric.reset_state()\n",
        "\n",
        "        enc_state = self.encoder.initialize_hidden_state(self.batch_size)\n",
        "\n",
        "        #print(\"\\nRunning test dataset through the model...\\n\")\n",
        "        #Run in batches based on the input batch size\n",
        "        for batch, (input, target) in enumerate(test_dataset.take(steps_per_epoch_test)):\n",
        "            batch_loss, acc = self.validation(input, target, enc_state)\n",
        "            total_test_loss += batch_loss\n",
        "            total_test_acc += acc\n",
        "\n",
        "        #Caculate avarage  test accuracy and loss\n",
        "        avg_test_acc = total_test_acc / steps_per_epoch_test\n",
        "        avg_test_loss = total_test_loss / steps_per_epoch_test\n",
        "\n",
        "        #Display details\n",
        "        #print(f\"Test Loss: {avg_test_loss:.4f} Test Accuracy: {avg_test_acc:.4f}\")\n",
        "\n",
        "        return avg_test_loss, avg_test_acc\n",
        "\n",
        "    \"\"\" This function used to translate english world to respective language\"\"\"\n",
        "\n",
        "    def translate(self, word, get_heatmap=False):\n",
        "        #start and end token for input word\n",
        "        start=\"\\t\"\n",
        "        end=\"\\n\"\n",
        "        word =start  + word + end\n",
        "\n",
        "        #Tokenize input and perform  preprocessing\n",
        "        inputs = self.input_tokenizer.texts_to_sequences([word])\n",
        "        inputs = tf.keras.preprocessing.sequence.pad_sequences(inputs,\n",
        "                                                               maxlen=self.max_input_len,\n",
        "                                                               padding=\"post\")\n",
        "\n",
        "        result = \"\"\n",
        "        att_wts = []\n",
        "\n",
        "        #Process input through encoder\n",
        "        enc_state = self.encoder.initialize_hidden_state(1)\n",
        "        enc_out, enc_state = self.encoder(inputs, enc_state)\n",
        "\n",
        "        # Set initial decoder sate to encoder state\n",
        "        dec_state = enc_state\n",
        "        dec_input = tf.expand_dims([self.targ_tokenizer.word_index[start]]*1, 1)\n",
        "\n",
        "        #Run the loop for maximum word size the target language can have\n",
        "        #We get this data during training\n",
        "        for t in range(1, self.max_target_len):\n",
        "\n",
        "            preds, dec_state, attention_weights = self.decoder(dec_input, dec_state, enc_out)\n",
        "\n",
        "            #Add attention weights which is useful for generating attention heatmaps\n",
        "            if get_heatmap:\n",
        "                att_wts.append(attention_weights)\n",
        "\n",
        "            #Pass the current prediction as input to next iteration\n",
        "            preds = tf.argmax(preds, 1)\n",
        "\n",
        "            #Accumulate target words\n",
        "            next_char = self.targ_tokenizer.index_word[preds.numpy().item()]\n",
        "            result += next_char\n",
        "\n",
        "            #Decoder input for next iteration\n",
        "            dec_input = tf.expand_dims(preds, 1)\n",
        "\n",
        "            #If we receive end token stop the loop\n",
        "            if next_char == end:\n",
        "                break\n",
        "\n",
        "        return result[:-1], att_wts[:-1]\n",
        "\n"
      ]
    },
    {
      "cell_type": "code",
      "execution_count": null,
      "metadata": {
        "id": "rT-bKfIIWcES"
      },
      "outputs": [],
      "source": [
        "\n",
        "from tensorflow.keras import layers\n",
        "from tqdm import tqdm\n",
        "def get_layer(name, units, dropout, return_state=False, return_sequences=False):\n",
        "\n",
        "    if name==\"rnn\":\n",
        "        return layers.SimpleRNN(units=units, dropout=dropout,\n",
        "                                return_state=return_state,\n",
        "                                return_sequences=return_sequences)\n",
        "\n",
        "    if name==\"gru\":\n",
        "        return layers.GRU(units=units, dropout=dropout,\n",
        "                          return_state=return_state,\n",
        "                          return_sequences=return_sequences)\n",
        "\n",
        "    if name==\"lstm\":\n",
        "        return layers.LSTM(units=units, dropout=dropout,\n",
        "                           return_state=return_state,\n",
        "                           return_sequences=return_sequences)\n"
      ]
    },
    {
      "cell_type": "code",
      "execution_count": null,
      "metadata": {
        "id": "6dS2JhY05vMR"
      },
      "outputs": [],
      "source": [
        "import wandb"
      ]
    },
    {
      "cell_type": "code",
      "execution_count": null,
      "metadata": {
        "colab": {
          "base_uri": "https://localhost:8080/",
          "height": 288
        },
        "id": "hLEZUp3W5wf9",
        "outputId": "a39a17bb-13de-4cae-924d-a4f37147ec38"
      },
      "outputs": [
        {
          "output_type": "display_data",
          "data": {
            "text/plain": [
              "<IPython.core.display.Javascript object>"
            ],
            "application/javascript": [
              "\n",
              "        window._wandbApiKey = new Promise((resolve, reject) => {\n",
              "            function loadScript(url) {\n",
              "            return new Promise(function(resolve, reject) {\n",
              "                let newScript = document.createElement(\"script\");\n",
              "                newScript.onerror = reject;\n",
              "                newScript.onload = resolve;\n",
              "                document.body.appendChild(newScript);\n",
              "                newScript.src = url;\n",
              "            });\n",
              "            }\n",
              "            loadScript(\"https://cdn.jsdelivr.net/npm/postmate/build/postmate.min.js\").then(() => {\n",
              "            const iframe = document.createElement('iframe')\n",
              "            iframe.style.cssText = \"width:0;height:0;border:none\"\n",
              "            document.body.appendChild(iframe)\n",
              "            const handshake = new Postmate({\n",
              "                container: iframe,\n",
              "                url: 'https://wandb.ai/authorize'\n",
              "            });\n",
              "            const timeout = setTimeout(() => reject(\"Couldn't auto authenticate\"), 5000)\n",
              "            handshake.then(function(child) {\n",
              "                child.on('authorize', data => {\n",
              "                    clearTimeout(timeout)\n",
              "                    resolve(data)\n",
              "                });\n",
              "            });\n",
              "            })\n",
              "        });\n",
              "    "
            ]
          },
          "metadata": {}
        },
        {
          "output_type": "stream",
          "name": "stderr",
          "text": [
            "\u001b[34m\u001b[1mwandb\u001b[0m: Logging into wandb.ai. (Learn how to deploy a W&B server locally: https://wandb.me/wandb-server)\n",
            "\u001b[34m\u001b[1mwandb\u001b[0m: You can find your API key in your browser here: https://wandb.ai/authorize?ref=models\n",
            "wandb: Paste an API key from your profile and hit enter:"
          ]
        },
        {
          "name": "stdout",
          "output_type": "stream",
          "text": [
            " ··········\n"
          ]
        },
        {
          "output_type": "stream",
          "name": "stderr",
          "text": [
            "\u001b[34m\u001b[1mwandb\u001b[0m: \u001b[33mWARNING\u001b[0m If you're specifying your api key in code, ensure this code is not shared publicly.\n",
            "\u001b[34m\u001b[1mwandb\u001b[0m: \u001b[33mWARNING\u001b[0m Consider setting the WANDB_API_KEY environment variable, or running `wandb login` from the command line.\n",
            "\u001b[34m\u001b[1mwandb\u001b[0m: No netrc file found, creating one.\n",
            "\u001b[34m\u001b[1mwandb\u001b[0m: Appending key for api.wandb.ai to your netrc file: /root/.netrc\n",
            "\u001b[34m\u001b[1mwandb\u001b[0m: Currently logged in as: \u001b[33mna21b050\u001b[0m (\u001b[33mna21b050-iit-madras\u001b[0m) to \u001b[32mhttps://api.wandb.ai\u001b[0m. Use \u001b[1m`wandb login --relogin`\u001b[0m to force relogin\n"
          ]
        },
        {
          "output_type": "display_data",
          "data": {
            "text/plain": [
              "<IPython.core.display.HTML object>"
            ],
            "text/html": [
              "Tracking run with wandb version 0.19.11"
            ]
          },
          "metadata": {}
        },
        {
          "output_type": "display_data",
          "data": {
            "text/plain": [
              "<IPython.core.display.HTML object>"
            ],
            "text/html": [
              "Run data is saved locally in <code>/content/wandb/run-20250519_095743-btqykpzf</code>"
            ]
          },
          "metadata": {}
        },
        {
          "output_type": "display_data",
          "data": {
            "text/plain": [
              "<IPython.core.display.HTML object>"
            ],
            "text/html": [
              "Syncing run <strong><a href='https://wandb.ai/na21b050-iit-madras/uncategorized/runs/btqykpzf' target=\"_blank\">generous-puddle-6</a></strong> to <a href='https://wandb.ai/na21b050-iit-madras/uncategorized' target=\"_blank\">Weights & Biases</a> (<a href='https://wandb.me/developer-guide' target=\"_blank\">docs</a>)<br>"
            ]
          },
          "metadata": {}
        },
        {
          "output_type": "display_data",
          "data": {
            "text/plain": [
              "<IPython.core.display.HTML object>"
            ],
            "text/html": [
              " View project at <a href='https://wandb.ai/na21b050-iit-madras/uncategorized' target=\"_blank\">https://wandb.ai/na21b050-iit-madras/uncategorized</a>"
            ]
          },
          "metadata": {}
        },
        {
          "output_type": "display_data",
          "data": {
            "text/plain": [
              "<IPython.core.display.HTML object>"
            ],
            "text/html": [
              " View run at <a href='https://wandb.ai/na21b050-iit-madras/uncategorized/runs/btqykpzf' target=\"_blank\">https://wandb.ai/na21b050-iit-madras/uncategorized/runs/btqykpzf</a>"
            ]
          },
          "metadata": {}
        },
        {
          "output_type": "execute_result",
          "data": {
            "text/html": [
              "<button onClick=\"this.nextSibling.style.display='block';this.style.display='none';\">Display W&B run</button><iframe src='https://wandb.ai/na21b050-iit-madras/uncategorized/runs/btqykpzf?jupyter=true' style='border:none;width:100%;height:420px;display:none;'></iframe>"
            ],
            "text/plain": [
              "<wandb.sdk.wandb_run.Run at 0x791532c514d0>"
            ]
          },
          "metadata": {},
          "execution_count": 15
        }
      ],
      "source": [
        "wandb.init()"
      ]
    },
    {
      "cell_type": "markdown",
      "metadata": {
        "id": "yCVhhqPMWkuS"
      },
      "source": [
        "# Data Preprocessing"
      ]
    },
    {
      "cell_type": "code",
      "execution_count": null,
      "metadata": {
        "id": "p5Bt3Bf-_JhQ"
      },
      "outputs": [],
      "source": [
        "\n",
        "START_TOKEN=\"\\t\"\n",
        "END_TOKEN=\"\\n\"\n"
      ]
    },
    {
      "cell_type": "code",
      "execution_count": null,
      "metadata": {
        "colab": {
          "base_uri": "https://localhost:8080/"
        },
        "id": "QWI9X48FjCPy",
        "outputId": "45796597-2d0f-4676-b235-685e738ed73e"
      },
      "outputs": [
        {
          "output_type": "stream",
          "name": "stdout",
          "text": [
            "downloading....\n",
            "download Complete\n",
            "Extracting..\n",
            "Complete\n",
            "You are all set\n"
          ]
        }
      ],
      "source": [
        "downloadDataSet()"
      ]
    },
    {
      "cell_type": "code",
      "execution_count": null,
      "metadata": {
        "id": "6ji0OxT0yxRA"
      },
      "outputs": [],
      "source": [
        "language=\"te\"\n",
        "train_dir, val_dir, test_dir = get_files(language)\n",
        "\n"
      ]
    },
    {
      "cell_type": "code",
      "execution_count": null,
      "metadata": {
        "id": "vWOhUaVWipOU"
      },
      "outputs": [],
      "source": [
        "\n",
        "dataset, input_tokenizer, targ_tokenizer = preprocess_data(train_dir)\n",
        "val_dataset, _, _ = preprocess_data(val_dir,input_tokenizer,targ_tokenizer)"
      ]
    },
    {
      "cell_type": "code",
      "execution_count": null,
      "metadata": {
        "id": "A57aPT6P6uyg"
      },
      "outputs": [],
      "source": [
        "#train data\n",
        "dataset, input_tokenizer, targ_tokenizer = preprocess_data(train_dir)"
      ]
    },
    {
      "cell_type": "markdown",
      "metadata": {
        "id": "dlbXxZXZjpEq"
      },
      "source": [
        "## Sweep Configuration"
      ]
    },
    {
      "cell_type": "code",
      "execution_count": null,
      "metadata": {
        "id": "ikX_8MejzT7-"
      },
      "outputs": [],
      "source": [
        "sweep_config = {\n",
        "  \"name\": \"DL_Assignment3_Rnn\",\n",
        "  \"method\": \"bayes\",\n",
        "  \"metric\": {\n",
        "      \"name\": \"val_acc\",\n",
        "      \"goal\": \"maximize\",\n",
        "  },\n",
        "\n",
        "  \"parameters\": {\n",
        "        \"num_of_encoders\":{\n",
        "          \"values\":[1,2,3,4]\n",
        "        },\n",
        "        \"num_of_decoders\":{\n",
        "            \"values\":[1,2,3]\n",
        "\n",
        "        },\n",
        "        \"cell_type\":{\n",
        "          \"values\":['lstm','gru','rnn']\n",
        "        },\n",
        "\n",
        "        \"lr\":{\n",
        "          \"values\":[0.05,0.001,0.005]\n",
        "        },\n",
        "        \"optimizer\":{\n",
        "          \"values\":['adam','rmsprop']\n",
        "        },\n",
        "        \"dropout\":{ \"values\": [0.3,0.5]},\n",
        "        \"latent_dim\":{ \"values\": [64,128,256,512]},\n",
        "        \"inp_emb_size\": {\"values\": [64,128,256]},\n",
        "        \"batch_size\":{\"values\":[256,128,64]},\n",
        "\n",
        "        }\n",
        "    }"
      ]
    },
    {
      "cell_type": "code",
      "execution_count": null,
      "metadata": {
        "id": "2dt9LTQAzZHh"
      },
      "outputs": [],
      "source": [
        "# This is the main function to use to train/fine-tune the model using wandb runs\n",
        "def train_wandb():\n",
        "    run = wandb.init()\n",
        "\n",
        "    config=wandb.config\n",
        "    # Set the run name\n",
        "    name=\"num_of_encoders(\"+ str(config[\"num_of_encoders\"]) + \")_\"\n",
        "    name = \" num_of_decoders(\" + str(config[\"num_of_decoders\"]) + \")_\"\n",
        "    name += \" cell_type(\" + str(config[\"cell_type\"]) + \")_\"\n",
        "\n",
        "    name += \"latent_dim(\" + str(config[\"latent_dim\"])+ \")_\"\n",
        "    name += \"lr(\" + str(config[\"lr\"])+ \")_\"\n",
        "    name += \"optimizer(\" + str(config[\"optimizer\"]) + \")_\"\n",
        "    name += \"dropout(\" + str(config[\"dropout\"]) + \")\"\n",
        "    name += \"inp_emb_size(\" + str(config[\"inp_emb_size\"]) + \")_\"\n",
        "    name+=\"batch_size(\" + str(config[\"batch_size\"]) + \")\"\n",
        "\n",
        "\n",
        "    wandb.run.name = name[:-1]\n",
        "    batch_size=config[\"batch_size\"]\n",
        "    inp_emb_size=config[\"inp_emb_size\"]\n",
        "    dropout=config[\"dropout\"]\n",
        "    optimizer=config[\"optimizer\"]\n",
        "    num_of_encoders=config[\"num_of_encoders\"]\n",
        "    num_of_decoders=config[\"num_of_decoders\"]\n",
        "\n",
        "    lr=config[\"lr\"]\n",
        "    latent_dim=config[\"latent_dim\"]\n",
        "    cell_type=config[\"cell_type\"]\n",
        "\n",
        "\n",
        "    param=Parameters(language=\"te\",\\\n",
        "                        embedding_dim=inp_emb_size,\\\n",
        "                        encoder_layers=num_of_encoders,\\\n",
        "                        decoder_layers=num_of_decoders,\\\n",
        "                        layer_type=cell_type,\\\n",
        "                        units=latent_dim,\\\n",
        "                        dropout=dropout,\n",
        "                        epochs=15,\\\n",
        "                 batch_size=batch_size\\\n",
        "                   )\n",
        "    param.apply_teacher_forcing=True\n",
        "    param.teacher_forcing_ratio=1\n",
        "    param.patience=5\n",
        "    model = SequenceTOSequence(param)\n",
        "    model.set_vocabulary(input_tokenizer, targ_tokenizer)\n",
        "\n",
        "    model.build(loss=tf.keras.losses.SparseCategoricalCrossentropy(),\\\n",
        "                metric = tf.keras.metrics.SparseCategoricalAccuracy(),\\\n",
        "                optimizer = optimizer,\\\n",
        "                lr=lr\\\n",
        "                )\n",
        "\n",
        "    model.fit(dataset, val_dataset, epochs=param.epochs, wandb=wandb,teacher_forcing_ratio=param.teacher_forcing_ratio)\n",
        "\n"
      ]
    },
    {
      "cell_type": "code",
      "execution_count": null,
      "metadata": {
        "colab": {
          "base_uri": "https://localhost:8080/"
        },
        "id": "kzkdsWRlZzTf",
        "outputId": "f3fa2246-aa3b-4a3b-b6d2-09a58d1af7d2"
      },
      "outputs": [
        {
          "output_type": "stream",
          "name": "stdout",
          "text": [
            "Create sweep with ID: h16aspho\n",
            "Sweep URL: https://wandb.ai/na21b050-iit-madras/CS6910_Assignment3/sweeps/h16aspho\n"
          ]
        }
      ],
      "source": [
        "\n",
        "\n",
        "sweep_id = wandb.sweep(sweep_config,entity=\"na21b050-iit-madras\", project=\"CS6910_Assignment3\")\n"
      ]
    },
    {
      "cell_type": "markdown",
      "source": [
        "# **Sweep Info**"
      ],
      "metadata": {
        "id": "ihl9VNhbkaAM"
      }
    },
    {
      "cell_type": "code",
      "execution_count": null,
      "metadata": {
        "colab": {
          "background_save": true,
          "base_uri": "https://localhost:8080/",
          "height": 1000
        },
        "id": "LGxzAfZ42R_u",
        "outputId": "d56b5429-5952-462a-8db3-e66b6b6646d3"
      },
      "outputs": [
        {
          "output_type": "stream",
          "name": "stderr",
          "text": [
            "\u001b[34m\u001b[1mwandb\u001b[0m: \u001b[33mWARNING\u001b[0m Calling wandb.login() after wandb.init() has no effect.\n",
            "\u001b[34m\u001b[1mwandb\u001b[0m: Agent Starting Run: y6ofsyiy with config:\n",
            "\u001b[34m\u001b[1mwandb\u001b[0m: \tbatch_size: 128\n",
            "\u001b[34m\u001b[1mwandb\u001b[0m: \tcell_type: rnn\n",
            "\u001b[34m\u001b[1mwandb\u001b[0m: \tdropout: 0.3\n",
            "\u001b[34m\u001b[1mwandb\u001b[0m: \tinp_emb_size: 256\n",
            "\u001b[34m\u001b[1mwandb\u001b[0m: \tlatent_dim: 256\n",
            "\u001b[34m\u001b[1mwandb\u001b[0m: \tlr: 0.05\n",
            "\u001b[34m\u001b[1mwandb\u001b[0m: \tnum_of_decoders: 2\n",
            "\u001b[34m\u001b[1mwandb\u001b[0m: \tnum_of_encoders: 3\n",
            "\u001b[34m\u001b[1mwandb\u001b[0m: \toptimizer: rmsprop\n"
          ]
        },
        {
          "output_type": "display_data",
          "data": {
            "text/plain": [
              "<IPython.core.display.HTML object>"
            ],
            "text/html": [
              "Tracking run with wandb version 0.19.11"
            ]
          },
          "metadata": {}
        },
        {
          "output_type": "display_data",
          "data": {
            "text/plain": [
              "<IPython.core.display.HTML object>"
            ],
            "text/html": [
              "Run data is saved locally in <code>/content/wandb/run-20250519_095932-y6ofsyiy</code>"
            ]
          },
          "metadata": {}
        },
        {
          "output_type": "display_data",
          "data": {
            "text/plain": [
              "<IPython.core.display.HTML object>"
            ],
            "text/html": [
              "Syncing run <strong><a href='https://wandb.ai/na21b050-iit-madras/CS6910_Assignment3/runs/y6ofsyiy' target=\"_blank\">fluent-sweep-1</a></strong> to <a href='https://wandb.ai/na21b050-iit-madras/CS6910_Assignment3' target=\"_blank\">Weights & Biases</a> (<a href='https://wandb.me/developer-guide' target=\"_blank\">docs</a>)<br>Sweep page: <a href='https://wandb.ai/na21b050-iit-madras/CS6910_Assignment3/sweeps/h16aspho' target=\"_blank\">https://wandb.ai/na21b050-iit-madras/CS6910_Assignment3/sweeps/h16aspho</a>"
            ]
          },
          "metadata": {}
        },
        {
          "output_type": "display_data",
          "data": {
            "text/plain": [
              "<IPython.core.display.HTML object>"
            ],
            "text/html": [
              " View project at <a href='https://wandb.ai/na21b050-iit-madras/CS6910_Assignment3' target=\"_blank\">https://wandb.ai/na21b050-iit-madras/CS6910_Assignment3</a>"
            ]
          },
          "metadata": {}
        },
        {
          "output_type": "display_data",
          "data": {
            "text/plain": [
              "<IPython.core.display.HTML object>"
            ],
            "text/html": [
              " View sweep at <a href='https://wandb.ai/na21b050-iit-madras/CS6910_Assignment3/sweeps/h16aspho' target=\"_blank\">https://wandb.ai/na21b050-iit-madras/CS6910_Assignment3/sweeps/h16aspho</a>"
            ]
          },
          "metadata": {}
        },
        {
          "output_type": "display_data",
          "data": {
            "text/plain": [
              "<IPython.core.display.HTML object>"
            ],
            "text/html": [
              " View run at <a href='https://wandb.ai/na21b050-iit-madras/CS6910_Assignment3/runs/y6ofsyiy' target=\"_blank\">https://wandb.ai/na21b050-iit-madras/CS6910_Assignment3/runs/y6ofsyiy</a>"
            ]
          },
          "metadata": {}
        },
        {
          "output_type": "stream",
          "name": "stderr",
          "text": [
            "\rEpochs :   0%|          | 0/15 [00:00<?, ?it/s]/usr/local/lib/python3.11/dist-packages/keras/src/optimizers/base_optimizer.py:774: UserWarning: Gradients do not exist for variables ['seed_generator/seed_generator_state', 'seed_generator_1/seed_generator_state', 'encoder/simple_rnn_2/simple_rnn_cell/kernel', 'encoder/simple_rnn_2/simple_rnn_cell/recurrent_kernel', 'encoder/simple_rnn_2/simple_rnn_cell/bias', 'seed_generator_2/seed_generator_state', 'seed_generator_3/seed_generator_state', 'seed_generator_4/seed_generator_state'] when minimizing the loss. If using `model.compile()`, did you forget to provide a `loss` argument?\n",
            "  warnings.warn(\n",
            "Epochs :   7%|▋         | 1/15 [01:26<20:05, 86.11s/it]"
          ]
        },
        {
          "output_type": "stream",
          "name": "stdout",
          "text": [
            "\n",
            "Train Loss: 3.4254 Train Accuracy: 57.7977 Validation Loss: 10.7165 Validation Accuracy: 59.0177\n",
            "\n",
            "Time taken for the epoch 86.1093\n"
          ]
        },
        {
          "output_type": "stream",
          "name": "stderr",
          "text": [
            "\rEpochs :  13%|█▎        | 2/15 [02:14<13:48, 63.76s/it]"
          ]
        },
        {
          "output_type": "stream",
          "name": "stdout",
          "text": [
            "\n",
            "Train Loss: 2.7535 Train Accuracy: 63.4134 Validation Loss: 45.0075 Validation Accuracy: 1.6505\n",
            "\n",
            "Time taken for the epoch 48.1003\n"
          ]
        },
        {
          "output_type": "stream",
          "name": "stderr",
          "text": [
            "\rEpochs :  20%|██        | 3/15 [03:02<11:18, 56.56s/it]"
          ]
        },
        {
          "output_type": "stream",
          "name": "stdout",
          "text": [
            "\n",
            "Train Loss: 2.9840 Train Accuracy: 63.2100 Validation Loss: 21.7174 Validation Accuracy: 59.6992\n",
            "\n",
            "Time taken for the epoch 47.9897\n"
          ]
        },
        {
          "output_type": "stream",
          "name": "stderr",
          "text": [
            "\rEpochs :  27%|██▋       | 4/15 [03:51<09:49, 53.62s/it]"
          ]
        },
        {
          "output_type": "stream",
          "name": "stdout",
          "text": [
            "\n",
            "Train Loss: 3.0759 Train Accuracy: 63.8534 Validation Loss: 22.4426 Validation Accuracy: 58.8807\n",
            "\n",
            "Time taken for the epoch 49.0925\n"
          ]
        },
        {
          "output_type": "stream",
          "name": "stderr",
          "text": [
            "\rEpochs :  33%|███▎      | 5/15 [04:39<08:36, 51.66s/it]"
          ]
        },
        {
          "output_type": "stream",
          "name": "stdout",
          "text": [
            "\n",
            "Train Loss: 3.1260 Train Accuracy: 63.7598 Validation Loss: 22.2024 Validation Accuracy: 59.8378\n",
            "\n",
            "Time taken for the epoch 48.1816\n"
          ]
        },
        {
          "output_type": "stream",
          "name": "stderr",
          "text": [
            "\rEpochs :  40%|████      | 6/15 [05:25<07:27, 49.75s/it]"
          ]
        },
        {
          "output_type": "stream",
          "name": "stdout",
          "text": [
            "\n",
            "Train Loss: 3.2313 Train Accuracy: 63.5997 Validation Loss: 118.7567 Validation Accuracy: 2.7358\n",
            "\n",
            "Time taken for the epoch 46.0360\n"
          ]
        },
        {
          "output_type": "stream",
          "name": "stderr",
          "text": [
            "\rEpochs :  47%|████▋     | 7/15 [06:12<06:30, 48.83s/it]"
          ]
        },
        {
          "output_type": "stream",
          "name": "stdout",
          "text": [
            "\n",
            "Train Loss: 3.3341 Train Accuracy: 63.6250 Validation Loss: 22.9477 Validation Accuracy: 56.4669\n",
            "\n",
            "Time taken for the epoch 46.9436\n"
          ]
        },
        {
          "output_type": "stream",
          "name": "stderr",
          "text": [
            "\rEpochs :  53%|█████▎    | 8/15 [07:00<05:39, 48.46s/it]"
          ]
        },
        {
          "output_type": "stream",
          "name": "stdout",
          "text": [
            "\n",
            "Train Loss: 3.3400 Train Accuracy: 63.9410 Validation Loss: 55.0642 Validation Accuracy: 31.9689\n",
            "\n",
            "Time taken for the epoch 47.6618\n"
          ]
        },
        {
          "output_type": "stream",
          "name": "stderr",
          "text": [
            "\rEpochs :  60%|██████    | 9/15 [07:46<04:45, 47.66s/it]"
          ]
        },
        {
          "output_type": "stream",
          "name": "stdout",
          "text": [
            "\n",
            "Train Loss: 3.4555 Train Accuracy: 63.8569 Validation Loss: 45.5216 Validation Accuracy: 58.9083\n",
            "\n",
            "Time taken for the epoch 45.9044\n"
          ]
        },
        {
          "output_type": "stream",
          "name": "stderr",
          "text": [
            "Epochs :  67%|██████▋   | 10/15 [08:33<04:16, 51.32s/it]"
          ]
        },
        {
          "output_type": "stream",
          "name": "stdout",
          "text": [
            "\n",
            "Train Loss: 3.4885 Train Accuracy: 64.0078 Validation Loss: 24.9446 Validation Accuracy: 59.3625\n",
            "\n",
            "Time taken for the epoch 47.0937\n",
            "\n",
            "Model trained successfully !!\n"
          ]
        },
        {
          "output_type": "stream",
          "name": "stderr",
          "text": [
            "\n"
          ]
        },
        {
          "output_type": "display_data",
          "data": {
            "text/plain": [
              "<IPython.core.display.HTML object>"
            ],
            "text/html": []
          },
          "metadata": {}
        },
        {
          "output_type": "display_data",
          "data": {
            "text/plain": [
              "<IPython.core.display.HTML object>"
            ],
            "text/html": [
              "<br>    <style><br>        .wandb-row {<br>            display: flex;<br>            flex-direction: row;<br>            flex-wrap: wrap;<br>            justify-content: flex-start;<br>            width: 100%;<br>        }<br>        .wandb-col {<br>            display: flex;<br>            flex-direction: column;<br>            flex-basis: 100%;<br>            flex: 1;<br>            padding: 10px;<br>        }<br>    </style><br><div class=\"wandb-row\"><div class=\"wandb-col\"><h3>Run history:</h3><br/><table class=\"wandb\"><tr><td>epoch</td><td>▁▂▃▃▄▅▆▆▇█</td></tr><tr><td>train_acc</td><td>▁▇▇███████</td></tr><tr><td>train_loss</td><td>▇▁▃▄▅▆▇▇██</td></tr><tr><td>training time</td><td>█▁▁▂▁▁▁▁▁▁</td></tr><tr><td>val_acc</td><td>█▁███▁█▅██</td></tr><tr><td>val_loss</td><td>▁▃▂▂▂█▂▄▃▂</td></tr></table><br/></div><div class=\"wandb-col\"><h3>Run summary:</h3><br/><table class=\"wandb\"><tr><td>epoch</td><td>10</td></tr><tr><td>train_acc</td><td>64.00784</td></tr><tr><td>train_loss</td><td>3.48855</td></tr><tr><td>training time</td><td>47.0937</td></tr><tr><td>val_acc</td><td>59.3625</td></tr><tr><td>val_loss</td><td>24.94463</td></tr></table><br/></div></div>"
            ]
          },
          "metadata": {}
        },
        {
          "output_type": "display_data",
          "data": {
            "text/plain": [
              "<IPython.core.display.HTML object>"
            ],
            "text/html": [
              " View run <strong style=\"color:#cdcd00\"> num_of_decoders(2)_ cell_type(rnn)_latent_dim(256)_lr(0.05)_optimizer(rmsprop)_dropout(0.3)inp_emb_size(256)_batch_size(128</strong> at: <a href='https://wandb.ai/na21b050-iit-madras/CS6910_Assignment3/runs/y6ofsyiy' target=\"_blank\">https://wandb.ai/na21b050-iit-madras/CS6910_Assignment3/runs/y6ofsyiy</a><br> View project at: <a href='https://wandb.ai/na21b050-iit-madras/CS6910_Assignment3' target=\"_blank\">https://wandb.ai/na21b050-iit-madras/CS6910_Assignment3</a><br>Synced 5 W&B file(s), 0 media file(s), 0 artifact file(s) and 0 other file(s)"
            ]
          },
          "metadata": {}
        },
        {
          "output_type": "display_data",
          "data": {
            "text/plain": [
              "<IPython.core.display.HTML object>"
            ],
            "text/html": [
              "Find logs at: <code>./wandb/run-20250519_095932-y6ofsyiy/logs</code>"
            ]
          },
          "metadata": {}
        },
        {
          "output_type": "stream",
          "name": "stderr",
          "text": [
            "\u001b[34m\u001b[1mwandb\u001b[0m: Agent Starting Run: jn241vpp with config:\n",
            "\u001b[34m\u001b[1mwandb\u001b[0m: \tbatch_size: 128\n",
            "\u001b[34m\u001b[1mwandb\u001b[0m: \tcell_type: rnn\n",
            "\u001b[34m\u001b[1mwandb\u001b[0m: \tdropout: 0.3\n",
            "\u001b[34m\u001b[1mwandb\u001b[0m: \tinp_emb_size: 256\n",
            "\u001b[34m\u001b[1mwandb\u001b[0m: \tlatent_dim: 64\n",
            "\u001b[34m\u001b[1mwandb\u001b[0m: \tlr: 0.05\n",
            "\u001b[34m\u001b[1mwandb\u001b[0m: \tnum_of_decoders: 2\n",
            "\u001b[34m\u001b[1mwandb\u001b[0m: \tnum_of_encoders: 3\n",
            "\u001b[34m\u001b[1mwandb\u001b[0m: \toptimizer: adam\n"
          ]
        },
        {
          "output_type": "display_data",
          "data": {
            "text/plain": [
              "<IPython.core.display.HTML object>"
            ],
            "text/html": [
              "Tracking run with wandb version 0.19.11"
            ]
          },
          "metadata": {}
        },
        {
          "output_type": "display_data",
          "data": {
            "text/plain": [
              "<IPython.core.display.HTML object>"
            ],
            "text/html": [
              "Run data is saved locally in <code>/content/wandb/run-20250519_100814-jn241vpp</code>"
            ]
          },
          "metadata": {}
        },
        {
          "output_type": "display_data",
          "data": {
            "text/plain": [
              "<IPython.core.display.HTML object>"
            ],
            "text/html": [
              "Syncing run <strong><a href='https://wandb.ai/na21b050-iit-madras/CS6910_Assignment3/runs/jn241vpp' target=\"_blank\">fast-sweep-2</a></strong> to <a href='https://wandb.ai/na21b050-iit-madras/CS6910_Assignment3' target=\"_blank\">Weights & Biases</a> (<a href='https://wandb.me/developer-guide' target=\"_blank\">docs</a>)<br>Sweep page: <a href='https://wandb.ai/na21b050-iit-madras/CS6910_Assignment3/sweeps/h16aspho' target=\"_blank\">https://wandb.ai/na21b050-iit-madras/CS6910_Assignment3/sweeps/h16aspho</a>"
            ]
          },
          "metadata": {}
        },
        {
          "output_type": "display_data",
          "data": {
            "text/plain": [
              "<IPython.core.display.HTML object>"
            ],
            "text/html": [
              " View project at <a href='https://wandb.ai/na21b050-iit-madras/CS6910_Assignment3' target=\"_blank\">https://wandb.ai/na21b050-iit-madras/CS6910_Assignment3</a>"
            ]
          },
          "metadata": {}
        },
        {
          "output_type": "display_data",
          "data": {
            "text/plain": [
              "<IPython.core.display.HTML object>"
            ],
            "text/html": [
              " View sweep at <a href='https://wandb.ai/na21b050-iit-madras/CS6910_Assignment3/sweeps/h16aspho' target=\"_blank\">https://wandb.ai/na21b050-iit-madras/CS6910_Assignment3/sweeps/h16aspho</a>"
            ]
          },
          "metadata": {}
        },
        {
          "output_type": "display_data",
          "data": {
            "text/plain": [
              "<IPython.core.display.HTML object>"
            ],
            "text/html": [
              " View run at <a href='https://wandb.ai/na21b050-iit-madras/CS6910_Assignment3/runs/jn241vpp' target=\"_blank\">https://wandb.ai/na21b050-iit-madras/CS6910_Assignment3/runs/jn241vpp</a>"
            ]
          },
          "metadata": {}
        },
        {
          "output_type": "stream",
          "name": "stderr",
          "text": [
            "Epochs :   7%|▋         | 1/15 [01:19<18:36, 79.72s/it]"
          ]
        },
        {
          "output_type": "stream",
          "name": "stdout",
          "text": [
            "\n",
            "Train Loss: 1.3643 Train Accuracy: 60.9217 Validation Loss: 4.2198 Validation Accuracy: 59.2892\n",
            "\n",
            "Time taken for the epoch 79.7182\n"
          ]
        },
        {
          "output_type": "stream",
          "name": "stderr",
          "text": [
            "\rEpochs :  13%|█▎        | 2/15 [02:07<13:10, 60.83s/it]"
          ]
        },
        {
          "output_type": "stream",
          "name": "stdout",
          "text": [
            "\n",
            "Train Loss: 1.2004 Train Accuracy: 66.6724 Validation Loss: 6.2251 Validation Accuracy: 58.3550\n",
            "\n",
            "Time taken for the epoch 47.6014\n"
          ]
        },
        {
          "output_type": "stream",
          "name": "stderr",
          "text": [
            "\rEpochs :  20%|██        | 3/15 [02:53<10:49, 54.10s/it]"
          ]
        },
        {
          "output_type": "stream",
          "name": "stdout",
          "text": [
            "\n",
            "Train Loss: 1.2017 Train Accuracy: 66.8117 Validation Loss: 5.2639 Validation Accuracy: 58.9163\n",
            "\n",
            "Time taken for the epoch 46.0894\n"
          ]
        },
        {
          "output_type": "stream",
          "name": "stderr",
          "text": [
            "\rEpochs :  27%|██▋       | 4/15 [03:40<09:24, 51.27s/it]"
          ]
        },
        {
          "output_type": "stream",
          "name": "stdout",
          "text": [
            "\n",
            "Train Loss: 1.2038 Train Accuracy: 66.7981 Validation Loss: 26.7563 Validation Accuracy: 3.2427\n",
            "\n",
            "Time taken for the epoch 46.9276\n"
          ]
        },
        {
          "output_type": "stream",
          "name": "stderr",
          "text": [
            "\rEpochs :  33%|███▎      | 5/15 [04:26<08:14, 49.42s/it]"
          ]
        },
        {
          "output_type": "stream",
          "name": "stdout",
          "text": [
            "\n",
            "Train Loss: 1.1990 Train Accuracy: 66.7330 Validation Loss: 5.1246 Validation Accuracy: 60.2531\n",
            "\n",
            "Time taken for the epoch 46.1187\n"
          ]
        },
        {
          "output_type": "stream",
          "name": "stderr",
          "text": [
            "\rEpochs :  40%|████      | 6/15 [05:11<07:09, 47.76s/it]"
          ]
        },
        {
          "output_type": "stream",
          "name": "stdout",
          "text": [
            "\n",
            "Train Loss: 1.1910 Train Accuracy: 66.9242 Validation Loss: 25.3102 Validation Accuracy: 3.9429\n",
            "\n",
            "Time taken for the epoch 44.5477\n"
          ]
        },
        {
          "output_type": "stream",
          "name": "stderr",
          "text": [
            "\rEpochs :  47%|████▋     | 7/15 [05:56<06:17, 47.14s/it]"
          ]
        },
        {
          "output_type": "stream",
          "name": "stdout",
          "text": [
            "\n",
            "Train Loss: 1.1859 Train Accuracy: 66.9729 Validation Loss: 4.9405 Validation Accuracy: 58.6820\n",
            "\n",
            "Time taken for the epoch 45.8435\n"
          ]
        },
        {
          "output_type": "stream",
          "name": "stderr",
          "text": [
            "\rEpochs :  53%|█████▎    | 8/15 [06:42<05:26, 46.61s/it]"
          ]
        },
        {
          "output_type": "stream",
          "name": "stdout",
          "text": [
            "\n",
            "Train Loss: 1.1779 Train Accuracy: 67.2133 Validation Loss: 4.1245 Validation Accuracy: 60.1525\n",
            "\n",
            "Time taken for the epoch 45.4645\n"
          ]
        },
        {
          "output_type": "stream",
          "name": "stderr",
          "text": [
            "\rEpochs :  60%|██████    | 9/15 [07:28<04:39, 46.61s/it]"
          ]
        },
        {
          "output_type": "stream",
          "name": "stdout",
          "text": [
            "\n",
            "Train Loss: 1.1743 Train Accuracy: 67.4317 Validation Loss: 4.7248 Validation Accuracy: 57.5721\n",
            "\n",
            "Time taken for the epoch 46.6031\n"
          ]
        },
        {
          "output_type": "stream",
          "name": "stderr",
          "text": [
            "Epochs :  67%|██████▋   | 10/15 [08:15<04:07, 49.58s/it]"
          ]
        },
        {
          "output_type": "stream",
          "name": "stdout",
          "text": [
            "\n",
            "Train Loss: 1.1716 Train Accuracy: 67.5090 Validation Loss: 4.2152 Validation Accuracy: 58.9391\n",
            "\n",
            "Time taken for the epoch 46.8693\n",
            "\n",
            "Model trained successfully !!\n"
          ]
        },
        {
          "output_type": "stream",
          "name": "stderr",
          "text": [
            "\n"
          ]
        },
        {
          "output_type": "display_data",
          "data": {
            "text/plain": [
              "<IPython.core.display.HTML object>"
            ],
            "text/html": []
          },
          "metadata": {}
        },
        {
          "output_type": "display_data",
          "data": {
            "text/plain": [
              "<IPython.core.display.HTML object>"
            ],
            "text/html": [
              "<br>    <style><br>        .wandb-row {<br>            display: flex;<br>            flex-direction: row;<br>            flex-wrap: wrap;<br>            justify-content: flex-start;<br>            width: 100%;<br>        }<br>        .wandb-col {<br>            display: flex;<br>            flex-direction: column;<br>            flex-basis: 100%;<br>            flex: 1;<br>            padding: 10px;<br>        }<br>    </style><br><div class=\"wandb-row\"><div class=\"wandb-col\"><h3>Run history:</h3><br/><table class=\"wandb\"><tr><td>epoch</td><td>▁▂▃▃▄▅▆▆▇█</td></tr><tr><td>train_acc</td><td>▁▇▇▇▇▇▇███</td></tr><tr><td>train_loss</td><td>█▂▂▂▂▂▂▁▁▁</td></tr><tr><td>training time</td><td>█▂▁▁▁▁▁▁▁▁</td></tr><tr><td>val_acc</td><td>███▁█▁████</td></tr><tr><td>val_loss</td><td>▁▂▁█▁█▁▁▁▁</td></tr></table><br/></div><div class=\"wandb-col\"><h3>Run summary:</h3><br/><table class=\"wandb\"><tr><td>epoch</td><td>10</td></tr><tr><td>train_acc</td><td>67.50905</td></tr><tr><td>train_loss</td><td>1.17162</td></tr><tr><td>training time</td><td>46.86932</td></tr><tr><td>val_acc</td><td>58.93906</td></tr><tr><td>val_loss</td><td>4.21523</td></tr></table><br/></div></div>"
            ]
          },
          "metadata": {}
        },
        {
          "output_type": "display_data",
          "data": {
            "text/plain": [
              "<IPython.core.display.HTML object>"
            ],
            "text/html": [
              " View run <strong style=\"color:#cdcd00\"> num_of_decoders(2)_ cell_type(rnn)_latent_dim(64)_lr(0.05)_optimizer(adam)_dropout(0.3)inp_emb_size(256)_batch_size(128</strong> at: <a href='https://wandb.ai/na21b050-iit-madras/CS6910_Assignment3/runs/jn241vpp' target=\"_blank\">https://wandb.ai/na21b050-iit-madras/CS6910_Assignment3/runs/jn241vpp</a><br> View project at: <a href='https://wandb.ai/na21b050-iit-madras/CS6910_Assignment3' target=\"_blank\">https://wandb.ai/na21b050-iit-madras/CS6910_Assignment3</a><br>Synced 5 W&B file(s), 0 media file(s), 0 artifact file(s) and 0 other file(s)"
            ]
          },
          "metadata": {}
        },
        {
          "output_type": "display_data",
          "data": {
            "text/plain": [
              "<IPython.core.display.HTML object>"
            ],
            "text/html": [
              "Find logs at: <code>./wandb/run-20250519_100814-jn241vpp/logs</code>"
            ]
          },
          "metadata": {}
        },
        {
          "output_type": "stream",
          "name": "stderr",
          "text": [
            "\u001b[34m\u001b[1mwandb\u001b[0m: Agent Starting Run: x4is0lx1 with config:\n",
            "\u001b[34m\u001b[1mwandb\u001b[0m: \tbatch_size: 128\n",
            "\u001b[34m\u001b[1mwandb\u001b[0m: \tcell_type: rnn\n",
            "\u001b[34m\u001b[1mwandb\u001b[0m: \tdropout: 0.5\n",
            "\u001b[34m\u001b[1mwandb\u001b[0m: \tinp_emb_size: 128\n",
            "\u001b[34m\u001b[1mwandb\u001b[0m: \tlatent_dim: 512\n",
            "\u001b[34m\u001b[1mwandb\u001b[0m: \tlr: 0.001\n",
            "\u001b[34m\u001b[1mwandb\u001b[0m: \tnum_of_decoders: 1\n",
            "\u001b[34m\u001b[1mwandb\u001b[0m: \tnum_of_encoders: 4\n",
            "\u001b[34m\u001b[1mwandb\u001b[0m: \toptimizer: adam\n"
          ]
        },
        {
          "output_type": "display_data",
          "data": {
            "text/plain": [
              "<IPython.core.display.HTML object>"
            ],
            "text/html": [
              "Tracking run with wandb version 0.19.11"
            ]
          },
          "metadata": {}
        },
        {
          "output_type": "display_data",
          "data": {
            "text/plain": [
              "<IPython.core.display.HTML object>"
            ],
            "text/html": [
              "Run data is saved locally in <code>/content/wandb/run-20250519_101637-x4is0lx1</code>"
            ]
          },
          "metadata": {}
        },
        {
          "output_type": "display_data",
          "data": {
            "text/plain": [
              "<IPython.core.display.HTML object>"
            ],
            "text/html": [
              "Syncing run <strong><a href='https://wandb.ai/na21b050-iit-madras/CS6910_Assignment3/runs/x4is0lx1' target=\"_blank\">electric-sweep-3</a></strong> to <a href='https://wandb.ai/na21b050-iit-madras/CS6910_Assignment3' target=\"_blank\">Weights & Biases</a> (<a href='https://wandb.me/developer-guide' target=\"_blank\">docs</a>)<br>Sweep page: <a href='https://wandb.ai/na21b050-iit-madras/CS6910_Assignment3/sweeps/h16aspho' target=\"_blank\">https://wandb.ai/na21b050-iit-madras/CS6910_Assignment3/sweeps/h16aspho</a>"
            ]
          },
          "metadata": {}
        },
        {
          "output_type": "display_data",
          "data": {
            "text/plain": [
              "<IPython.core.display.HTML object>"
            ],
            "text/html": [
              " View project at <a href='https://wandb.ai/na21b050-iit-madras/CS6910_Assignment3' target=\"_blank\">https://wandb.ai/na21b050-iit-madras/CS6910_Assignment3</a>"
            ]
          },
          "metadata": {}
        },
        {
          "output_type": "display_data",
          "data": {
            "text/plain": [
              "<IPython.core.display.HTML object>"
            ],
            "text/html": [
              " View sweep at <a href='https://wandb.ai/na21b050-iit-madras/CS6910_Assignment3/sweeps/h16aspho' target=\"_blank\">https://wandb.ai/na21b050-iit-madras/CS6910_Assignment3/sweeps/h16aspho</a>"
            ]
          },
          "metadata": {}
        },
        {
          "output_type": "display_data",
          "data": {
            "text/plain": [
              "<IPython.core.display.HTML object>"
            ],
            "text/html": [
              " View run at <a href='https://wandb.ai/na21b050-iit-madras/CS6910_Assignment3/runs/x4is0lx1' target=\"_blank\">https://wandb.ai/na21b050-iit-madras/CS6910_Assignment3/runs/x4is0lx1</a>"
            ]
          },
          "metadata": {}
        },
        {
          "output_type": "stream",
          "name": "stderr",
          "text": [
            "\rEpochs :   0%|          | 0/15 [00:00<?, ?it/s]/usr/local/lib/python3.11/dist-packages/keras/src/optimizers/base_optimizer.py:774: UserWarning: Gradients do not exist for variables ['seed_generator/seed_generator_state', 'encoder/simple_rnn_1/simple_rnn_cell/kernel', 'encoder/simple_rnn_1/simple_rnn_cell/recurrent_kernel', 'encoder/simple_rnn_1/simple_rnn_cell/bias', 'seed_generator_1/seed_generator_state', 'encoder/simple_rnn_2/simple_rnn_cell/kernel', 'encoder/simple_rnn_2/simple_rnn_cell/recurrent_kernel', 'encoder/simple_rnn_2/simple_rnn_cell/bias', 'seed_generator_2/seed_generator_state', 'encoder/simple_rnn_3/simple_rnn_cell/kernel', 'encoder/simple_rnn_3/simple_rnn_cell/recurrent_kernel', 'encoder/simple_rnn_3/simple_rnn_cell/bias', 'seed_generator_3/seed_generator_state', 'seed_generator_4/seed_generator_state'] when minimizing the loss. If using `model.compile()`, did you forget to provide a `loss` argument?\n",
            "  warnings.warn(\n",
            "Epochs :   7%|▋         | 1/15 [00:55<12:56, 55.45s/it]"
          ]
        },
        {
          "output_type": "stream",
          "name": "stdout",
          "text": [
            "\n",
            "Train Loss: 1.1082 Train Accuracy: 64.0297 Validation Loss: 3.4374 Validation Accuracy: 59.5153\n",
            "\n",
            "Time taken for the epoch 55.4470\n"
          ]
        },
        {
          "output_type": "stream",
          "name": "stderr",
          "text": [
            "\rEpochs :  13%|█▎        | 2/15 [01:30<09:22, 43.28s/it]"
          ]
        },
        {
          "output_type": "stream",
          "name": "stdout",
          "text": [
            "\n",
            "Train Loss: 0.8967 Train Accuracy: 72.5217 Validation Loss: 4.6040 Validation Accuracy: 43.2625\n",
            "\n",
            "Time taken for the epoch 34.7505\n"
          ]
        },
        {
          "output_type": "stream",
          "name": "stderr",
          "text": [
            "\rEpochs :  20%|██        | 3/15 [02:05<07:53, 39.45s/it]"
          ]
        },
        {
          "output_type": "stream",
          "name": "stdout",
          "text": [
            "\n",
            "Train Loss: 0.8169 Train Accuracy: 75.0742 Validation Loss: 3.3765 Validation Accuracy: 54.6115\n",
            "\n",
            "Time taken for the epoch 34.8884\n"
          ]
        },
        {
          "output_type": "stream",
          "name": "stderr",
          "text": [
            "\rEpochs :  27%|██▋       | 4/15 [02:39<06:50, 37.28s/it]"
          ]
        },
        {
          "output_type": "stream",
          "name": "stdout",
          "text": [
            "\n",
            "Train Loss: 0.7646 Train Accuracy: 76.5365 Validation Loss: 6.0965 Validation Accuracy: 42.9775\n",
            "\n",
            "Time taken for the epoch 33.9360\n"
          ]
        },
        {
          "output_type": "stream",
          "name": "stderr",
          "text": [
            "\rEpochs :  33%|███▎      | 5/15 [03:13<06:02, 36.28s/it]"
          ]
        },
        {
          "output_type": "stream",
          "name": "stdout",
          "text": [
            "\n",
            "Train Loss: 0.7257 Train Accuracy: 77.7308 Validation Loss: 4.3206 Validation Accuracy: 47.0252\n",
            "\n",
            "Time taken for the epoch 34.5092\n"
          ]
        },
        {
          "output_type": "stream",
          "name": "stderr",
          "text": [
            "Epochs :  40%|████      | 6/15 [03:48<05:43, 38.12s/it]"
          ]
        },
        {
          "output_type": "stream",
          "name": "stdout",
          "text": [
            "\n",
            "Train Loss: 0.6959 Train Accuracy: 78.5523 Validation Loss: 11.6485 Validation Accuracy: 22.7763\n",
            "\n",
            "Time taken for the epoch 35.1499\n",
            "\n",
            "Model trained successfully !!\n"
          ]
        },
        {
          "output_type": "stream",
          "name": "stderr",
          "text": [
            "\n"
          ]
        },
        {
          "output_type": "display_data",
          "data": {
            "text/plain": [
              "<IPython.core.display.HTML object>"
            ],
            "text/html": []
          },
          "metadata": {}
        },
        {
          "output_type": "display_data",
          "data": {
            "text/plain": [
              "<IPython.core.display.HTML object>"
            ],
            "text/html": [
              "<br>    <style><br>        .wandb-row {<br>            display: flex;<br>            flex-direction: row;<br>            flex-wrap: wrap;<br>            justify-content: flex-start;<br>            width: 100%;<br>        }<br>        .wandb-col {<br>            display: flex;<br>            flex-direction: column;<br>            flex-basis: 100%;<br>            flex: 1;<br>            padding: 10px;<br>        }<br>    </style><br><div class=\"wandb-row\"><div class=\"wandb-col\"><h3>Run history:</h3><br/><table class=\"wandb\"><tr><td>epoch</td><td>▁▂▄▅▇█</td></tr><tr><td>train_acc</td><td>▁▅▆▇██</td></tr><tr><td>train_loss</td><td>█▄▃▂▂▁</td></tr><tr><td>training time</td><td>█▁▁▁▁▁</td></tr><tr><td>val_acc</td><td>█▅▇▅▆▁</td></tr><tr><td>val_loss</td><td>▁▂▁▃▂█</td></tr></table><br/></div><div class=\"wandb-col\"><h3>Run summary:</h3><br/><table class=\"wandb\"><tr><td>epoch</td><td>6</td></tr><tr><td>train_acc</td><td>78.55229</td></tr><tr><td>train_loss</td><td>0.69591</td></tr><tr><td>training time</td><td>35.14986</td></tr><tr><td>val_acc</td><td>22.77633</td></tr><tr><td>val_loss</td><td>11.64853</td></tr></table><br/></div></div>"
            ]
          },
          "metadata": {}
        },
        {
          "output_type": "display_data",
          "data": {
            "text/plain": [
              "<IPython.core.display.HTML object>"
            ],
            "text/html": [
              " View run <strong style=\"color:#cdcd00\"> num_of_decoders(1)_ cell_type(rnn)_latent_dim(512)_lr(0.001)_optimizer(adam)_dropout(0.5)inp_emb_size(128)_batch_size(128</strong> at: <a href='https://wandb.ai/na21b050-iit-madras/CS6910_Assignment3/runs/x4is0lx1' target=\"_blank\">https://wandb.ai/na21b050-iit-madras/CS6910_Assignment3/runs/x4is0lx1</a><br> View project at: <a href='https://wandb.ai/na21b050-iit-madras/CS6910_Assignment3' target=\"_blank\">https://wandb.ai/na21b050-iit-madras/CS6910_Assignment3</a><br>Synced 5 W&B file(s), 0 media file(s), 0 artifact file(s) and 0 other file(s)"
            ]
          },
          "metadata": {}
        },
        {
          "output_type": "display_data",
          "data": {
            "text/plain": [
              "<IPython.core.display.HTML object>"
            ],
            "text/html": [
              "Find logs at: <code>./wandb/run-20250519_101637-x4is0lx1/logs</code>"
            ]
          },
          "metadata": {}
        },
        {
          "output_type": "stream",
          "name": "stderr",
          "text": [
            "\u001b[34m\u001b[1mwandb\u001b[0m: Agent Starting Run: 886kdggf with config:\n",
            "\u001b[34m\u001b[1mwandb\u001b[0m: \tbatch_size: 128\n",
            "\u001b[34m\u001b[1mwandb\u001b[0m: \tcell_type: rnn\n",
            "\u001b[34m\u001b[1mwandb\u001b[0m: \tdropout: 0.3\n",
            "\u001b[34m\u001b[1mwandb\u001b[0m: \tinp_emb_size: 256\n",
            "\u001b[34m\u001b[1mwandb\u001b[0m: \tlatent_dim: 256\n",
            "\u001b[34m\u001b[1mwandb\u001b[0m: \tlr: 0.05\n",
            "\u001b[34m\u001b[1mwandb\u001b[0m: \tnum_of_decoders: 3\n",
            "\u001b[34m\u001b[1mwandb\u001b[0m: \tnum_of_encoders: 4\n",
            "\u001b[34m\u001b[1mwandb\u001b[0m: \toptimizer: rmsprop\n"
          ]
        },
        {
          "output_type": "display_data",
          "data": {
            "text/plain": [
              "<IPython.core.display.HTML object>"
            ],
            "text/html": [
              "Tracking run with wandb version 0.19.11"
            ]
          },
          "metadata": {}
        },
        {
          "output_type": "display_data",
          "data": {
            "text/plain": [
              "<IPython.core.display.HTML object>"
            ],
            "text/html": [
              "Run data is saved locally in <code>/content/wandb/run-20250519_102033-886kdggf</code>"
            ]
          },
          "metadata": {}
        },
        {
          "output_type": "display_data",
          "data": {
            "text/plain": [
              "<IPython.core.display.HTML object>"
            ],
            "text/html": [
              "Syncing run <strong><a href='https://wandb.ai/na21b050-iit-madras/CS6910_Assignment3/runs/886kdggf' target=\"_blank\">lucky-sweep-4</a></strong> to <a href='https://wandb.ai/na21b050-iit-madras/CS6910_Assignment3' target=\"_blank\">Weights & Biases</a> (<a href='https://wandb.me/developer-guide' target=\"_blank\">docs</a>)<br>Sweep page: <a href='https://wandb.ai/na21b050-iit-madras/CS6910_Assignment3/sweeps/h16aspho' target=\"_blank\">https://wandb.ai/na21b050-iit-madras/CS6910_Assignment3/sweeps/h16aspho</a>"
            ]
          },
          "metadata": {}
        },
        {
          "output_type": "display_data",
          "data": {
            "text/plain": [
              "<IPython.core.display.HTML object>"
            ],
            "text/html": [
              " View project at <a href='https://wandb.ai/na21b050-iit-madras/CS6910_Assignment3' target=\"_blank\">https://wandb.ai/na21b050-iit-madras/CS6910_Assignment3</a>"
            ]
          },
          "metadata": {}
        },
        {
          "output_type": "display_data",
          "data": {
            "text/plain": [
              "<IPython.core.display.HTML object>"
            ],
            "text/html": [
              " View sweep at <a href='https://wandb.ai/na21b050-iit-madras/CS6910_Assignment3/sweeps/h16aspho' target=\"_blank\">https://wandb.ai/na21b050-iit-madras/CS6910_Assignment3/sweeps/h16aspho</a>"
            ]
          },
          "metadata": {}
        },
        {
          "output_type": "display_data",
          "data": {
            "text/plain": [
              "<IPython.core.display.HTML object>"
            ],
            "text/html": [
              " View run at <a href='https://wandb.ai/na21b050-iit-madras/CS6910_Assignment3/runs/886kdggf' target=\"_blank\">https://wandb.ai/na21b050-iit-madras/CS6910_Assignment3/runs/886kdggf</a>"
            ]
          },
          "metadata": {}
        },
        {
          "output_type": "stream",
          "name": "stderr",
          "text": [
            "\rEpochs :   0%|          | 0/15 [00:00<?, ?it/s]/usr/local/lib/python3.11/dist-packages/keras/src/optimizers/base_optimizer.py:774: UserWarning: Gradients do not exist for variables ['seed_generator/seed_generator_state', 'seed_generator_1/seed_generator_state', 'seed_generator_2/seed_generator_state', 'encoder/simple_rnn_3/simple_rnn_cell/kernel', 'encoder/simple_rnn_3/simple_rnn_cell/recurrent_kernel', 'encoder/simple_rnn_3/simple_rnn_cell/bias', 'seed_generator_3/seed_generator_state', 'seed_generator_4/seed_generator_state', 'seed_generator_5/seed_generator_state', 'seed_generator_6/seed_generator_state'] when minimizing the loss. If using `model.compile()`, did you forget to provide a `loss` argument?\n",
            "  warnings.warn(\n",
            "Epochs :   7%|▋         | 1/15 [01:55<26:56, 115.46s/it]"
          ]
        },
        {
          "output_type": "stream",
          "name": "stdout",
          "text": [
            "\n",
            "Train Loss: 3.8281 Train Accuracy: 54.8925 Validation Loss: 10.8419 Validation Accuracy: 59.8480\n",
            "\n",
            "Time taken for the epoch 115.4541\n"
          ]
        },
        {
          "output_type": "stream",
          "name": "stderr",
          "text": [
            "\rEpochs :  13%|█▎        | 2/15 [03:03<18:58, 87.58s/it] "
          ]
        },
        {
          "output_type": "stream",
          "name": "stdout",
          "text": [
            "\n",
            "Train Loss: 2.9604 Train Accuracy: 61.8840 Validation Loss: 10.6068 Validation Accuracy: 59.2600\n",
            "\n",
            "Time taken for the epoch 68.0652\n"
          ]
        },
        {
          "output_type": "stream",
          "name": "stderr",
          "text": [
            "\rEpochs :  20%|██        | 3/15 [04:11<15:43, 78.61s/it]"
          ]
        },
        {
          "output_type": "stream",
          "name": "stdout",
          "text": [
            "\n",
            "Train Loss: 3.1587 Train Accuracy: 61.5961 Validation Loss: 12.3200 Validation Accuracy: 59.1918\n",
            "\n",
            "Time taken for the epoch 67.9287\n"
          ]
        },
        {
          "output_type": "stream",
          "name": "stderr",
          "text": [
            "\rEpochs :  27%|██▋       | 4/15 [05:20<13:43, 74.85s/it]"
          ]
        },
        {
          "output_type": "stream",
          "name": "stdout",
          "text": [
            "\n",
            "Train Loss: 3.1884 Train Accuracy: 61.4885 Validation Loss: 38.3449 Validation Accuracy: 17.3879\n",
            "\n",
            "Time taken for the epoch 69.0714\n"
          ]
        },
        {
          "output_type": "stream",
          "name": "stderr",
          "text": [
            "\rEpochs :  33%|███▎      | 5/15 [06:27<12:00, 72.06s/it]"
          ]
        },
        {
          "output_type": "stream",
          "name": "stdout",
          "text": [
            "\n",
            "Train Loss: 3.2315 Train Accuracy: 61.5671 Validation Loss: 15.6255 Validation Accuracy: 58.4230\n",
            "\n",
            "Time taken for the epoch 67.1199\n"
          ]
        },
        {
          "output_type": "stream",
          "name": "stderr",
          "text": [
            "Epochs :  40%|████      | 6/15 [07:34<11:21, 75.70s/it]"
          ]
        },
        {
          "output_type": "stream",
          "name": "stdout",
          "text": [
            "\n",
            "Train Loss: 3.2538 Train Accuracy: 61.4004 Validation Loss: 9.8382 Validation Accuracy: 58.2355\n",
            "\n",
            "Time taken for the epoch 66.5370\n",
            "\n",
            "Model trained successfully !!\n"
          ]
        },
        {
          "output_type": "stream",
          "name": "stderr",
          "text": [
            "\n"
          ]
        },
        {
          "output_type": "display_data",
          "data": {
            "text/plain": [
              "<IPython.core.display.HTML object>"
            ],
            "text/html": []
          },
          "metadata": {}
        },
        {
          "output_type": "display_data",
          "data": {
            "text/plain": [
              "<IPython.core.display.HTML object>"
            ],
            "text/html": [
              "<br>    <style><br>        .wandb-row {<br>            display: flex;<br>            flex-direction: row;<br>            flex-wrap: wrap;<br>            justify-content: flex-start;<br>            width: 100%;<br>        }<br>        .wandb-col {<br>            display: flex;<br>            flex-direction: column;<br>            flex-basis: 100%;<br>            flex: 1;<br>            padding: 10px;<br>        }<br>    </style><br><div class=\"wandb-row\"><div class=\"wandb-col\"><h3>Run history:</h3><br/><table class=\"wandb\"><tr><td>epoch</td><td>▁▂▄▅▇█</td></tr><tr><td>train_acc</td><td>▁█████</td></tr><tr><td>train_loss</td><td>█▁▃▃▃▃</td></tr><tr><td>training time</td><td>█▁▁▁▁▁</td></tr><tr><td>val_acc</td><td>███▁██</td></tr><tr><td>val_loss</td><td>▁▁▂█▂▁</td></tr></table><br/></div><div class=\"wandb-col\"><h3>Run summary:</h3><br/><table class=\"wandb\"><tr><td>epoch</td><td>6</td></tr><tr><td>train_acc</td><td>61.40037</td></tr><tr><td>train_loss</td><td>3.25379</td></tr><tr><td>training time</td><td>66.53698</td></tr><tr><td>val_acc</td><td>58.23555</td></tr><tr><td>val_loss</td><td>9.83823</td></tr></table><br/></div></div>"
            ]
          },
          "metadata": {}
        },
        {
          "output_type": "display_data",
          "data": {
            "text/plain": [
              "<IPython.core.display.HTML object>"
            ],
            "text/html": [
              " View run <strong style=\"color:#cdcd00\"> num_of_decoders(3)_ cell_type(rnn)_latent_dim(256)_lr(0.05)_optimizer(rmsprop)_dropout(0.3)inp_emb_size(256)_batch_size(128</strong> at: <a href='https://wandb.ai/na21b050-iit-madras/CS6910_Assignment3/runs/886kdggf' target=\"_blank\">https://wandb.ai/na21b050-iit-madras/CS6910_Assignment3/runs/886kdggf</a><br> View project at: <a href='https://wandb.ai/na21b050-iit-madras/CS6910_Assignment3' target=\"_blank\">https://wandb.ai/na21b050-iit-madras/CS6910_Assignment3</a><br>Synced 5 W&B file(s), 0 media file(s), 0 artifact file(s) and 0 other file(s)"
            ]
          },
          "metadata": {}
        },
        {
          "output_type": "display_data",
          "data": {
            "text/plain": [
              "<IPython.core.display.HTML object>"
            ],
            "text/html": [
              "Find logs at: <code>./wandb/run-20250519_102033-886kdggf/logs</code>"
            ]
          },
          "metadata": {}
        },
        {
          "output_type": "stream",
          "name": "stderr",
          "text": [
            "\u001b[34m\u001b[1mwandb\u001b[0m: Agent Starting Run: qoxfvuf8 with config:\n",
            "\u001b[34m\u001b[1mwandb\u001b[0m: \tbatch_size: 128\n",
            "\u001b[34m\u001b[1mwandb\u001b[0m: \tcell_type: rnn\n",
            "\u001b[34m\u001b[1mwandb\u001b[0m: \tdropout: 0.3\n",
            "\u001b[34m\u001b[1mwandb\u001b[0m: \tinp_emb_size: 256\n",
            "\u001b[34m\u001b[1mwandb\u001b[0m: \tlatent_dim: 64\n",
            "\u001b[34m\u001b[1mwandb\u001b[0m: \tlr: 0.001\n",
            "\u001b[34m\u001b[1mwandb\u001b[0m: \tnum_of_decoders: 3\n",
            "\u001b[34m\u001b[1mwandb\u001b[0m: \tnum_of_encoders: 3\n",
            "\u001b[34m\u001b[1mwandb\u001b[0m: \toptimizer: rmsprop\n"
          ]
        },
        {
          "output_type": "display_data",
          "data": {
            "text/plain": [
              "<IPython.core.display.HTML object>"
            ],
            "text/html": [
              "Tracking run with wandb version 0.19.11"
            ]
          },
          "metadata": {}
        },
        {
          "output_type": "display_data",
          "data": {
            "text/plain": [
              "<IPython.core.display.HTML object>"
            ],
            "text/html": [
              "Run data is saved locally in <code>/content/wandb/run-20250519_102816-qoxfvuf8</code>"
            ]
          },
          "metadata": {}
        },
        {
          "output_type": "display_data",
          "data": {
            "text/plain": [
              "<IPython.core.display.HTML object>"
            ],
            "text/html": [
              "Syncing run <strong><a href='https://wandb.ai/na21b050-iit-madras/CS6910_Assignment3/runs/qoxfvuf8' target=\"_blank\">unique-sweep-5</a></strong> to <a href='https://wandb.ai/na21b050-iit-madras/CS6910_Assignment3' target=\"_blank\">Weights & Biases</a> (<a href='https://wandb.me/developer-guide' target=\"_blank\">docs</a>)<br>Sweep page: <a href='https://wandb.ai/na21b050-iit-madras/CS6910_Assignment3/sweeps/h16aspho' target=\"_blank\">https://wandb.ai/na21b050-iit-madras/CS6910_Assignment3/sweeps/h16aspho</a>"
            ]
          },
          "metadata": {}
        },
        {
          "output_type": "display_data",
          "data": {
            "text/plain": [
              "<IPython.core.display.HTML object>"
            ],
            "text/html": [
              " View project at <a href='https://wandb.ai/na21b050-iit-madras/CS6910_Assignment3' target=\"_blank\">https://wandb.ai/na21b050-iit-madras/CS6910_Assignment3</a>"
            ]
          },
          "metadata": {}
        },
        {
          "output_type": "display_data",
          "data": {
            "text/plain": [
              "<IPython.core.display.HTML object>"
            ],
            "text/html": [
              " View sweep at <a href='https://wandb.ai/na21b050-iit-madras/CS6910_Assignment3/sweeps/h16aspho' target=\"_blank\">https://wandb.ai/na21b050-iit-madras/CS6910_Assignment3/sweeps/h16aspho</a>"
            ]
          },
          "metadata": {}
        },
        {
          "output_type": "display_data",
          "data": {
            "text/plain": [
              "<IPython.core.display.HTML object>"
            ],
            "text/html": [
              " View run at <a href='https://wandb.ai/na21b050-iit-madras/CS6910_Assignment3/runs/qoxfvuf8' target=\"_blank\">https://wandb.ai/na21b050-iit-madras/CS6910_Assignment3/runs/qoxfvuf8</a>"
            ]
          },
          "metadata": {}
        },
        {
          "output_type": "stream",
          "name": "stderr",
          "text": [
            "\rEpochs :   0%|          | 0/15 [00:00<?, ?it/s]/usr/local/lib/python3.11/dist-packages/keras/src/optimizers/base_optimizer.py:774: UserWarning: Gradients do not exist for variables ['seed_generator/seed_generator_state', 'seed_generator_1/seed_generator_state', 'seed_generator_2/seed_generator_state', 'seed_generator_3/seed_generator_state', 'seed_generator_4/seed_generator_state', 'seed_generator_5/seed_generator_state'] when minimizing the loss. If using `model.compile()`, did you forget to provide a `loss` argument?\n",
            "  warnings.warn(\n",
            "Epochs :   7%|▋         | 1/15 [01:49<25:37, 109.84s/it]"
          ]
        },
        {
          "output_type": "stream",
          "name": "stdout",
          "text": [
            "\n",
            "Train Loss: 0.9405 Train Accuracy: 68.8893 Validation Loss: 3.1518 Validation Accuracy: 51.0242\n",
            "\n",
            "Time taken for the epoch 109.8367\n"
          ]
        },
        {
          "output_type": "stream",
          "name": "stderr",
          "text": [
            "\rEpochs :  13%|█▎        | 2/15 [02:52<17:45, 81.95s/it] "
          ]
        },
        {
          "output_type": "stream",
          "name": "stdout",
          "text": [
            "\n",
            "Train Loss: 0.6478 Train Accuracy: 80.0642 Validation Loss: 3.6449 Validation Accuracy: 52.3284\n",
            "\n",
            "Time taken for the epoch 62.4166\n"
          ]
        },
        {
          "output_type": "stream",
          "name": "stderr",
          "text": [
            "\rEpochs :  20%|██        | 3/15 [03:55<14:40, 73.38s/it]"
          ]
        },
        {
          "output_type": "stream",
          "name": "stdout",
          "text": [
            "\n",
            "Train Loss: 0.5615 Train Accuracy: 82.7519 Validation Loss: 3.9233 Validation Accuracy: 51.4415\n",
            "\n",
            "Time taken for the epoch 63.1813\n"
          ]
        },
        {
          "output_type": "stream",
          "name": "stderr",
          "text": [
            "\rEpochs :  27%|██▋       | 4/15 [04:58<12:42, 69.28s/it]"
          ]
        },
        {
          "output_type": "stream",
          "name": "stdout",
          "text": [
            "\n",
            "Train Loss: 0.5109 Train Accuracy: 84.2054 Validation Loss: 4.3110 Validation Accuracy: 49.1697\n",
            "\n",
            "Time taken for the epoch 62.9765\n"
          ]
        },
        {
          "output_type": "stream",
          "name": "stderr",
          "text": [
            "\rEpochs :  33%|███▎      | 5/15 [06:01<11:10, 67.08s/it]"
          ]
        },
        {
          "output_type": "stream",
          "name": "stdout",
          "text": [
            "\n",
            "Train Loss: 0.4756 Train Accuracy: 85.2180 Validation Loss: 4.1176 Validation Accuracy: 51.1865\n",
            "\n",
            "Time taken for the epoch 63.1915\n"
          ]
        },
        {
          "output_type": "stream",
          "name": "stderr",
          "text": [
            "\rEpochs :  40%|████      | 6/15 [07:04<09:51, 65.72s/it]"
          ]
        },
        {
          "output_type": "stream",
          "name": "stdout",
          "text": [
            "\n",
            "Train Loss: 0.4483 Train Accuracy: 86.0239 Validation Loss: 4.5405 Validation Accuracy: 49.3183\n",
            "\n",
            "Time taken for the epoch 63.0768\n"
          ]
        },
        {
          "output_type": "stream",
          "name": "stderr",
          "text": [
            "Epochs :  47%|████▋     | 7/15 [08:07<09:17, 69.69s/it]"
          ]
        },
        {
          "output_type": "stream",
          "name": "stdout",
          "text": [
            "\n",
            "Train Loss: 0.4271 Train Accuracy: 86.6349 Validation Loss: 4.5856 Validation Accuracy: 51.1654\n",
            "\n",
            "Time taken for the epoch 63.1432\n",
            "\n",
            "Model trained successfully !!\n"
          ]
        },
        {
          "output_type": "stream",
          "name": "stderr",
          "text": [
            "\n"
          ]
        },
        {
          "output_type": "display_data",
          "data": {
            "text/plain": [
              "<IPython.core.display.HTML object>"
            ],
            "text/html": []
          },
          "metadata": {}
        },
        {
          "output_type": "display_data",
          "data": {
            "text/plain": [
              "<IPython.core.display.HTML object>"
            ],
            "text/html": [
              "<br>    <style><br>        .wandb-row {<br>            display: flex;<br>            flex-direction: row;<br>            flex-wrap: wrap;<br>            justify-content: flex-start;<br>            width: 100%;<br>        }<br>        .wandb-col {<br>            display: flex;<br>            flex-direction: column;<br>            flex-basis: 100%;<br>            flex: 1;<br>            padding: 10px;<br>        }<br>    </style><br><div class=\"wandb-row\"><div class=\"wandb-col\"><h3>Run history:</h3><br/><table class=\"wandb\"><tr><td>epoch</td><td>▁▂▃▅▆▇█</td></tr><tr><td>train_acc</td><td>▁▅▆▇▇██</td></tr><tr><td>train_loss</td><td>█▄▃▂▂▁▁</td></tr><tr><td>training time</td><td>█▁▁▁▁▁▁</td></tr><tr><td>val_acc</td><td>▅█▆▁▅▁▅</td></tr><tr><td>val_loss</td><td>▁▃▅▇▆██</td></tr></table><br/></div><div class=\"wandb-col\"><h3>Run summary:</h3><br/><table class=\"wandb\"><tr><td>epoch</td><td>7</td></tr><tr><td>train_acc</td><td>86.63487</td></tr><tr><td>train_loss</td><td>0.42715</td></tr><tr><td>training time</td><td>63.14316</td></tr><tr><td>val_acc</td><td>51.1654</td></tr><tr><td>val_loss</td><td>4.58556</td></tr></table><br/></div></div>"
            ]
          },
          "metadata": {}
        },
        {
          "output_type": "display_data",
          "data": {
            "text/plain": [
              "<IPython.core.display.HTML object>"
            ],
            "text/html": [
              " View run <strong style=\"color:#cdcd00\"> num_of_decoders(3)_ cell_type(rnn)_latent_dim(64)_lr(0.001)_optimizer(rmsprop)_dropout(0.3)inp_emb_size(256)_batch_size(128</strong> at: <a href='https://wandb.ai/na21b050-iit-madras/CS6910_Assignment3/runs/qoxfvuf8' target=\"_blank\">https://wandb.ai/na21b050-iit-madras/CS6910_Assignment3/runs/qoxfvuf8</a><br> View project at: <a href='https://wandb.ai/na21b050-iit-madras/CS6910_Assignment3' target=\"_blank\">https://wandb.ai/na21b050-iit-madras/CS6910_Assignment3</a><br>Synced 5 W&B file(s), 0 media file(s), 0 artifact file(s) and 0 other file(s)"
            ]
          },
          "metadata": {}
        },
        {
          "output_type": "display_data",
          "data": {
            "text/plain": [
              "<IPython.core.display.HTML object>"
            ],
            "text/html": [
              "Find logs at: <code>./wandb/run-20250519_102816-qoxfvuf8/logs</code>"
            ]
          },
          "metadata": {}
        },
        {
          "output_type": "stream",
          "name": "stderr",
          "text": [
            "\u001b[34m\u001b[1mwandb\u001b[0m: Agent Starting Run: x1goi2zx with config:\n",
            "\u001b[34m\u001b[1mwandb\u001b[0m: \tbatch_size: 128\n",
            "\u001b[34m\u001b[1mwandb\u001b[0m: \tcell_type: rnn\n",
            "\u001b[34m\u001b[1mwandb\u001b[0m: \tdropout: 0.3\n",
            "\u001b[34m\u001b[1mwandb\u001b[0m: \tinp_emb_size: 256\n",
            "\u001b[34m\u001b[1mwandb\u001b[0m: \tlatent_dim: 128\n",
            "\u001b[34m\u001b[1mwandb\u001b[0m: \tlr: 0.05\n",
            "\u001b[34m\u001b[1mwandb\u001b[0m: \tnum_of_decoders: 3\n",
            "\u001b[34m\u001b[1mwandb\u001b[0m: \tnum_of_encoders: 4\n",
            "\u001b[34m\u001b[1mwandb\u001b[0m: \toptimizer: rmsprop\n"
          ]
        },
        {
          "output_type": "display_data",
          "data": {
            "text/plain": [
              "<IPython.core.display.HTML object>"
            ],
            "text/html": [
              "Tracking run with wandb version 0.19.11"
            ]
          },
          "metadata": {}
        },
        {
          "output_type": "display_data",
          "data": {
            "text/plain": [
              "<IPython.core.display.HTML object>"
            ],
            "text/html": [
              "Run data is saved locally in <code>/content/wandb/run-20250519_103633-x1goi2zx</code>"
            ]
          },
          "metadata": {}
        },
        {
          "output_type": "display_data",
          "data": {
            "text/plain": [
              "<IPython.core.display.HTML object>"
            ],
            "text/html": [
              "Syncing run <strong><a href='https://wandb.ai/na21b050-iit-madras/CS6910_Assignment3/runs/x1goi2zx' target=\"_blank\">effortless-sweep-6</a></strong> to <a href='https://wandb.ai/na21b050-iit-madras/CS6910_Assignment3' target=\"_blank\">Weights & Biases</a> (<a href='https://wandb.me/developer-guide' target=\"_blank\">docs</a>)<br>Sweep page: <a href='https://wandb.ai/na21b050-iit-madras/CS6910_Assignment3/sweeps/h16aspho' target=\"_blank\">https://wandb.ai/na21b050-iit-madras/CS6910_Assignment3/sweeps/h16aspho</a>"
            ]
          },
          "metadata": {}
        },
        {
          "output_type": "display_data",
          "data": {
            "text/plain": [
              "<IPython.core.display.HTML object>"
            ],
            "text/html": [
              " View project at <a href='https://wandb.ai/na21b050-iit-madras/CS6910_Assignment3' target=\"_blank\">https://wandb.ai/na21b050-iit-madras/CS6910_Assignment3</a>"
            ]
          },
          "metadata": {}
        },
        {
          "output_type": "display_data",
          "data": {
            "text/plain": [
              "<IPython.core.display.HTML object>"
            ],
            "text/html": [
              " View sweep at <a href='https://wandb.ai/na21b050-iit-madras/CS6910_Assignment3/sweeps/h16aspho' target=\"_blank\">https://wandb.ai/na21b050-iit-madras/CS6910_Assignment3/sweeps/h16aspho</a>"
            ]
          },
          "metadata": {}
        },
        {
          "output_type": "display_data",
          "data": {
            "text/plain": [
              "<IPython.core.display.HTML object>"
            ],
            "text/html": [
              " View run at <a href='https://wandb.ai/na21b050-iit-madras/CS6910_Assignment3/runs/x1goi2zx' target=\"_blank\">https://wandb.ai/na21b050-iit-madras/CS6910_Assignment3/runs/x1goi2zx</a>"
            ]
          },
          "metadata": {}
        },
        {
          "output_type": "stream",
          "name": "stderr",
          "text": [
            "Epochs :   7%|▋         | 1/15 [01:54<26:42, 114.45s/it]"
          ]
        },
        {
          "output_type": "stream",
          "name": "stdout",
          "text": [
            "\n",
            "Train Loss: 2.6935 Train Accuracy: 45.0635 Validation Loss: 17.4429 Validation Accuracy: 3.2629\n",
            "\n",
            "Time taken for the epoch 114.4456\n"
          ]
        },
        {
          "output_type": "stream",
          "name": "stderr",
          "text": [
            "\rEpochs :  13%|█▎        | 2/15 [03:00<18:37, 85.95s/it] "
          ]
        },
        {
          "output_type": "stream",
          "name": "stdout",
          "text": [
            "\n",
            "Train Loss: 1.6357 Train Accuracy: 64.6742 Validation Loss: 10.4883 Validation Accuracy: 59.7388\n",
            "\n",
            "Time taken for the epoch 65.9831\n"
          ]
        },
        {
          "output_type": "stream",
          "name": "stderr",
          "text": [
            "\rEpochs :  20%|██        | 3/15 [04:05<15:19, 76.59s/it]"
          ]
        },
        {
          "output_type": "stream",
          "name": "stdout",
          "text": [
            "\n",
            "Train Loss: 1.6863 Train Accuracy: 63.7909 Validation Loss: 8.1490 Validation Accuracy: 59.4664\n",
            "\n",
            "Time taken for the epoch 65.4517\n"
          ]
        },
        {
          "output_type": "stream",
          "name": "stderr",
          "text": [
            "\rEpochs :  27%|██▋       | 4/15 [05:13<13:23, 73.05s/it]"
          ]
        },
        {
          "output_type": "stream",
          "name": "stdout",
          "text": [
            "\n",
            "Train Loss: 1.6925 Train Accuracy: 63.6584 Validation Loss: 37.1229 Validation Accuracy: 3.3099\n",
            "\n",
            "Time taken for the epoch 67.6153\n"
          ]
        },
        {
          "output_type": "stream",
          "name": "stderr",
          "text": [
            "\rEpochs :  33%|███▎      | 5/15 [06:20<11:47, 70.79s/it]"
          ]
        },
        {
          "output_type": "stream",
          "name": "stdout",
          "text": [
            "\n",
            "Train Loss: 1.6913 Train Accuracy: 63.9087 Validation Loss: 7.9372 Validation Accuracy: 59.6345\n",
            "\n",
            "Time taken for the epoch 66.7910\n"
          ]
        },
        {
          "output_type": "stream",
          "name": "stderr",
          "text": [
            "\rEpochs :  40%|████      | 6/15 [07:27<10:26, 69.63s/it]"
          ]
        },
        {
          "output_type": "stream",
          "name": "stdout",
          "text": [
            "\n",
            "Train Loss: 1.7013 Train Accuracy: 63.9698 Validation Loss: 34.5872 Validation Accuracy: 3.3021\n",
            "\n",
            "Time taken for the epoch 67.3686\n"
          ]
        },
        {
          "output_type": "stream",
          "name": "stderr",
          "text": [
            "Epochs :  47%|████▋     | 7/15 [08:31<09:44, 73.01s/it]"
          ]
        },
        {
          "output_type": "stream",
          "name": "stdout",
          "text": [
            "\n",
            "Train Loss: 1.7027 Train Accuracy: 63.8584 Validation Loss: 6.5892 Validation Accuracy: 58.3795\n",
            "\n",
            "Time taken for the epoch 63.3367\n",
            "\n",
            "Model trained successfully !!\n"
          ]
        },
        {
          "output_type": "stream",
          "name": "stderr",
          "text": [
            "\n"
          ]
        },
        {
          "output_type": "display_data",
          "data": {
            "text/plain": [
              "<IPython.core.display.HTML object>"
            ],
            "text/html": []
          },
          "metadata": {}
        },
        {
          "output_type": "display_data",
          "data": {
            "text/plain": [
              "<IPython.core.display.HTML object>"
            ],
            "text/html": [
              "<br>    <style><br>        .wandb-row {<br>            display: flex;<br>            flex-direction: row;<br>            flex-wrap: wrap;<br>            justify-content: flex-start;<br>            width: 100%;<br>        }<br>        .wandb-col {<br>            display: flex;<br>            flex-direction: column;<br>            flex-basis: 100%;<br>            flex: 1;<br>            padding: 10px;<br>        }<br>    </style><br><div class=\"wandb-row\"><div class=\"wandb-col\"><h3>Run history:</h3><br/><table class=\"wandb\"><tr><td>epoch</td><td>▁▂▃▅▆▇█</td></tr><tr><td>train_acc</td><td>▁██████</td></tr><tr><td>train_loss</td><td>█▁▁▁▁▁▁</td></tr><tr><td>training time</td><td>█▁▁▂▁▂▁</td></tr><tr><td>val_acc</td><td>▁██▁█▁█</td></tr><tr><td>val_loss</td><td>▃▂▁█▁▇▁</td></tr></table><br/></div><div class=\"wandb-col\"><h3>Run summary:</h3><br/><table class=\"wandb\"><tr><td>epoch</td><td>7</td></tr><tr><td>train_acc</td><td>63.85836</td></tr><tr><td>train_loss</td><td>1.70266</td></tr><tr><td>training time</td><td>63.33675</td></tr><tr><td>val_acc</td><td>58.37951</td></tr><tr><td>val_loss</td><td>6.58919</td></tr></table><br/></div></div>"
            ]
          },
          "metadata": {}
        },
        {
          "output_type": "display_data",
          "data": {
            "text/plain": [
              "<IPython.core.display.HTML object>"
            ],
            "text/html": [
              " View run <strong style=\"color:#cdcd00\"> num_of_decoders(3)_ cell_type(rnn)_latent_dim(128)_lr(0.05)_optimizer(rmsprop)_dropout(0.3)inp_emb_size(256)_batch_size(128</strong> at: <a href='https://wandb.ai/na21b050-iit-madras/CS6910_Assignment3/runs/x1goi2zx' target=\"_blank\">https://wandb.ai/na21b050-iit-madras/CS6910_Assignment3/runs/x1goi2zx</a><br> View project at: <a href='https://wandb.ai/na21b050-iit-madras/CS6910_Assignment3' target=\"_blank\">https://wandb.ai/na21b050-iit-madras/CS6910_Assignment3</a><br>Synced 5 W&B file(s), 0 media file(s), 0 artifact file(s) and 0 other file(s)"
            ]
          },
          "metadata": {}
        },
        {
          "output_type": "display_data",
          "data": {
            "text/plain": [
              "<IPython.core.display.HTML object>"
            ],
            "text/html": [
              "Find logs at: <code>./wandb/run-20250519_103633-x1goi2zx/logs</code>"
            ]
          },
          "metadata": {}
        },
        {
          "output_type": "stream",
          "name": "stderr",
          "text": [
            "\u001b[34m\u001b[1mwandb\u001b[0m: Agent Starting Run: 0ukigcae with config:\n",
            "\u001b[34m\u001b[1mwandb\u001b[0m: \tbatch_size: 256\n",
            "\u001b[34m\u001b[1mwandb\u001b[0m: \tcell_type: gru\n",
            "\u001b[34m\u001b[1mwandb\u001b[0m: \tdropout: 0.3\n",
            "\u001b[34m\u001b[1mwandb\u001b[0m: \tinp_emb_size: 256\n",
            "\u001b[34m\u001b[1mwandb\u001b[0m: \tlatent_dim: 128\n",
            "\u001b[34m\u001b[1mwandb\u001b[0m: \tlr: 0.05\n",
            "\u001b[34m\u001b[1mwandb\u001b[0m: \tnum_of_decoders: 3\n",
            "\u001b[34m\u001b[1mwandb\u001b[0m: \tnum_of_encoders: 4\n",
            "\u001b[34m\u001b[1mwandb\u001b[0m: \toptimizer: rmsprop\n"
          ]
        },
        {
          "output_type": "display_data",
          "data": {
            "text/plain": [
              "<IPython.core.display.HTML object>"
            ],
            "text/html": [
              "Tracking run with wandb version 0.19.11"
            ]
          },
          "metadata": {}
        },
        {
          "output_type": "display_data",
          "data": {
            "text/plain": [
              "<IPython.core.display.HTML object>"
            ],
            "text/html": [
              "Run data is saved locally in <code>/content/wandb/run-20250519_104511-0ukigcae</code>"
            ]
          },
          "metadata": {}
        },
        {
          "output_type": "display_data",
          "data": {
            "text/plain": [
              "<IPython.core.display.HTML object>"
            ],
            "text/html": [
              "Syncing run <strong><a href='https://wandb.ai/na21b050-iit-madras/CS6910_Assignment3/runs/0ukigcae' target=\"_blank\">exalted-sweep-7</a></strong> to <a href='https://wandb.ai/na21b050-iit-madras/CS6910_Assignment3' target=\"_blank\">Weights & Biases</a> (<a href='https://wandb.me/developer-guide' target=\"_blank\">docs</a>)<br>Sweep page: <a href='https://wandb.ai/na21b050-iit-madras/CS6910_Assignment3/sweeps/h16aspho' target=\"_blank\">https://wandb.ai/na21b050-iit-madras/CS6910_Assignment3/sweeps/h16aspho</a>"
            ]
          },
          "metadata": {}
        },
        {
          "output_type": "display_data",
          "data": {
            "text/plain": [
              "<IPython.core.display.HTML object>"
            ],
            "text/html": [
              " View project at <a href='https://wandb.ai/na21b050-iit-madras/CS6910_Assignment3' target=\"_blank\">https://wandb.ai/na21b050-iit-madras/CS6910_Assignment3</a>"
            ]
          },
          "metadata": {}
        },
        {
          "output_type": "display_data",
          "data": {
            "text/plain": [
              "<IPython.core.display.HTML object>"
            ],
            "text/html": [
              " View sweep at <a href='https://wandb.ai/na21b050-iit-madras/CS6910_Assignment3/sweeps/h16aspho' target=\"_blank\">https://wandb.ai/na21b050-iit-madras/CS6910_Assignment3/sweeps/h16aspho</a>"
            ]
          },
          "metadata": {}
        },
        {
          "output_type": "display_data",
          "data": {
            "text/plain": [
              "<IPython.core.display.HTML object>"
            ],
            "text/html": [
              " View run at <a href='https://wandb.ai/na21b050-iit-madras/CS6910_Assignment3/runs/0ukigcae' target=\"_blank\">https://wandb.ai/na21b050-iit-madras/CS6910_Assignment3/runs/0ukigcae</a>"
            ]
          },
          "metadata": {}
        },
        {
          "output_type": "stream",
          "name": "stderr",
          "text": [
            "\rEpochs :   0%|          | 0/15 [00:00<?, ?it/s]/usr/local/lib/python3.11/dist-packages/keras/src/layers/layer.py:1387: UserWarning: Layer 'encoder' looks like it has unbuilt state, but Keras is not able to trace the layer `call()` in order to build it automatically. Possible causes:\n",
            "1. The `call()` method of your layer may be crashing. Try to `__call__()` the layer eagerly on some test input first to see if it works. E.g. `x = np.random.random((3, 4)); y = layer(x)`\n",
            "2. If the `call()` method is correct, then you may need to implement the `def build(self, input_shape)` method on your layer. It should create all variables used by the layer (e.g. by calling `layer.build()` on all its children layers).\n",
            "Exception encountered: ''Exception encountered when calling GRU.call().\n",
            "\n",
            "\u001b[1mIterating over a symbolic `tf.Tensor` is not allowed. You can attempt the following resolutions to the problem: If you are running in Graph mode, use Eager execution mode or decorate this function with @tf.function. If you are using AutoGraph, you can try decorating this function with @tf.function. If that does not work, then you may be using an unsupported feature or your source code may not be visible to AutoGraph. See https://github.com/tensorflow/tensorflow/blob/master/tensorflow/python/autograph/g3doc/reference/limitations.md#access-to-source-code for more information.\u001b[0m\n",
            "\n",
            "Arguments received by GRU.call():\n",
            "  • sequences=tf.Tensor(shape=(128, 25, 256), dtype=float32)\n",
            "  • initial_state=tf.Tensor(shape=(128, 128), dtype=float32)\n",
            "  • mask=None\n",
            "  • training=False''\n",
            "  warnings.warn(\n",
            "/usr/local/lib/python3.11/dist-packages/keras/src/layers/layer.py:393: UserWarning: `build()` was called on layer 'encoder', however the layer does not have a `build()` method implemented and it looks like it has unbuilt state. This will cause the layer to be marked as built, despite not being actually built, which may cause failures down the line. Make sure to implement a proper `build()` method.\n",
            "  warnings.warn(\n",
            "Epochs :   0%|          | 0/15 [00:00<?, ?it/s]\n"
          ]
        },
        {
          "output_type": "display_data",
          "data": {
            "text/plain": [
              "<IPython.core.display.HTML object>"
            ],
            "text/html": []
          },
          "metadata": {}
        },
        {
          "output_type": "display_data",
          "data": {
            "text/plain": [
              "<IPython.core.display.HTML object>"
            ],
            "text/html": [
              " View run <strong style=\"color:#cdcd00\"> num_of_decoders(3)_ cell_type(gru)_latent_dim(128)_lr(0.05)_optimizer(rmsprop)_dropout(0.3)inp_emb_size(256)_batch_size(256</strong> at: <a href='https://wandb.ai/na21b050-iit-madras/CS6910_Assignment3/runs/0ukigcae' target=\"_blank\">https://wandb.ai/na21b050-iit-madras/CS6910_Assignment3/runs/0ukigcae</a><br> View project at: <a href='https://wandb.ai/na21b050-iit-madras/CS6910_Assignment3' target=\"_blank\">https://wandb.ai/na21b050-iit-madras/CS6910_Assignment3</a><br>Synced 5 W&B file(s), 0 media file(s), 0 artifact file(s) and 0 other file(s)"
            ]
          },
          "metadata": {}
        },
        {
          "output_type": "display_data",
          "data": {
            "text/plain": [
              "<IPython.core.display.HTML object>"
            ],
            "text/html": [
              "Find logs at: <code>./wandb/run-20250519_104511-0ukigcae/logs</code>"
            ]
          },
          "metadata": {}
        },
        {
          "output_type": "stream",
          "name": "stderr",
          "text": [
            "\u001b[34m\u001b[1mwandb\u001b[0m: \u001b[32m\u001b[41mERROR\u001b[0m Run 0ukigcae errored:\n",
            "\u001b[34m\u001b[1mwandb\u001b[0m: \u001b[32m\u001b[41mERROR\u001b[0m Traceback (most recent call last):\n",
            "\u001b[34m\u001b[1mwandb\u001b[0m: \u001b[32m\u001b[41mERROR\u001b[0m   File \"/usr/local/lib/python3.11/dist-packages/wandb/agents/pyagent.py\", line 306, in _run_job\n",
            "\u001b[34m\u001b[1mwandb\u001b[0m: \u001b[32m\u001b[41mERROR\u001b[0m     self._function()\n",
            "\u001b[34m\u001b[1mwandb\u001b[0m: \u001b[32m\u001b[41mERROR\u001b[0m   File \"<ipython-input-22-36afebd56fa2>\", line 54, in train_wandb\n",
            "\u001b[34m\u001b[1mwandb\u001b[0m: \u001b[32m\u001b[41mERROR\u001b[0m     model.fit(dataset, val_dataset, epochs=param.epochs, wandb=wandb,teacher_forcing_ratio=param.teacher_forcing_ratio)\n",
            "\u001b[34m\u001b[1mwandb\u001b[0m: \u001b[32m\u001b[41mERROR\u001b[0m   File \"<ipython-input-12-08c8751c1626>\", line 176, in fit\n",
            "\u001b[34m\u001b[1mwandb\u001b[0m: \u001b[32m\u001b[41mERROR\u001b[0m     batch_loss, acc = self.train(input, target, enc_state)\n",
            "\u001b[34m\u001b[1mwandb\u001b[0m: \u001b[32m\u001b[41mERROR\u001b[0m                       ^^^^^^^^^^^^^^^^^^^^^^^^^^^^^^^^^^^^\n",
            "\u001b[34m\u001b[1mwandb\u001b[0m: \u001b[32m\u001b[41mERROR\u001b[0m   File \"/usr/local/lib/python3.11/dist-packages/tensorflow/python/util/traceback_utils.py\", line 153, in error_handler\n",
            "\u001b[34m\u001b[1mwandb\u001b[0m: \u001b[32m\u001b[41mERROR\u001b[0m     raise e.with_traceback(filtered_tb) from None\n",
            "\u001b[34m\u001b[1mwandb\u001b[0m: \u001b[32m\u001b[41mERROR\u001b[0m   File \"/usr/local/lib/python3.11/dist-packages/tensorflow/python/eager/polymorphic_function/autograph_util.py\", line 52, in autograph_handler\n",
            "\u001b[34m\u001b[1mwandb\u001b[0m: \u001b[32m\u001b[41mERROR\u001b[0m     raise e.ag_error_metadata.to_exception(e)\n",
            "\u001b[34m\u001b[1mwandb\u001b[0m: \u001b[32m\u001b[41mERROR\u001b[0m tensorflow.python.framework.errors_impl.OperatorNotAllowedInGraphError: in user code:\n",
            "\u001b[34m\u001b[1mwandb\u001b[0m: \u001b[32m\u001b[41mERROR\u001b[0m \n",
            "\u001b[34m\u001b[1mwandb\u001b[0m: \u001b[32m\u001b[41mERROR\u001b[0m     File \"<ipython-input-12-08c8751c1626>\", line 85, in train  *\n",
            "\u001b[34m\u001b[1mwandb\u001b[0m: \u001b[32m\u001b[41mERROR\u001b[0m         enc_out, enc_state = self.encoder(input, enc_state)\n",
            "\u001b[34m\u001b[1mwandb\u001b[0m: \u001b[32m\u001b[41mERROR\u001b[0m     File \"/usr/local/lib/python3.11/dist-packages/keras/src/utils/traceback_utils.py\", line 122, in error_handler  **\n",
            "\u001b[34m\u001b[1mwandb\u001b[0m: \u001b[32m\u001b[41mERROR\u001b[0m         raise e.with_traceback(filtered_tb) from None\n",
            "\u001b[34m\u001b[1mwandb\u001b[0m: \u001b[32m\u001b[41mERROR\u001b[0m     File \"<ipython-input-9-ccecd55c7720>\", line 88, in call\n",
            "\u001b[34m\u001b[1mwandb\u001b[0m: \u001b[32m\u001b[41mERROR\u001b[0m         x, state = rnn(x, initial_state=hidden_states[i])\n",
            "\u001b[34m\u001b[1mwandb\u001b[0m: \u001b[32m\u001b[41mERROR\u001b[0m \n",
            "\u001b[34m\u001b[1mwandb\u001b[0m: \u001b[32m\u001b[41mERROR\u001b[0m     OperatorNotAllowedInGraphError: Exception encountered when calling GRU.call().\n",
            "\u001b[34m\u001b[1mwandb\u001b[0m: \u001b[32m\u001b[41mERROR\u001b[0m     \n",
            "\u001b[34m\u001b[1mwandb\u001b[0m: \u001b[32m\u001b[41mERROR\u001b[0m     \u001b[1mIterating over a symbolic `tf.Tensor` is not allowed. You can attempt the following resolutions to the problem: If you are running in Graph mode, use Eager execution mode or decorate this function with @tf.function. If you are using AutoGraph, you can try decorating this function with @tf.function. If that does not work, then you may be using an unsupported feature or your source code may not be visible to AutoGraph. See https://github.com/tensorflow/tensorflow/blob/master/tensorflow/python/autograph/g3doc/reference/limitations.md#access-to-source-code for more information.\u001b[0m\n",
            "\u001b[34m\u001b[1mwandb\u001b[0m: \u001b[32m\u001b[41mERROR\u001b[0m     \n",
            "\u001b[34m\u001b[1mwandb\u001b[0m: \u001b[32m\u001b[41mERROR\u001b[0m     Arguments received by GRU.call():\n",
            "\u001b[34m\u001b[1mwandb\u001b[0m: \u001b[32m\u001b[41mERROR\u001b[0m       • sequences=tf.Tensor(shape=(128, 25, 256), dtype=float32)\n",
            "\u001b[34m\u001b[1mwandb\u001b[0m: \u001b[32m\u001b[41mERROR\u001b[0m       • initial_state=tf.Tensor(shape=(128, 128), dtype=float32)\n",
            "\u001b[34m\u001b[1mwandb\u001b[0m: \u001b[32m\u001b[41mERROR\u001b[0m       • mask=None\n",
            "\u001b[34m\u001b[1mwandb\u001b[0m: \u001b[32m\u001b[41mERROR\u001b[0m       • training=False\n",
            "\u001b[34m\u001b[1mwandb\u001b[0m: \u001b[32m\u001b[41mERROR\u001b[0m \n",
            "\u001b[34m\u001b[1mwandb\u001b[0m: \u001b[32m\u001b[41mERROR\u001b[0m \n",
            "\u001b[34m\u001b[1mwandb\u001b[0m: Agent Starting Run: 780dvh3a with config:\n",
            "\u001b[34m\u001b[1mwandb\u001b[0m: \tbatch_size: 64\n",
            "\u001b[34m\u001b[1mwandb\u001b[0m: \tcell_type: rnn\n",
            "\u001b[34m\u001b[1mwandb\u001b[0m: \tdropout: 0.3\n",
            "\u001b[34m\u001b[1mwandb\u001b[0m: \tinp_emb_size: 256\n",
            "\u001b[34m\u001b[1mwandb\u001b[0m: \tlatent_dim: 64\n",
            "\u001b[34m\u001b[1mwandb\u001b[0m: \tlr: 0.001\n",
            "\u001b[34m\u001b[1mwandb\u001b[0m: \tnum_of_decoders: 2\n",
            "\u001b[34m\u001b[1mwandb\u001b[0m: \tnum_of_encoders: 4\n",
            "\u001b[34m\u001b[1mwandb\u001b[0m: \toptimizer: adam\n"
          ]
        },
        {
          "output_type": "display_data",
          "data": {
            "text/plain": [
              "<IPython.core.display.HTML object>"
            ],
            "text/html": [
              "Tracking run with wandb version 0.19.11"
            ]
          },
          "metadata": {}
        },
        {
          "output_type": "display_data",
          "data": {
            "text/plain": [
              "<IPython.core.display.HTML object>"
            ],
            "text/html": [
              "Run data is saved locally in <code>/content/wandb/run-20250519_104522-780dvh3a</code>"
            ]
          },
          "metadata": {}
        },
        {
          "output_type": "display_data",
          "data": {
            "text/plain": [
              "<IPython.core.display.HTML object>"
            ],
            "text/html": [
              "Syncing run <strong><a href='https://wandb.ai/na21b050-iit-madras/CS6910_Assignment3/runs/780dvh3a' target=\"_blank\">chocolate-sweep-8</a></strong> to <a href='https://wandb.ai/na21b050-iit-madras/CS6910_Assignment3' target=\"_blank\">Weights & Biases</a> (<a href='https://wandb.me/developer-guide' target=\"_blank\">docs</a>)<br>Sweep page: <a href='https://wandb.ai/na21b050-iit-madras/CS6910_Assignment3/sweeps/h16aspho' target=\"_blank\">https://wandb.ai/na21b050-iit-madras/CS6910_Assignment3/sweeps/h16aspho</a>"
            ]
          },
          "metadata": {}
        },
        {
          "output_type": "display_data",
          "data": {
            "text/plain": [
              "<IPython.core.display.HTML object>"
            ],
            "text/html": [
              " View project at <a href='https://wandb.ai/na21b050-iit-madras/CS6910_Assignment3' target=\"_blank\">https://wandb.ai/na21b050-iit-madras/CS6910_Assignment3</a>"
            ]
          },
          "metadata": {}
        },
        {
          "output_type": "display_data",
          "data": {
            "text/plain": [
              "<IPython.core.display.HTML object>"
            ],
            "text/html": [
              " View sweep at <a href='https://wandb.ai/na21b050-iit-madras/CS6910_Assignment3/sweeps/h16aspho' target=\"_blank\">https://wandb.ai/na21b050-iit-madras/CS6910_Assignment3/sweeps/h16aspho</a>"
            ]
          },
          "metadata": {}
        },
        {
          "output_type": "display_data",
          "data": {
            "text/plain": [
              "<IPython.core.display.HTML object>"
            ],
            "text/html": [
              " View run at <a href='https://wandb.ai/na21b050-iit-madras/CS6910_Assignment3/runs/780dvh3a' target=\"_blank\">https://wandb.ai/na21b050-iit-madras/CS6910_Assignment3/runs/780dvh3a</a>"
            ]
          },
          "metadata": {}
        },
        {
          "output_type": "stream",
          "name": "stderr",
          "text": [
            "\rEpochs :   0%|          | 0/15 [00:00<?, ?it/s]/usr/local/lib/python3.11/dist-packages/keras/src/optimizers/base_optimizer.py:774: UserWarning: Gradients do not exist for variables ['seed_generator/seed_generator_state', 'seed_generator_1/seed_generator_state', 'encoder/simple_rnn_2/simple_rnn_cell/kernel', 'encoder/simple_rnn_2/simple_rnn_cell/recurrent_kernel', 'encoder/simple_rnn_2/simple_rnn_cell/bias', 'seed_generator_2/seed_generator_state', 'encoder/simple_rnn_3/simple_rnn_cell/kernel', 'encoder/simple_rnn_3/simple_rnn_cell/recurrent_kernel', 'encoder/simple_rnn_3/simple_rnn_cell/bias', 'seed_generator_3/seed_generator_state', 'seed_generator_4/seed_generator_state', 'seed_generator_5/seed_generator_state'] when minimizing the loss. If using `model.compile()`, did you forget to provide a `loss` argument?\n",
            "  warnings.warn(\n",
            "Epochs :   7%|▋         | 1/15 [01:22<19:14, 82.50s/it]"
          ]
        },
        {
          "output_type": "stream",
          "name": "stdout",
          "text": [
            "\n",
            "Train Loss: 0.9445 Train Accuracy: 69.3645 Validation Loss: 3.0405 Validation Accuracy: 53.4494\n",
            "\n",
            "Time taken for the epoch 82.4956\n"
          ]
        },
        {
          "output_type": "stream",
          "name": "stderr",
          "text": [
            "\rEpochs :  13%|█▎        | 2/15 [02:10<13:28, 62.16s/it]"
          ]
        },
        {
          "output_type": "stream",
          "name": "stdout",
          "text": [
            "\n",
            "Train Loss: 0.6969 Train Accuracy: 78.8808 Validation Loss: 3.7518 Validation Accuracy: 49.1457\n",
            "\n",
            "Time taken for the epoch 47.9175\n"
          ]
        },
        {
          "output_type": "stream",
          "name": "stderr",
          "text": [
            "\rEpochs :  20%|██        | 3/15 [02:58<11:09, 55.82s/it]"
          ]
        },
        {
          "output_type": "stream",
          "name": "stdout",
          "text": [
            "\n",
            "Train Loss: 0.6291 Train Accuracy: 80.8373 Validation Loss: 3.9128 Validation Accuracy: 49.7831\n",
            "\n",
            "Time taken for the epoch 48.2802\n"
          ]
        },
        {
          "output_type": "stream",
          "name": "stderr",
          "text": [
            "\rEpochs :  27%|██▋       | 4/15 [03:47<09:41, 52.89s/it]"
          ]
        },
        {
          "output_type": "stream",
          "name": "stdout",
          "text": [
            "\n",
            "Train Loss: 0.5844 Train Accuracy: 81.9997 Validation Loss: 3.4728 Validation Accuracy: 56.5454\n",
            "\n",
            "Time taken for the epoch 48.3959\n"
          ]
        },
        {
          "output_type": "stream",
          "name": "stderr",
          "text": [
            "\rEpochs :  33%|███▎      | 5/15 [04:35<08:31, 51.17s/it]"
          ]
        },
        {
          "output_type": "stream",
          "name": "stdout",
          "text": [
            "\n",
            "Train Loss: 0.5509 Train Accuracy: 82.8991 Validation Loss: 3.6716 Validation Accuracy: 53.9930\n",
            "\n",
            "Time taken for the epoch 48.1147\n"
          ]
        },
        {
          "output_type": "stream",
          "name": "stderr",
          "text": [
            "\rEpochs :  40%|████      | 6/15 [05:22<07:27, 49.74s/it]"
          ]
        },
        {
          "output_type": "stream",
          "name": "stdout",
          "text": [
            "\n",
            "Train Loss: 0.5249 Train Accuracy: 83.7784 Validation Loss: 4.0652 Validation Accuracy: 52.0263\n",
            "\n",
            "Time taken for the epoch 46.9449\n"
          ]
        },
        {
          "output_type": "stream",
          "name": "stderr",
          "text": [
            "\rEpochs :  47%|████▋     | 7/15 [06:11<06:37, 49.65s/it]"
          ]
        },
        {
          "output_type": "stream",
          "name": "stdout",
          "text": [
            "\n",
            "Train Loss: 0.5029 Train Accuracy: 84.3071 Validation Loss: 4.1901 Validation Accuracy: 51.2244\n",
            "\n",
            "Time taken for the epoch 49.4552\n"
          ]
        },
        {
          "output_type": "stream",
          "name": "stderr",
          "text": [
            "\rEpochs :  53%|█████▎    | 8/15 [07:01<05:48, 49.84s/it]"
          ]
        },
        {
          "output_type": "stream",
          "name": "stdout",
          "text": [
            "\n",
            "Train Loss: 0.4841 Train Accuracy: 84.8087 Validation Loss: 4.0893 Validation Accuracy: 53.1822\n",
            "\n",
            "Time taken for the epoch 50.2438\n"
          ]
        },
        {
          "output_type": "stream",
          "name": "stderr",
          "text": [
            "Epochs :  60%|██████    | 9/15 [07:50<05:13, 52.25s/it]"
          ]
        },
        {
          "output_type": "stream",
          "name": "stdout",
          "text": [
            "\n",
            "Train Loss: 0.4682 Train Accuracy: 85.3677 Validation Loss: 4.1121 Validation Accuracy: 53.2266\n",
            "\n",
            "Time taken for the epoch 48.3561\n",
            "\n",
            "Model trained successfully !!\n"
          ]
        },
        {
          "output_type": "stream",
          "name": "stderr",
          "text": [
            "\n"
          ]
        },
        {
          "output_type": "display_data",
          "data": {
            "text/plain": [
              "<IPython.core.display.HTML object>"
            ],
            "text/html": []
          },
          "metadata": {}
        },
        {
          "output_type": "display_data",
          "data": {
            "text/plain": [
              "<IPython.core.display.HTML object>"
            ],
            "text/html": [
              "<br>    <style><br>        .wandb-row {<br>            display: flex;<br>            flex-direction: row;<br>            flex-wrap: wrap;<br>            justify-content: flex-start;<br>            width: 100%;<br>        }<br>        .wandb-col {<br>            display: flex;<br>            flex-direction: column;<br>            flex-basis: 100%;<br>            flex: 1;<br>            padding: 10px;<br>        }<br>    </style><br><div class=\"wandb-row\"><div class=\"wandb-col\"><h3>Run history:</h3><br/><table class=\"wandb\"><tr><td>epoch</td><td>▁▂▃▄▅▅▆▇█</td></tr><tr><td>train_acc</td><td>▁▅▆▇▇▇███</td></tr><tr><td>train_loss</td><td>█▄▃▃▂▂▂▁▁</td></tr><tr><td>training time</td><td>█▁▁▁▁▁▁▂▁</td></tr><tr><td>val_acc</td><td>▅▁▂█▆▄▃▅▅</td></tr><tr><td>val_loss</td><td>▁▅▆▄▅▇█▇█</td></tr></table><br/></div><div class=\"wandb-col\"><h3>Run summary:</h3><br/><table class=\"wandb\"><tr><td>epoch</td><td>9</td></tr><tr><td>train_acc</td><td>85.36768</td></tr><tr><td>train_loss</td><td>0.46816</td></tr><tr><td>training time</td><td>48.35607</td></tr><tr><td>val_acc</td><td>53.22657</td></tr><tr><td>val_loss</td><td>4.11214</td></tr></table><br/></div></div>"
            ]
          },
          "metadata": {}
        },
        {
          "output_type": "display_data",
          "data": {
            "text/plain": [
              "<IPython.core.display.HTML object>"
            ],
            "text/html": [
              " View run <strong style=\"color:#cdcd00\"> num_of_decoders(2)_ cell_type(rnn)_latent_dim(64)_lr(0.001)_optimizer(adam)_dropout(0.3)inp_emb_size(256)_batch_size(64</strong> at: <a href='https://wandb.ai/na21b050-iit-madras/CS6910_Assignment3/runs/780dvh3a' target=\"_blank\">https://wandb.ai/na21b050-iit-madras/CS6910_Assignment3/runs/780dvh3a</a><br> View project at: <a href='https://wandb.ai/na21b050-iit-madras/CS6910_Assignment3' target=\"_blank\">https://wandb.ai/na21b050-iit-madras/CS6910_Assignment3</a><br>Synced 5 W&B file(s), 0 media file(s), 0 artifact file(s) and 0 other file(s)"
            ]
          },
          "metadata": {}
        },
        {
          "output_type": "display_data",
          "data": {
            "text/plain": [
              "<IPython.core.display.HTML object>"
            ],
            "text/html": [
              "Find logs at: <code>./wandb/run-20250519_104522-780dvh3a/logs</code>"
            ]
          },
          "metadata": {}
        },
        {
          "output_type": "stream",
          "name": "stderr",
          "text": [
            "\u001b[34m\u001b[1mwandb\u001b[0m: Agent Starting Run: unh3bdpl with config:\n",
            "\u001b[34m\u001b[1mwandb\u001b[0m: \tbatch_size: 128\n",
            "\u001b[34m\u001b[1mwandb\u001b[0m: \tcell_type: rnn\n",
            "\u001b[34m\u001b[1mwandb\u001b[0m: \tdropout: 0.5\n",
            "\u001b[34m\u001b[1mwandb\u001b[0m: \tinp_emb_size: 256\n",
            "\u001b[34m\u001b[1mwandb\u001b[0m: \tlatent_dim: 64\n",
            "\u001b[34m\u001b[1mwandb\u001b[0m: \tlr: 0.05\n",
            "\u001b[34m\u001b[1mwandb\u001b[0m: \tnum_of_decoders: 3\n",
            "\u001b[34m\u001b[1mwandb\u001b[0m: \tnum_of_encoders: 3\n",
            "\u001b[34m\u001b[1mwandb\u001b[0m: \toptimizer: rmsprop\n"
          ]
        },
        {
          "output_type": "display_data",
          "data": {
            "text/plain": [
              "<IPython.core.display.HTML object>"
            ],
            "text/html": [
              "Tracking run with wandb version 0.19.11"
            ]
          },
          "metadata": {}
        },
        {
          "output_type": "display_data",
          "data": {
            "text/plain": [
              "<IPython.core.display.HTML object>"
            ],
            "text/html": [
              "Run data is saved locally in <code>/content/wandb/run-20250519_105319-unh3bdpl</code>"
            ]
          },
          "metadata": {}
        },
        {
          "output_type": "display_data",
          "data": {
            "text/plain": [
              "<IPython.core.display.HTML object>"
            ],
            "text/html": [
              "Syncing run <strong><a href='https://wandb.ai/na21b050-iit-madras/CS6910_Assignment3/runs/unh3bdpl' target=\"_blank\">crisp-sweep-9</a></strong> to <a href='https://wandb.ai/na21b050-iit-madras/CS6910_Assignment3' target=\"_blank\">Weights & Biases</a> (<a href='https://wandb.me/developer-guide' target=\"_blank\">docs</a>)<br>Sweep page: <a href='https://wandb.ai/na21b050-iit-madras/CS6910_Assignment3/sweeps/h16aspho' target=\"_blank\">https://wandb.ai/na21b050-iit-madras/CS6910_Assignment3/sweeps/h16aspho</a>"
            ]
          },
          "metadata": {}
        },
        {
          "output_type": "display_data",
          "data": {
            "text/plain": [
              "<IPython.core.display.HTML object>"
            ],
            "text/html": [
              " View project at <a href='https://wandb.ai/na21b050-iit-madras/CS6910_Assignment3' target=\"_blank\">https://wandb.ai/na21b050-iit-madras/CS6910_Assignment3</a>"
            ]
          },
          "metadata": {}
        },
        {
          "output_type": "display_data",
          "data": {
            "text/plain": [
              "<IPython.core.display.HTML object>"
            ],
            "text/html": [
              " View sweep at <a href='https://wandb.ai/na21b050-iit-madras/CS6910_Assignment3/sweeps/h16aspho' target=\"_blank\">https://wandb.ai/na21b050-iit-madras/CS6910_Assignment3/sweeps/h16aspho</a>"
            ]
          },
          "metadata": {}
        },
        {
          "output_type": "display_data",
          "data": {
            "text/plain": [
              "<IPython.core.display.HTML object>"
            ],
            "text/html": [
              " View run at <a href='https://wandb.ai/na21b050-iit-madras/CS6910_Assignment3/runs/unh3bdpl' target=\"_blank\">https://wandb.ai/na21b050-iit-madras/CS6910_Assignment3/runs/unh3bdpl</a>"
            ]
          },
          "metadata": {}
        },
        {
          "output_type": "stream",
          "name": "stderr",
          "text": [
            "Epochs :   7%|▋         | 1/15 [01:48<25:20, 108.63s/it]"
          ]
        },
        {
          "output_type": "stream",
          "name": "stdout",
          "text": [
            "\n",
            "Train Loss: 1.8336 Train Accuracy: 55.0738 Validation Loss: 25.3640 Validation Accuracy: 2.7058\n",
            "\n",
            "Time taken for the epoch 108.6224\n"
          ]
        },
        {
          "output_type": "stream",
          "name": "stderr",
          "text": [
            "\rEpochs :  13%|█▎        | 2/15 [02:51<17:40, 81.56s/it] "
          ]
        },
        {
          "output_type": "stream",
          "name": "stdout",
          "text": [
            "\n",
            "Train Loss: 1.7222 Train Accuracy: 61.1555 Validation Loss: 48.7646 Validation Accuracy: 3.4472\n",
            "\n",
            "Time taken for the epoch 62.6116\n"
          ]
        },
        {
          "output_type": "stream",
          "name": "stderr",
          "text": [
            "\rEpochs :  20%|██        | 3/15 [03:53<14:35, 72.97s/it]"
          ]
        },
        {
          "output_type": "stream",
          "name": "stdout",
          "text": [
            "\n",
            "Train Loss: 1.7242 Train Accuracy: 61.1350 Validation Loss: 23.2421 Validation Accuracy: 58.4161\n",
            "\n",
            "Time taken for the epoch 62.7423\n"
          ]
        },
        {
          "output_type": "stream",
          "name": "stderr",
          "text": [
            "\rEpochs :  27%|██▋       | 4/15 [04:57<12:42, 69.30s/it]"
          ]
        },
        {
          "output_type": "stream",
          "name": "stdout",
          "text": [
            "\n",
            "Train Loss: 1.7246 Train Accuracy: 61.1194 Validation Loss: 74.9804 Validation Accuracy: 3.2454\n",
            "\n",
            "Time taken for the epoch 63.6722\n"
          ]
        },
        {
          "output_type": "stream",
          "name": "stderr",
          "text": [
            "\rEpochs :  33%|███▎      | 5/15 [05:59<11:07, 66.73s/it]"
          ]
        },
        {
          "output_type": "stream",
          "name": "stdout",
          "text": [
            "\n",
            "Train Loss: 1.7164 Train Accuracy: 61.2450 Validation Loss: 31.2646 Validation Accuracy: 58.8197\n",
            "\n",
            "Time taken for the epoch 62.1662\n"
          ]
        },
        {
          "output_type": "stream",
          "name": "stderr",
          "text": [
            "\rEpochs :  40%|████      | 6/15 [07:01<09:43, 64.88s/it]"
          ]
        },
        {
          "output_type": "stream",
          "name": "stdout",
          "text": [
            "\n",
            "Train Loss: 1.7156 Train Accuracy: 61.1021 Validation Loss: 76.8249 Validation Accuracy: 1.2540\n",
            "\n",
            "Time taken for the epoch 61.2664\n"
          ]
        },
        {
          "output_type": "stream",
          "name": "stderr",
          "text": [
            "\rEpochs :  47%|████▋     | 7/15 [08:03<08:31, 63.95s/it]"
          ]
        },
        {
          "output_type": "stream",
          "name": "stdout",
          "text": [
            "\n",
            "Train Loss: 1.5122 Train Accuracy: 62.9826 Validation Loss: 38.3917 Validation Accuracy: 2.9644\n",
            "\n",
            "Time taken for the epoch 62.0383\n"
          ]
        },
        {
          "output_type": "stream",
          "name": "stderr",
          "text": [
            "\rEpochs :  53%|█████▎    | 8/15 [09:04<07:22, 63.20s/it]"
          ]
        },
        {
          "output_type": "stream",
          "name": "stdout",
          "text": [
            "\n",
            "Train Loss: 1.3383 Train Accuracy: 64.7413 Validation Loss: 39.3718 Validation Accuracy: 1.6402\n",
            "\n",
            "Time taken for the epoch 61.5800\n"
          ]
        },
        {
          "output_type": "stream",
          "name": "stderr",
          "text": [
            "\rEpochs :  60%|██████    | 9/15 [10:06<06:15, 62.65s/it]"
          ]
        },
        {
          "output_type": "stream",
          "name": "stdout",
          "text": [
            "\n",
            "Train Loss: 1.2989 Train Accuracy: 65.1189 Validation Loss: 9.3651 Validation Accuracy: 59.2427\n",
            "\n",
            "Time taken for the epoch 61.4571\n"
          ]
        },
        {
          "output_type": "stream",
          "name": "stderr",
          "text": [
            "\rEpochs :  67%|██████▋   | 10/15 [11:06<05:09, 61.94s/it]"
          ]
        },
        {
          "output_type": "stream",
          "name": "stdout",
          "text": [
            "\n",
            "Train Loss: 1.2823 Train Accuracy: 65.4702 Validation Loss: 34.3202 Validation Accuracy: 3.8581\n",
            "\n",
            "Time taken for the epoch 60.3262\n"
          ]
        },
        {
          "output_type": "stream",
          "name": "stderr",
          "text": [
            "\rEpochs :  73%|███████▎  | 11/15 [12:09<04:09, 62.33s/it]"
          ]
        },
        {
          "output_type": "stream",
          "name": "stdout",
          "text": [
            "\n",
            "Train Loss: 1.2734 Train Accuracy: 65.6172 Validation Loss: 7.7294 Validation Accuracy: 59.5217\n",
            "\n",
            "Time taken for the epoch 63.2310\n"
          ]
        },
        {
          "output_type": "stream",
          "name": "stderr",
          "text": [
            "\rEpochs :  80%|████████  | 12/15 [13:13<03:08, 62.78s/it]"
          ]
        },
        {
          "output_type": "stream",
          "name": "stdout",
          "text": [
            "\n",
            "Train Loss: 1.2668 Train Accuracy: 65.9667 Validation Loss: 7.2169 Validation Accuracy: 54.5793\n",
            "\n",
            "Time taken for the epoch 63.8048\n"
          ]
        },
        {
          "output_type": "stream",
          "name": "stderr",
          "text": [
            "\rEpochs :  87%|████████▋ | 13/15 [14:17<02:06, 63.24s/it]"
          ]
        },
        {
          "output_type": "stream",
          "name": "stdout",
          "text": [
            "\n",
            "Train Loss: 1.2677 Train Accuracy: 65.8172 Validation Loss: 7.7315 Validation Accuracy: 58.8101\n",
            "\n",
            "Time taken for the epoch 64.3003\n"
          ]
        },
        {
          "output_type": "stream",
          "name": "stderr",
          "text": [
            "\rEpochs :  93%|█████████▎| 14/15 [15:21<01:03, 63.23s/it]"
          ]
        },
        {
          "output_type": "stream",
          "name": "stdout",
          "text": [
            "\n",
            "Train Loss: 1.2662 Train Accuracy: 66.0253 Validation Loss: 7.1731 Validation Accuracy: 59.2966\n",
            "\n",
            "Time taken for the epoch 63.1810\n"
          ]
        },
        {
          "output_type": "stream",
          "name": "stderr",
          "text": [
            "Epochs : 100%|██████████| 15/15 [16:24<00:00, 65.64s/it]"
          ]
        },
        {
          "output_type": "stream",
          "name": "stdout",
          "text": [
            "\n",
            "Train Loss: 1.2772 Train Accuracy: 65.8466 Validation Loss: 7.9887 Validation Accuracy: 50.9335\n",
            "\n",
            "Time taken for the epoch 63.4997\n",
            "\n",
            "Model trained successfully !!\n"
          ]
        },
        {
          "output_type": "stream",
          "name": "stderr",
          "text": [
            "\n"
          ]
        },
        {
          "output_type": "display_data",
          "data": {
            "text/plain": [
              "<IPython.core.display.HTML object>"
            ],
            "text/html": []
          },
          "metadata": {}
        },
        {
          "output_type": "display_data",
          "data": {
            "text/plain": [
              "<IPython.core.display.HTML object>"
            ],
            "text/html": [
              "<br>    <style><br>        .wandb-row {<br>            display: flex;<br>            flex-direction: row;<br>            flex-wrap: wrap;<br>            justify-content: flex-start;<br>            width: 100%;<br>        }<br>        .wandb-col {<br>            display: flex;<br>            flex-direction: column;<br>            flex-basis: 100%;<br>            flex: 1;<br>            padding: 10px;<br>        }<br>    </style><br><div class=\"wandb-row\"><div class=\"wandb-col\"><h3>Run history:</h3><br/><table class=\"wandb\"><tr><td>epoch</td><td>▁▁▂▃▃▃▄▅▅▅▆▇▇▇█</td></tr><tr><td>train_acc</td><td>▁▅▅▅▅▅▆▇▇██████</td></tr><tr><td>train_loss</td><td>█▇▇▇▇▇▄▂▁▁▁▁▁▁▁</td></tr><tr><td>training time</td><td>█▁▁▁▁▁▁▁▁▁▁▂▂▁▁</td></tr><tr><td>val_acc</td><td>▁▁█▁█▁▁▁█▁█▇██▇</td></tr><tr><td>val_loss</td><td>▃▅▃█▃█▄▄▁▄▁▁▁▁▁</td></tr></table><br/></div><div class=\"wandb-col\"><h3>Run summary:</h3><br/><table class=\"wandb\"><tr><td>epoch</td><td>15</td></tr><tr><td>train_acc</td><td>65.84665</td></tr><tr><td>train_loss</td><td>1.27716</td></tr><tr><td>training time</td><td>63.49974</td></tr><tr><td>val_acc</td><td>50.93351</td></tr><tr><td>val_loss</td><td>7.98866</td></tr></table><br/></div></div>"
            ]
          },
          "metadata": {}
        },
        {
          "output_type": "display_data",
          "data": {
            "text/plain": [
              "<IPython.core.display.HTML object>"
            ],
            "text/html": [
              " View run <strong style=\"color:#cdcd00\"> num_of_decoders(3)_ cell_type(rnn)_latent_dim(64)_lr(0.05)_optimizer(rmsprop)_dropout(0.5)inp_emb_size(256)_batch_size(128</strong> at: <a href='https://wandb.ai/na21b050-iit-madras/CS6910_Assignment3/runs/unh3bdpl' target=\"_blank\">https://wandb.ai/na21b050-iit-madras/CS6910_Assignment3/runs/unh3bdpl</a><br> View project at: <a href='https://wandb.ai/na21b050-iit-madras/CS6910_Assignment3' target=\"_blank\">https://wandb.ai/na21b050-iit-madras/CS6910_Assignment3</a><br>Synced 5 W&B file(s), 0 media file(s), 0 artifact file(s) and 0 other file(s)"
            ]
          },
          "metadata": {}
        },
        {
          "output_type": "display_data",
          "data": {
            "text/plain": [
              "<IPython.core.display.HTML object>"
            ],
            "text/html": [
              "Find logs at: <code>./wandb/run-20250519_105319-unh3bdpl/logs</code>"
            ]
          },
          "metadata": {}
        },
        {
          "output_type": "stream",
          "name": "stderr",
          "text": [
            "\u001b[34m\u001b[1mwandb\u001b[0m: Agent Starting Run: n18yi3c4 with config:\n",
            "\u001b[34m\u001b[1mwandb\u001b[0m: \tbatch_size: 64\n",
            "\u001b[34m\u001b[1mwandb\u001b[0m: \tcell_type: rnn\n",
            "\u001b[34m\u001b[1mwandb\u001b[0m: \tdropout: 0.5\n",
            "\u001b[34m\u001b[1mwandb\u001b[0m: \tinp_emb_size: 256\n",
            "\u001b[34m\u001b[1mwandb\u001b[0m: \tlatent_dim: 64\n",
            "\u001b[34m\u001b[1mwandb\u001b[0m: \tlr: 0.001\n",
            "\u001b[34m\u001b[1mwandb\u001b[0m: \tnum_of_decoders: 3\n",
            "\u001b[34m\u001b[1mwandb\u001b[0m: \tnum_of_encoders: 4\n",
            "\u001b[34m\u001b[1mwandb\u001b[0m: \toptimizer: adam\n"
          ]
        },
        {
          "output_type": "display_data",
          "data": {
            "text/plain": [
              "<IPython.core.display.HTML object>"
            ],
            "text/html": [
              "Tracking run with wandb version 0.19.11"
            ]
          },
          "metadata": {}
        },
        {
          "output_type": "display_data",
          "data": {
            "text/plain": [
              "<IPython.core.display.HTML object>"
            ],
            "text/html": [
              "Run data is saved locally in <code>/content/wandb/run-20250519_110953-n18yi3c4</code>"
            ]
          },
          "metadata": {}
        },
        {
          "output_type": "display_data",
          "data": {
            "text/plain": [
              "<IPython.core.display.HTML object>"
            ],
            "text/html": [
              "Syncing run <strong><a href='https://wandb.ai/na21b050-iit-madras/CS6910_Assignment3/runs/n18yi3c4' target=\"_blank\">sage-sweep-10</a></strong> to <a href='https://wandb.ai/na21b050-iit-madras/CS6910_Assignment3' target=\"_blank\">Weights & Biases</a> (<a href='https://wandb.me/developer-guide' target=\"_blank\">docs</a>)<br>Sweep page: <a href='https://wandb.ai/na21b050-iit-madras/CS6910_Assignment3/sweeps/h16aspho' target=\"_blank\">https://wandb.ai/na21b050-iit-madras/CS6910_Assignment3/sweeps/h16aspho</a>"
            ]
          },
          "metadata": {}
        },
        {
          "output_type": "display_data",
          "data": {
            "text/plain": [
              "<IPython.core.display.HTML object>"
            ],
            "text/html": [
              " View project at <a href='https://wandb.ai/na21b050-iit-madras/CS6910_Assignment3' target=\"_blank\">https://wandb.ai/na21b050-iit-madras/CS6910_Assignment3</a>"
            ]
          },
          "metadata": {}
        },
        {
          "output_type": "display_data",
          "data": {
            "text/plain": [
              "<IPython.core.display.HTML object>"
            ],
            "text/html": [
              " View sweep at <a href='https://wandb.ai/na21b050-iit-madras/CS6910_Assignment3/sweeps/h16aspho' target=\"_blank\">https://wandb.ai/na21b050-iit-madras/CS6910_Assignment3/sweeps/h16aspho</a>"
            ]
          },
          "metadata": {}
        },
        {
          "output_type": "display_data",
          "data": {
            "text/plain": [
              "<IPython.core.display.HTML object>"
            ],
            "text/html": [
              " View run at <a href='https://wandb.ai/na21b050-iit-madras/CS6910_Assignment3/runs/n18yi3c4' target=\"_blank\">https://wandb.ai/na21b050-iit-madras/CS6910_Assignment3/runs/n18yi3c4</a>"
            ]
          },
          "metadata": {}
        },
        {
          "output_type": "stream",
          "name": "stderr",
          "text": [
            "Epochs :   7%|▋         | 1/15 [01:53<26:35, 113.95s/it]"
          ]
        },
        {
          "output_type": "stream",
          "name": "stdout",
          "text": [
            "\n",
            "Train Loss: 0.9286 Train Accuracy: 68.6953 Validation Loss: 3.0070 Validation Accuracy: 54.9394\n",
            "\n",
            "Time taken for the epoch 113.9467\n"
          ]
        },
        {
          "output_type": "stream",
          "name": "stderr",
          "text": [
            "\rEpochs :  13%|█▎        | 2/15 [02:58<18:19, 84.61s/it] "
          ]
        },
        {
          "output_type": "stream",
          "name": "stdout",
          "text": [
            "\n",
            "Train Loss: 0.6397 Train Accuracy: 80.5801 Validation Loss: 3.9063 Validation Accuracy: 48.6738\n",
            "\n",
            "Time taken for the epoch 64.0704\n"
          ]
        },
        {
          "output_type": "stream",
          "name": "stderr",
          "text": [
            "\rEpochs :  20%|██        | 3/15 [04:02<15:03, 75.30s/it]"
          ]
        },
        {
          "output_type": "stream",
          "name": "stdout",
          "text": [
            "\n",
            "Train Loss: 0.5629 Train Accuracy: 82.7859 Validation Loss: 4.1798 Validation Accuracy: 47.8913\n",
            "\n",
            "Time taken for the epoch 64.2188\n"
          ]
        },
        {
          "output_type": "stream",
          "name": "stderr",
          "text": [
            "\rEpochs :  27%|██▋       | 4/15 [05:06<13:02, 71.09s/it]"
          ]
        },
        {
          "output_type": "stream",
          "name": "stdout",
          "text": [
            "\n",
            "Train Loss: 0.5147 Train Accuracy: 84.1300 Validation Loss: 3.9121 Validation Accuracy: 51.7097\n",
            "\n",
            "Time taken for the epoch 64.6356\n"
          ]
        },
        {
          "output_type": "stream",
          "name": "stderr",
          "text": [
            "\rEpochs :  33%|███▎      | 5/15 [06:12<11:32, 69.26s/it]"
          ]
        },
        {
          "output_type": "stream",
          "name": "stdout",
          "text": [
            "\n",
            "Train Loss: 0.4791 Train Accuracy: 85.1439 Validation Loss: 4.1947 Validation Accuracy: 50.0364\n",
            "\n",
            "Time taken for the epoch 65.9964\n"
          ]
        },
        {
          "output_type": "stream",
          "name": "stderr",
          "text": [
            "Epochs :  40%|████      | 6/15 [07:18<10:58, 73.15s/it]"
          ]
        },
        {
          "output_type": "stream",
          "name": "stdout",
          "text": [
            "\n",
            "Train Loss: 0.4506 Train Accuracy: 86.0152 Validation Loss: 4.3737 Validation Accuracy: 50.0175\n",
            "\n",
            "Time taken for the epoch 66.0193\n",
            "\n",
            "Model trained successfully !!\n"
          ]
        },
        {
          "output_type": "stream",
          "name": "stderr",
          "text": [
            "\n"
          ]
        },
        {
          "output_type": "display_data",
          "data": {
            "text/plain": [
              "<IPython.core.display.HTML object>"
            ],
            "text/html": []
          },
          "metadata": {}
        },
        {
          "output_type": "display_data",
          "data": {
            "text/plain": [
              "<IPython.core.display.HTML object>"
            ],
            "text/html": [
              "<br>    <style><br>        .wandb-row {<br>            display: flex;<br>            flex-direction: row;<br>            flex-wrap: wrap;<br>            justify-content: flex-start;<br>            width: 100%;<br>        }<br>        .wandb-col {<br>            display: flex;<br>            flex-direction: column;<br>            flex-basis: 100%;<br>            flex: 1;<br>            padding: 10px;<br>        }<br>    </style><br><div class=\"wandb-row\"><div class=\"wandb-col\"><h3>Run history:</h3><br/><table class=\"wandb\"><tr><td>epoch</td><td>▁▂▄▅▇█</td></tr><tr><td>train_acc</td><td>▁▆▇▇██</td></tr><tr><td>train_loss</td><td>█▄▃▂▁▁</td></tr><tr><td>training time</td><td>█▁▁▁▁▁</td></tr><tr><td>val_acc</td><td>█▂▁▅▃▃</td></tr><tr><td>val_loss</td><td>▁▆▇▆▇█</td></tr></table><br/></div><div class=\"wandb-col\"><h3>Run summary:</h3><br/><table class=\"wandb\"><tr><td>epoch</td><td>6</td></tr><tr><td>train_acc</td><td>86.01517</td></tr><tr><td>train_loss</td><td>0.45057</td></tr><tr><td>training time</td><td>66.01926</td></tr><tr><td>val_acc</td><td>50.01754</td></tr><tr><td>val_loss</td><td>4.37367</td></tr></table><br/></div></div>"
            ]
          },
          "metadata": {}
        },
        {
          "output_type": "display_data",
          "data": {
            "text/plain": [
              "<IPython.core.display.HTML object>"
            ],
            "text/html": [
              " View run <strong style=\"color:#cdcd00\"> num_of_decoders(3)_ cell_type(rnn)_latent_dim(64)_lr(0.001)_optimizer(adam)_dropout(0.5)inp_emb_size(256)_batch_size(64</strong> at: <a href='https://wandb.ai/na21b050-iit-madras/CS6910_Assignment3/runs/n18yi3c4' target=\"_blank\">https://wandb.ai/na21b050-iit-madras/CS6910_Assignment3/runs/n18yi3c4</a><br> View project at: <a href='https://wandb.ai/na21b050-iit-madras/CS6910_Assignment3' target=\"_blank\">https://wandb.ai/na21b050-iit-madras/CS6910_Assignment3</a><br>Synced 5 W&B file(s), 0 media file(s), 0 artifact file(s) and 0 other file(s)"
            ]
          },
          "metadata": {}
        },
        {
          "output_type": "display_data",
          "data": {
            "text/plain": [
              "<IPython.core.display.HTML object>"
            ],
            "text/html": [
              "Find logs at: <code>./wandb/run-20250519_110953-n18yi3c4/logs</code>"
            ]
          },
          "metadata": {}
        },
        {
          "output_type": "stream",
          "name": "stderr",
          "text": [
            "\u001b[34m\u001b[1mwandb\u001b[0m: Agent Starting Run: dazjzr6i with config:\n",
            "\u001b[34m\u001b[1mwandb\u001b[0m: \tbatch_size: 64\n",
            "\u001b[34m\u001b[1mwandb\u001b[0m: \tcell_type: rnn\n",
            "\u001b[34m\u001b[1mwandb\u001b[0m: \tdropout: 0.5\n",
            "\u001b[34m\u001b[1mwandb\u001b[0m: \tinp_emb_size: 256\n",
            "\u001b[34m\u001b[1mwandb\u001b[0m: \tlatent_dim: 64\n",
            "\u001b[34m\u001b[1mwandb\u001b[0m: \tlr: 0.05\n",
            "\u001b[34m\u001b[1mwandb\u001b[0m: \tnum_of_decoders: 3\n",
            "\u001b[34m\u001b[1mwandb\u001b[0m: \tnum_of_encoders: 3\n",
            "\u001b[34m\u001b[1mwandb\u001b[0m: \toptimizer: rmsprop\n"
          ]
        },
        {
          "output_type": "display_data",
          "data": {
            "text/plain": [
              "<IPython.core.display.HTML object>"
            ],
            "text/html": [
              "Tracking run with wandb version 0.19.11"
            ]
          },
          "metadata": {}
        },
        {
          "output_type": "display_data",
          "data": {
            "text/plain": [
              "<IPython.core.display.HTML object>"
            ],
            "text/html": [
              "Run data is saved locally in <code>/content/wandb/run-20250519_111718-dazjzr6i</code>"
            ]
          },
          "metadata": {}
        },
        {
          "output_type": "display_data",
          "data": {
            "text/plain": [
              "<IPython.core.display.HTML object>"
            ],
            "text/html": [
              "Syncing run <strong><a href='https://wandb.ai/na21b050-iit-madras/CS6910_Assignment3/runs/dazjzr6i' target=\"_blank\">fallen-sweep-11</a></strong> to <a href='https://wandb.ai/na21b050-iit-madras/CS6910_Assignment3' target=\"_blank\">Weights & Biases</a> (<a href='https://wandb.me/developer-guide' target=\"_blank\">docs</a>)<br>Sweep page: <a href='https://wandb.ai/na21b050-iit-madras/CS6910_Assignment3/sweeps/h16aspho' target=\"_blank\">https://wandb.ai/na21b050-iit-madras/CS6910_Assignment3/sweeps/h16aspho</a>"
            ]
          },
          "metadata": {}
        },
        {
          "output_type": "display_data",
          "data": {
            "text/plain": [
              "<IPython.core.display.HTML object>"
            ],
            "text/html": [
              " View project at <a href='https://wandb.ai/na21b050-iit-madras/CS6910_Assignment3' target=\"_blank\">https://wandb.ai/na21b050-iit-madras/CS6910_Assignment3</a>"
            ]
          },
          "metadata": {}
        },
        {
          "output_type": "display_data",
          "data": {
            "text/plain": [
              "<IPython.core.display.HTML object>"
            ],
            "text/html": [
              " View sweep at <a href='https://wandb.ai/na21b050-iit-madras/CS6910_Assignment3/sweeps/h16aspho' target=\"_blank\">https://wandb.ai/na21b050-iit-madras/CS6910_Assignment3/sweeps/h16aspho</a>"
            ]
          },
          "metadata": {}
        },
        {
          "output_type": "display_data",
          "data": {
            "text/plain": [
              "<IPython.core.display.HTML object>"
            ],
            "text/html": [
              " View run at <a href='https://wandb.ai/na21b050-iit-madras/CS6910_Assignment3/runs/dazjzr6i' target=\"_blank\">https://wandb.ai/na21b050-iit-madras/CS6910_Assignment3/runs/dazjzr6i</a>"
            ]
          },
          "metadata": {}
        },
        {
          "output_type": "stream",
          "name": "stderr",
          "text": [
            "Epochs :   7%|▋         | 1/15 [01:52<26:13, 112.38s/it]"
          ]
        },
        {
          "output_type": "stream",
          "name": "stdout",
          "text": [
            "\n",
            "Train Loss: 1.5508 Train Accuracy: 54.1066 Validation Loss: 11.2040 Validation Accuracy: 3.9164\n",
            "\n",
            "Time taken for the epoch 112.3734\n"
          ]
        },
        {
          "output_type": "stream",
          "name": "stderr",
          "text": [
            "\rEpochs :  13%|█▎        | 2/15 [02:53<17:47, 82.14s/it] "
          ]
        },
        {
          "output_type": "stream",
          "name": "stdout",
          "text": [
            "\n",
            "Train Loss: 1.2313 Train Accuracy: 65.8760 Validation Loss: 14.7933 Validation Accuracy: 18.9555\n",
            "\n",
            "Time taken for the epoch 60.9632\n"
          ]
        },
        {
          "output_type": "stream",
          "name": "stderr",
          "text": [
            "\rEpochs :  20%|██        | 3/15 [03:55<14:37, 73.09s/it]"
          ]
        },
        {
          "output_type": "stream",
          "name": "stdout",
          "text": [
            "\n",
            "Train Loss: 1.2404 Train Accuracy: 65.8687 Validation Loss: 4.2395 Validation Accuracy: 59.3680\n",
            "\n",
            "Time taken for the epoch 62.3274\n"
          ]
        },
        {
          "output_type": "stream",
          "name": "stderr",
          "text": [
            "\rEpochs :  27%|██▋       | 4/15 [04:57<12:36, 68.76s/it]"
          ]
        },
        {
          "output_type": "stream",
          "name": "stdout",
          "text": [
            "\n",
            "Train Loss: 1.2294 Train Accuracy: 65.9108 Validation Loss: 4.1440 Validation Accuracy: 59.5807\n",
            "\n",
            "Time taken for the epoch 62.0990\n"
          ]
        },
        {
          "output_type": "stream",
          "name": "stderr",
          "text": [
            "\rEpochs :  33%|███▎      | 5/15 [06:00<11:05, 66.53s/it]"
          ]
        },
        {
          "output_type": "stream",
          "name": "stdout",
          "text": [
            "\n",
            "Train Loss: 1.2303 Train Accuracy: 66.0122 Validation Loss: 20.2834 Validation Accuracy: 3.6937\n",
            "\n",
            "Time taken for the epoch 62.5839\n"
          ]
        },
        {
          "output_type": "stream",
          "name": "stderr",
          "text": [
            "\rEpochs :  40%|████      | 6/15 [07:04<09:50, 65.65s/it]"
          ]
        },
        {
          "output_type": "stream",
          "name": "stdout",
          "text": [
            "\n",
            "Train Loss: 1.2393 Train Accuracy: 65.6776 Validation Loss: 4.6108 Validation Accuracy: 58.8438\n",
            "\n",
            "Time taken for the epoch 63.9271\n"
          ]
        },
        {
          "output_type": "stream",
          "name": "stderr",
          "text": [
            "\rEpochs :  47%|████▋     | 7/15 [08:07<08:38, 64.76s/it]"
          ]
        },
        {
          "output_type": "stream",
          "name": "stdout",
          "text": [
            "\n",
            "Train Loss: 1.2511 Train Accuracy: 65.8826 Validation Loss: 7.6084 Validation Accuracy: 41.3756\n",
            "\n",
            "Time taken for the epoch 62.9164\n"
          ]
        },
        {
          "output_type": "stream",
          "name": "stderr",
          "text": [
            "\rEpochs :  53%|█████▎    | 8/15 [09:12<07:33, 64.82s/it]"
          ]
        },
        {
          "output_type": "stream",
          "name": "stdout",
          "text": [
            "\n",
            "Train Loss: 1.2597 Train Accuracy: 65.5392 Validation Loss: 6.8989 Validation Accuracy: 59.5180\n",
            "\n",
            "Time taken for the epoch 64.9427\n"
          ]
        },
        {
          "output_type": "stream",
          "name": "stderr",
          "text": [
            "Epochs :  60%|██████    | 9/15 [10:17<06:51, 68.59s/it]"
          ]
        },
        {
          "output_type": "stream",
          "name": "stdout",
          "text": [
            "\n",
            "Train Loss: 1.2453 Train Accuracy: 65.8946 Validation Loss: 19.4867 Validation Accuracy: 2.2497\n",
            "\n",
            "Time taken for the epoch 65.1655\n",
            "\n",
            "Model trained successfully !!\n"
          ]
        },
        {
          "output_type": "stream",
          "name": "stderr",
          "text": [
            "\n"
          ]
        },
        {
          "output_type": "display_data",
          "data": {
            "text/plain": [
              "<IPython.core.display.HTML object>"
            ],
            "text/html": []
          },
          "metadata": {}
        },
        {
          "output_type": "display_data",
          "data": {
            "text/plain": [
              "<IPython.core.display.HTML object>"
            ],
            "text/html": [
              "<br>    <style><br>        .wandb-row {<br>            display: flex;<br>            flex-direction: row;<br>            flex-wrap: wrap;<br>            justify-content: flex-start;<br>            width: 100%;<br>        }<br>        .wandb-col {<br>            display: flex;<br>            flex-direction: column;<br>            flex-basis: 100%;<br>            flex: 1;<br>            padding: 10px;<br>        }<br>    </style><br><div class=\"wandb-row\"><div class=\"wandb-col\"><h3>Run history:</h3><br/><table class=\"wandb\"><tr><td>epoch</td><td>▁▂▃▄▅▅▆▇█</td></tr><tr><td>train_acc</td><td>▁████████</td></tr><tr><td>train_loss</td><td>█▁▁▁▁▁▁▂▁</td></tr><tr><td>training time</td><td>█▁▁▁▁▁▁▂▂</td></tr><tr><td>val_acc</td><td>▁▃██▁█▆█▁</td></tr><tr><td>val_loss</td><td>▄▆▁▁█▁▃▂█</td></tr></table><br/></div><div class=\"wandb-col\"><h3>Run summary:</h3><br/><table class=\"wandb\"><tr><td>epoch</td><td>9</td></tr><tr><td>train_acc</td><td>65.8946</td></tr><tr><td>train_loss</td><td>1.24532</td></tr><tr><td>training time</td><td>65.16547</td></tr><tr><td>val_acc</td><td>2.24969</td></tr><tr><td>val_loss</td><td>19.48668</td></tr></table><br/></div></div>"
            ]
          },
          "metadata": {}
        },
        {
          "output_type": "display_data",
          "data": {
            "text/plain": [
              "<IPython.core.display.HTML object>"
            ],
            "text/html": [
              " View run <strong style=\"color:#cdcd00\"> num_of_decoders(3)_ cell_type(rnn)_latent_dim(64)_lr(0.05)_optimizer(rmsprop)_dropout(0.5)inp_emb_size(256)_batch_size(64</strong> at: <a href='https://wandb.ai/na21b050-iit-madras/CS6910_Assignment3/runs/dazjzr6i' target=\"_blank\">https://wandb.ai/na21b050-iit-madras/CS6910_Assignment3/runs/dazjzr6i</a><br> View project at: <a href='https://wandb.ai/na21b050-iit-madras/CS6910_Assignment3' target=\"_blank\">https://wandb.ai/na21b050-iit-madras/CS6910_Assignment3</a><br>Synced 5 W&B file(s), 0 media file(s), 0 artifact file(s) and 0 other file(s)"
            ]
          },
          "metadata": {}
        },
        {
          "output_type": "display_data",
          "data": {
            "text/plain": [
              "<IPython.core.display.HTML object>"
            ],
            "text/html": [
              "Find logs at: <code>./wandb/run-20250519_111718-dazjzr6i/logs</code>"
            ]
          },
          "metadata": {}
        },
        {
          "output_type": "stream",
          "name": "stderr",
          "text": [
            "\u001b[34m\u001b[1mwandb\u001b[0m: Agent Starting Run: zkkevy92 with config:\n",
            "\u001b[34m\u001b[1mwandb\u001b[0m: \tbatch_size: 128\n",
            "\u001b[34m\u001b[1mwandb\u001b[0m: \tcell_type: rnn\n",
            "\u001b[34m\u001b[1mwandb\u001b[0m: \tdropout: 0.3\n",
            "\u001b[34m\u001b[1mwandb\u001b[0m: \tinp_emb_size: 256\n",
            "\u001b[34m\u001b[1mwandb\u001b[0m: \tlatent_dim: 64\n",
            "\u001b[34m\u001b[1mwandb\u001b[0m: \tlr: 0.001\n",
            "\u001b[34m\u001b[1mwandb\u001b[0m: \tnum_of_decoders: 3\n",
            "\u001b[34m\u001b[1mwandb\u001b[0m: \tnum_of_encoders: 3\n",
            "\u001b[34m\u001b[1mwandb\u001b[0m: \toptimizer: adam\n"
          ]
        },
        {
          "output_type": "display_data",
          "data": {
            "text/plain": [
              "<IPython.core.display.HTML object>"
            ],
            "text/html": [
              "Tracking run with wandb version 0.19.11"
            ]
          },
          "metadata": {}
        },
        {
          "output_type": "display_data",
          "data": {
            "text/plain": [
              "<IPython.core.display.HTML object>"
            ],
            "text/html": [
              "Run data is saved locally in <code>/content/wandb/run-20250519_112742-zkkevy92</code>"
            ]
          },
          "metadata": {}
        },
        {
          "output_type": "display_data",
          "data": {
            "text/plain": [
              "<IPython.core.display.HTML object>"
            ],
            "text/html": [
              "Syncing run <strong><a href='https://wandb.ai/na21b050-iit-madras/CS6910_Assignment3/runs/zkkevy92' target=\"_blank\">lunar-sweep-12</a></strong> to <a href='https://wandb.ai/na21b050-iit-madras/CS6910_Assignment3' target=\"_blank\">Weights & Biases</a> (<a href='https://wandb.me/developer-guide' target=\"_blank\">docs</a>)<br>Sweep page: <a href='https://wandb.ai/na21b050-iit-madras/CS6910_Assignment3/sweeps/h16aspho' target=\"_blank\">https://wandb.ai/na21b050-iit-madras/CS6910_Assignment3/sweeps/h16aspho</a>"
            ]
          },
          "metadata": {}
        },
        {
          "output_type": "display_data",
          "data": {
            "text/plain": [
              "<IPython.core.display.HTML object>"
            ],
            "text/html": [
              " View project at <a href='https://wandb.ai/na21b050-iit-madras/CS6910_Assignment3' target=\"_blank\">https://wandb.ai/na21b050-iit-madras/CS6910_Assignment3</a>"
            ]
          },
          "metadata": {}
        },
        {
          "output_type": "display_data",
          "data": {
            "text/plain": [
              "<IPython.core.display.HTML object>"
            ],
            "text/html": [
              " View sweep at <a href='https://wandb.ai/na21b050-iit-madras/CS6910_Assignment3/sweeps/h16aspho' target=\"_blank\">https://wandb.ai/na21b050-iit-madras/CS6910_Assignment3/sweeps/h16aspho</a>"
            ]
          },
          "metadata": {}
        },
        {
          "output_type": "display_data",
          "data": {
            "text/plain": [
              "<IPython.core.display.HTML object>"
            ],
            "text/html": [
              " View run at <a href='https://wandb.ai/na21b050-iit-madras/CS6910_Assignment3/runs/zkkevy92' target=\"_blank\">https://wandb.ai/na21b050-iit-madras/CS6910_Assignment3/runs/zkkevy92</a>"
            ]
          },
          "metadata": {}
        },
        {
          "output_type": "stream",
          "name": "stderr",
          "text": [
            "Epochs :   7%|▋         | 1/15 [01:53<26:35, 113.97s/it]"
          ]
        },
        {
          "output_type": "stream",
          "name": "stdout",
          "text": [
            "\n",
            "Train Loss: 0.9605 Train Accuracy: 68.0272 Validation Loss: 2.8553 Validation Accuracy: 54.6208\n",
            "\n",
            "Time taken for the epoch 113.9508\n"
          ]
        },
        {
          "output_type": "stream",
          "name": "stderr",
          "text": [
            "\rEpochs :  13%|█▎        | 2/15 [02:56<18:04, 83.44s/it] "
          ]
        },
        {
          "output_type": "stream",
          "name": "stdout",
          "text": [
            "\n",
            "Train Loss: 0.6842 Train Accuracy: 79.3524 Validation Loss: 3.0747 Validation Accuracy: 55.7374\n",
            "\n",
            "Time taken for the epoch 62.0525\n"
          ]
        },
        {
          "output_type": "stream",
          "name": "stderr",
          "text": [
            "\rEpochs :  20%|██        | 3/15 [03:59<14:50, 74.17s/it]"
          ]
        },
        {
          "output_type": "stream",
          "name": "stdout",
          "text": [
            "\n",
            "Train Loss: 0.6026 Train Accuracy: 81.7111 Validation Loss: 3.4560 Validation Accuracy: 54.0218\n",
            "\n",
            "Time taken for the epoch 63.1361\n"
          ]
        },
        {
          "output_type": "stream",
          "name": "stderr",
          "text": [
            "\rEpochs :  27%|██▋       | 4/15 [05:01<12:44, 69.52s/it]"
          ]
        },
        {
          "output_type": "stream",
          "name": "stdout",
          "text": [
            "\n",
            "Train Loss: 0.5510 Train Accuracy: 83.1632 Validation Loss: 3.5688 Validation Accuracy: 54.0884\n",
            "\n",
            "Time taken for the epoch 62.3947\n"
          ]
        },
        {
          "output_type": "stream",
          "name": "stderr",
          "text": [
            "\rEpochs :  33%|███▎      | 5/15 [06:04<11:12, 67.23s/it]"
          ]
        },
        {
          "output_type": "stream",
          "name": "stdout",
          "text": [
            "\n",
            "Train Loss: 0.5158 Train Accuracy: 84.1873 Validation Loss: 3.8596 Validation Accuracy: 52.1729\n",
            "\n",
            "Time taken for the epoch 63.1453\n"
          ]
        },
        {
          "output_type": "stream",
          "name": "stderr",
          "text": [
            "\rEpochs :  40%|████      | 6/15 [07:07<09:50, 65.63s/it]"
          ]
        },
        {
          "output_type": "stream",
          "name": "stdout",
          "text": [
            "\n",
            "Train Loss: 0.4887 Train Accuracy: 84.9674 Validation Loss: 3.7612 Validation Accuracy: 54.3430\n",
            "\n",
            "Time taken for the epoch 62.5162\n"
          ]
        },
        {
          "output_type": "stream",
          "name": "stderr",
          "text": [
            "Epochs :  47%|████▋     | 7/15 [08:10<09:20, 70.09s/it]"
          ]
        },
        {
          "output_type": "stream",
          "name": "stdout",
          "text": [
            "\n",
            "Train Loss: 0.4661 Train Accuracy: 85.5463 Validation Loss: 3.9968 Validation Accuracy: 52.5365\n",
            "\n",
            "Time taken for the epoch 63.3445\n",
            "\n",
            "Model trained successfully !!\n"
          ]
        },
        {
          "output_type": "stream",
          "name": "stderr",
          "text": [
            "\n"
          ]
        },
        {
          "output_type": "display_data",
          "data": {
            "text/plain": [
              "<IPython.core.display.HTML object>"
            ],
            "text/html": []
          },
          "metadata": {}
        },
        {
          "output_type": "display_data",
          "data": {
            "text/plain": [
              "<IPython.core.display.HTML object>"
            ],
            "text/html": [
              "<br>    <style><br>        .wandb-row {<br>            display: flex;<br>            flex-direction: row;<br>            flex-wrap: wrap;<br>            justify-content: flex-start;<br>            width: 100%;<br>        }<br>        .wandb-col {<br>            display: flex;<br>            flex-direction: column;<br>            flex-basis: 100%;<br>            flex: 1;<br>            padding: 10px;<br>        }<br>    </style><br><div class=\"wandb-row\"><div class=\"wandb-col\"><h3>Run history:</h3><br/><table class=\"wandb\"><tr><td>epoch</td><td>▁▂▃▅▆▇█</td></tr><tr><td>train_acc</td><td>▁▆▆▇▇██</td></tr><tr><td>train_loss</td><td>█▄▃▂▂▁▁</td></tr><tr><td>training time</td><td>█▁▁▁▁▁▁</td></tr><tr><td>val_acc</td><td>▆█▅▅▁▅▂</td></tr><tr><td>val_loss</td><td>▁▂▅▅▇▇█</td></tr></table><br/></div><div class=\"wandb-col\"><h3>Run summary:</h3><br/><table class=\"wandb\"><tr><td>epoch</td><td>7</td></tr><tr><td>train_acc</td><td>85.5463</td></tr><tr><td>train_loss</td><td>0.46607</td></tr><tr><td>training time</td><td>63.34454</td></tr><tr><td>val_acc</td><td>52.53646</td></tr><tr><td>val_loss</td><td>3.9968</td></tr></table><br/></div></div>"
            ]
          },
          "metadata": {}
        },
        {
          "output_type": "display_data",
          "data": {
            "text/plain": [
              "<IPython.core.display.HTML object>"
            ],
            "text/html": [
              " View run <strong style=\"color:#cdcd00\"> num_of_decoders(3)_ cell_type(rnn)_latent_dim(64)_lr(0.001)_optimizer(adam)_dropout(0.3)inp_emb_size(256)_batch_size(128</strong> at: <a href='https://wandb.ai/na21b050-iit-madras/CS6910_Assignment3/runs/zkkevy92' target=\"_blank\">https://wandb.ai/na21b050-iit-madras/CS6910_Assignment3/runs/zkkevy92</a><br> View project at: <a href='https://wandb.ai/na21b050-iit-madras/CS6910_Assignment3' target=\"_blank\">https://wandb.ai/na21b050-iit-madras/CS6910_Assignment3</a><br>Synced 5 W&B file(s), 0 media file(s), 0 artifact file(s) and 0 other file(s)"
            ]
          },
          "metadata": {}
        },
        {
          "output_type": "display_data",
          "data": {
            "text/plain": [
              "<IPython.core.display.HTML object>"
            ],
            "text/html": [
              "Find logs at: <code>./wandb/run-20250519_112742-zkkevy92/logs</code>"
            ]
          },
          "metadata": {}
        },
        {
          "output_type": "stream",
          "name": "stderr",
          "text": [
            "\u001b[34m\u001b[1mwandb\u001b[0m: Agent Starting Run: 9xihf0nt with config:\n",
            "\u001b[34m\u001b[1mwandb\u001b[0m: \tbatch_size: 128\n",
            "\u001b[34m\u001b[1mwandb\u001b[0m: \tcell_type: rnn\n",
            "\u001b[34m\u001b[1mwandb\u001b[0m: \tdropout: 0.5\n",
            "\u001b[34m\u001b[1mwandb\u001b[0m: \tinp_emb_size: 256\n",
            "\u001b[34m\u001b[1mwandb\u001b[0m: \tlatent_dim: 64\n",
            "\u001b[34m\u001b[1mwandb\u001b[0m: \tlr: 0.05\n",
            "\u001b[34m\u001b[1mwandb\u001b[0m: \tnum_of_decoders: 3\n",
            "\u001b[34m\u001b[1mwandb\u001b[0m: \tnum_of_encoders: 4\n",
            "\u001b[34m\u001b[1mwandb\u001b[0m: \toptimizer: adam\n"
          ]
        },
        {
          "output_type": "display_data",
          "data": {
            "text/plain": [
              "<IPython.core.display.HTML object>"
            ],
            "text/html": [
              "Tracking run with wandb version 0.19.11"
            ]
          },
          "metadata": {}
        },
        {
          "output_type": "display_data",
          "data": {
            "text/plain": [
              "<IPython.core.display.HTML object>"
            ],
            "text/html": [
              "Run data is saved locally in <code>/content/wandb/run-20250519_113558-9xihf0nt</code>"
            ]
          },
          "metadata": {}
        },
        {
          "output_type": "display_data",
          "data": {
            "text/plain": [
              "<IPython.core.display.HTML object>"
            ],
            "text/html": [
              "Syncing run <strong><a href='https://wandb.ai/na21b050-iit-madras/CS6910_Assignment3/runs/9xihf0nt' target=\"_blank\">sweepy-sweep-13</a></strong> to <a href='https://wandb.ai/na21b050-iit-madras/CS6910_Assignment3' target=\"_blank\">Weights & Biases</a> (<a href='https://wandb.me/developer-guide' target=\"_blank\">docs</a>)<br>Sweep page: <a href='https://wandb.ai/na21b050-iit-madras/CS6910_Assignment3/sweeps/h16aspho' target=\"_blank\">https://wandb.ai/na21b050-iit-madras/CS6910_Assignment3/sweeps/h16aspho</a>"
            ]
          },
          "metadata": {}
        },
        {
          "output_type": "display_data",
          "data": {
            "text/plain": [
              "<IPython.core.display.HTML object>"
            ],
            "text/html": [
              " View project at <a href='https://wandb.ai/na21b050-iit-madras/CS6910_Assignment3' target=\"_blank\">https://wandb.ai/na21b050-iit-madras/CS6910_Assignment3</a>"
            ]
          },
          "metadata": {}
        },
        {
          "output_type": "display_data",
          "data": {
            "text/plain": [
              "<IPython.core.display.HTML object>"
            ],
            "text/html": [
              " View sweep at <a href='https://wandb.ai/na21b050-iit-madras/CS6910_Assignment3/sweeps/h16aspho' target=\"_blank\">https://wandb.ai/na21b050-iit-madras/CS6910_Assignment3/sweeps/h16aspho</a>"
            ]
          },
          "metadata": {}
        },
        {
          "output_type": "display_data",
          "data": {
            "text/plain": [
              "<IPython.core.display.HTML object>"
            ],
            "text/html": [
              " View run at <a href='https://wandb.ai/na21b050-iit-madras/CS6910_Assignment3/runs/9xihf0nt' target=\"_blank\">https://wandb.ai/na21b050-iit-madras/CS6910_Assignment3/runs/9xihf0nt</a>"
            ]
          },
          "metadata": {}
        },
        {
          "output_type": "stream",
          "name": "stderr",
          "text": [
            "Epochs :   7%|▋         | 1/15 [01:55<27:03, 115.95s/it]"
          ]
        },
        {
          "output_type": "stream",
          "name": "stdout",
          "text": [
            "\n",
            "Train Loss: 1.4000 Train Accuracy: 59.4055 Validation Loss: 4.3807 Validation Accuracy: 59.6807\n",
            "\n",
            "Time taken for the epoch 115.9457\n"
          ]
        },
        {
          "output_type": "stream",
          "name": "stderr",
          "text": [
            "\rEpochs :  13%|█▎        | 2/15 [03:02<18:52, 87.13s/it] "
          ]
        },
        {
          "output_type": "stream",
          "name": "stdout",
          "text": [
            "\n",
            "Train Loss: 1.2753 Train Accuracy: 65.1754 Validation Loss: 4.7862 Validation Accuracy: 59.5802\n",
            "\n",
            "Time taken for the epoch 66.9513\n"
          ]
        },
        {
          "output_type": "stream",
          "name": "stderr",
          "text": [
            "\rEpochs :  20%|██        | 3/15 [04:08<15:27, 77.30s/it]"
          ]
        },
        {
          "output_type": "stream",
          "name": "stdout",
          "text": [
            "\n",
            "Train Loss: 1.2795 Train Accuracy: 65.2124 Validation Loss: 3.8299 Validation Accuracy: 54.3068\n",
            "\n",
            "Time taken for the epoch 65.6003\n"
          ]
        },
        {
          "output_type": "stream",
          "name": "stderr",
          "text": [
            "\rEpochs :  27%|██▋       | 4/15 [05:12<13:12, 72.01s/it]"
          ]
        },
        {
          "output_type": "stream",
          "name": "stdout",
          "text": [
            "\n",
            "Train Loss: 1.2865 Train Accuracy: 65.1616 Validation Loss: 3.5170 Validation Accuracy: 56.7736\n",
            "\n",
            "Time taken for the epoch 63.8818\n"
          ]
        },
        {
          "output_type": "stream",
          "name": "stderr",
          "text": [
            "\rEpochs :  33%|███▎      | 5/15 [06:17<11:34, 69.43s/it]"
          ]
        },
        {
          "output_type": "stream",
          "name": "stdout",
          "text": [
            "\n",
            "Train Loss: 1.2818 Train Accuracy: 65.4333 Validation Loss: 5.6704 Validation Accuracy: 58.9475\n",
            "\n",
            "Time taken for the epoch 64.8579\n"
          ]
        },
        {
          "output_type": "stream",
          "name": "stderr",
          "text": [
            "Epochs :  40%|████      | 6/15 [07:23<11:05, 73.90s/it]"
          ]
        },
        {
          "output_type": "stream",
          "name": "stdout",
          "text": [
            "\n",
            "Train Loss: 1.2799 Train Accuracy: 65.2579 Validation Loss: 5.6599 Validation Accuracy: 47.0659\n",
            "\n",
            "Time taken for the epoch 66.1480\n",
            "\n",
            "Model trained successfully !!\n"
          ]
        },
        {
          "output_type": "stream",
          "name": "stderr",
          "text": [
            "\n"
          ]
        },
        {
          "output_type": "display_data",
          "data": {
            "text/plain": [
              "<IPython.core.display.HTML object>"
            ],
            "text/html": []
          },
          "metadata": {}
        },
        {
          "output_type": "display_data",
          "data": {
            "text/plain": [
              "<IPython.core.display.HTML object>"
            ],
            "text/html": [
              "<br>    <style><br>        .wandb-row {<br>            display: flex;<br>            flex-direction: row;<br>            flex-wrap: wrap;<br>            justify-content: flex-start;<br>            width: 100%;<br>        }<br>        .wandb-col {<br>            display: flex;<br>            flex-direction: column;<br>            flex-basis: 100%;<br>            flex: 1;<br>            padding: 10px;<br>        }<br>    </style><br><div class=\"wandb-row\"><div class=\"wandb-col\"><h3>Run history:</h3><br/><table class=\"wandb\"><tr><td>epoch</td><td>▁▂▄▅▇█</td></tr><tr><td>train_acc</td><td>▁█████</td></tr><tr><td>train_loss</td><td>█▁▁▂▁▁</td></tr><tr><td>training time</td><td>█▁▁▁▁▁</td></tr><tr><td>val_acc</td><td>██▅▆█▁</td></tr><tr><td>val_loss</td><td>▄▅▂▁██</td></tr></table><br/></div><div class=\"wandb-col\"><h3>Run summary:</h3><br/><table class=\"wandb\"><tr><td>epoch</td><td>6</td></tr><tr><td>train_acc</td><td>65.2579</td></tr><tr><td>train_loss</td><td>1.27986</td></tr><tr><td>training time</td><td>66.14798</td></tr><tr><td>val_acc</td><td>47.06594</td></tr><tr><td>val_loss</td><td>5.6599</td></tr></table><br/></div></div>"
            ]
          },
          "metadata": {}
        },
        {
          "output_type": "display_data",
          "data": {
            "text/plain": [
              "<IPython.core.display.HTML object>"
            ],
            "text/html": [
              " View run <strong style=\"color:#cdcd00\"> num_of_decoders(3)_ cell_type(rnn)_latent_dim(64)_lr(0.05)_optimizer(adam)_dropout(0.5)inp_emb_size(256)_batch_size(128</strong> at: <a href='https://wandb.ai/na21b050-iit-madras/CS6910_Assignment3/runs/9xihf0nt' target=\"_blank\">https://wandb.ai/na21b050-iit-madras/CS6910_Assignment3/runs/9xihf0nt</a><br> View project at: <a href='https://wandb.ai/na21b050-iit-madras/CS6910_Assignment3' target=\"_blank\">https://wandb.ai/na21b050-iit-madras/CS6910_Assignment3</a><br>Synced 5 W&B file(s), 0 media file(s), 0 artifact file(s) and 0 other file(s)"
            ]
          },
          "metadata": {}
        },
        {
          "output_type": "display_data",
          "data": {
            "text/plain": [
              "<IPython.core.display.HTML object>"
            ],
            "text/html": [
              "Find logs at: <code>./wandb/run-20250519_113558-9xihf0nt/logs</code>"
            ]
          },
          "metadata": {}
        },
        {
          "output_type": "stream",
          "name": "stderr",
          "text": [
            "\u001b[34m\u001b[1mwandb\u001b[0m: Agent Starting Run: 8u9lcs6n with config:\n",
            "\u001b[34m\u001b[1mwandb\u001b[0m: \tbatch_size: 64\n",
            "\u001b[34m\u001b[1mwandb\u001b[0m: \tcell_type: rnn\n",
            "\u001b[34m\u001b[1mwandb\u001b[0m: \tdropout: 0.3\n",
            "\u001b[34m\u001b[1mwandb\u001b[0m: \tinp_emb_size: 256\n",
            "\u001b[34m\u001b[1mwandb\u001b[0m: \tlatent_dim: 128\n",
            "\u001b[34m\u001b[1mwandb\u001b[0m: \tlr: 0.05\n",
            "\u001b[34m\u001b[1mwandb\u001b[0m: \tnum_of_decoders: 3\n",
            "\u001b[34m\u001b[1mwandb\u001b[0m: \tnum_of_encoders: 4\n",
            "\u001b[34m\u001b[1mwandb\u001b[0m: \toptimizer: rmsprop\n"
          ]
        },
        {
          "output_type": "display_data",
          "data": {
            "text/plain": [
              "<IPython.core.display.HTML object>"
            ],
            "text/html": [
              "Tracking run with wandb version 0.19.11"
            ]
          },
          "metadata": {}
        },
        {
          "output_type": "display_data",
          "data": {
            "text/plain": [
              "<IPython.core.display.HTML object>"
            ],
            "text/html": [
              "Run data is saved locally in <code>/content/wandb/run-20250519_114329-8u9lcs6n</code>"
            ]
          },
          "metadata": {}
        },
        {
          "output_type": "display_data",
          "data": {
            "text/plain": [
              "<IPython.core.display.HTML object>"
            ],
            "text/html": [
              "Syncing run <strong><a href='https://wandb.ai/na21b050-iit-madras/CS6910_Assignment3/runs/8u9lcs6n' target=\"_blank\">splendid-sweep-14</a></strong> to <a href='https://wandb.ai/na21b050-iit-madras/CS6910_Assignment3' target=\"_blank\">Weights & Biases</a> (<a href='https://wandb.me/developer-guide' target=\"_blank\">docs</a>)<br>Sweep page: <a href='https://wandb.ai/na21b050-iit-madras/CS6910_Assignment3/sweeps/h16aspho' target=\"_blank\">https://wandb.ai/na21b050-iit-madras/CS6910_Assignment3/sweeps/h16aspho</a>"
            ]
          },
          "metadata": {}
        },
        {
          "output_type": "display_data",
          "data": {
            "text/plain": [
              "<IPython.core.display.HTML object>"
            ],
            "text/html": [
              " View project at <a href='https://wandb.ai/na21b050-iit-madras/CS6910_Assignment3' target=\"_blank\">https://wandb.ai/na21b050-iit-madras/CS6910_Assignment3</a>"
            ]
          },
          "metadata": {}
        },
        {
          "output_type": "display_data",
          "data": {
            "text/plain": [
              "<IPython.core.display.HTML object>"
            ],
            "text/html": [
              " View sweep at <a href='https://wandb.ai/na21b050-iit-madras/CS6910_Assignment3/sweeps/h16aspho' target=\"_blank\">https://wandb.ai/na21b050-iit-madras/CS6910_Assignment3/sweeps/h16aspho</a>"
            ]
          },
          "metadata": {}
        },
        {
          "output_type": "display_data",
          "data": {
            "text/plain": [
              "<IPython.core.display.HTML object>"
            ],
            "text/html": [
              " View run at <a href='https://wandb.ai/na21b050-iit-madras/CS6910_Assignment3/runs/8u9lcs6n' target=\"_blank\">https://wandb.ai/na21b050-iit-madras/CS6910_Assignment3/runs/8u9lcs6n</a>"
            ]
          },
          "metadata": {}
        },
        {
          "output_type": "stream",
          "name": "stderr",
          "text": [
            "Epochs :   7%|▋         | 1/15 [01:50<25:47, 110.54s/it]"
          ]
        },
        {
          "output_type": "stream",
          "name": "stdout",
          "text": [
            "\n",
            "Train Loss: 1.8689 Train Accuracy: 59.3425 Validation Loss: 4.3345 Validation Accuracy: 58.7108\n",
            "\n",
            "Time taken for the epoch 110.5371\n"
          ]
        },
        {
          "output_type": "stream",
          "name": "stderr",
          "text": [
            "\rEpochs :  13%|█▎        | 2/15 [02:54<17:59, 83.06s/it] "
          ]
        },
        {
          "output_type": "stream",
          "name": "stdout",
          "text": [
            "\n",
            "Train Loss: 1.7248 Train Accuracy: 63.4067 Validation Loss: 12.1095 Validation Accuracy: 58.5117\n",
            "\n",
            "Time taken for the epoch 63.8149\n"
          ]
        },
        {
          "output_type": "stream",
          "name": "stderr",
          "text": [
            "\rEpochs :  20%|██        | 3/15 [03:58<14:52, 74.34s/it]"
          ]
        },
        {
          "output_type": "stream",
          "name": "stdout",
          "text": [
            "\n",
            "Train Loss: 1.7724 Train Accuracy: 63.7572 Validation Loss: 19.3361 Validation Accuracy: 2.9731\n",
            "\n",
            "Time taken for the epoch 63.9542\n"
          ]
        },
        {
          "output_type": "stream",
          "name": "stderr",
          "text": [
            "\rEpochs :  27%|██▋       | 4/15 [05:02<12:52, 70.24s/it]"
          ]
        },
        {
          "output_type": "stream",
          "name": "stdout",
          "text": [
            "\n",
            "Train Loss: 1.7723 Train Accuracy: 63.5095 Validation Loss: 5.2391 Validation Accuracy: 58.8788\n",
            "\n",
            "Time taken for the epoch 63.9479\n"
          ]
        },
        {
          "output_type": "stream",
          "name": "stderr",
          "text": [
            "\rEpochs :  33%|███▎      | 5/15 [06:06<11:20, 68.01s/it]"
          ]
        },
        {
          "output_type": "stream",
          "name": "stdout",
          "text": [
            "\n",
            "Train Loss: 1.7167 Train Accuracy: 63.7217 Validation Loss: 31.6730 Validation Accuracy: 3.1314\n",
            "\n",
            "Time taken for the epoch 64.0645\n"
          ]
        },
        {
          "output_type": "stream",
          "name": "stderr",
          "text": [
            "\rEpochs :  40%|████      | 6/15 [07:10<09:59, 66.60s/it]"
          ]
        },
        {
          "output_type": "stream",
          "name": "stdout",
          "text": [
            "\n",
            "Train Loss: 1.7098 Train Accuracy: 63.9527 Validation Loss: 22.2502 Validation Accuracy: 2.7410\n",
            "\n",
            "Time taken for the epoch 63.8641\n"
          ]
        },
        {
          "output_type": "stream",
          "name": "stderr",
          "text": [
            "\rEpochs :  47%|████▋     | 7/15 [08:14<08:47, 65.96s/it]"
          ]
        },
        {
          "output_type": "stream",
          "name": "stdout",
          "text": [
            "\n",
            "Train Loss: 1.7172 Train Accuracy: 63.9026 Validation Loss: 5.7224 Validation Accuracy: 58.8513\n",
            "\n",
            "Time taken for the epoch 64.6383\n"
          ]
        },
        {
          "output_type": "stream",
          "name": "stderr",
          "text": [
            "\rEpochs :  53%|█████▎    | 8/15 [09:20<07:40, 65.72s/it]"
          ]
        },
        {
          "output_type": "stream",
          "name": "stdout",
          "text": [
            "\n",
            "Train Loss: 1.6783 Train Accuracy: 63.5510 Validation Loss: 6.5897 Validation Accuracy: 59.6202\n",
            "\n",
            "Time taken for the epoch 65.1965\n"
          ]
        },
        {
          "output_type": "stream",
          "name": "stderr",
          "text": [
            "\rEpochs :  60%|██████    | 9/15 [10:24<06:31, 65.31s/it]"
          ]
        },
        {
          "output_type": "stream",
          "name": "stdout",
          "text": [
            "\n",
            "Train Loss: 1.6645 Train Accuracy: 63.7547 Validation Loss: 6.0659 Validation Accuracy: 53.2728\n",
            "\n",
            "Time taken for the epoch 64.3845\n"
          ]
        },
        {
          "output_type": "stream",
          "name": "stderr",
          "text": [
            "\rEpochs :  67%|██████▋   | 10/15 [11:27<05:23, 64.70s/it]"
          ]
        },
        {
          "output_type": "stream",
          "name": "stdout",
          "text": [
            "\n",
            "Train Loss: 1.6772 Train Accuracy: 63.7143 Validation Loss: 24.2412 Validation Accuracy: 1.7098\n",
            "\n",
            "Time taken for the epoch 63.3287\n"
          ]
        },
        {
          "output_type": "stream",
          "name": "stderr",
          "text": [
            "\rEpochs :  73%|███████▎  | 11/15 [12:32<04:18, 64.61s/it]"
          ]
        },
        {
          "output_type": "stream",
          "name": "stdout",
          "text": [
            "\n",
            "Train Loss: 1.6786 Train Accuracy: 63.6511 Validation Loss: 7.9969 Validation Accuracy: 53.9655\n",
            "\n",
            "Time taken for the epoch 64.3898\n"
          ]
        },
        {
          "output_type": "stream",
          "name": "stderr",
          "text": [
            "\rEpochs :  80%|████████  | 12/15 [13:37<03:14, 64.78s/it]"
          ]
        },
        {
          "output_type": "stream",
          "name": "stdout",
          "text": [
            "\n",
            "Train Loss: 1.6803 Train Accuracy: 63.7580 Validation Loss: 7.2861 Validation Accuracy: 59.3313\n",
            "\n",
            "Time taken for the epoch 65.1735\n"
          ]
        },
        {
          "output_type": "stream",
          "name": "stderr",
          "text": [
            "Epochs :  87%|████████▋ | 13/15 [14:41<02:15, 67.84s/it]"
          ]
        },
        {
          "output_type": "stream",
          "name": "stdout",
          "text": [
            "\n",
            "Train Loss: 1.6689 Train Accuracy: 63.5172 Validation Loss: 5.7321 Validation Accuracy: 58.4560\n",
            "\n",
            "Time taken for the epoch 64.5044\n",
            "\n",
            "Model trained successfully !!\n"
          ]
        },
        {
          "output_type": "stream",
          "name": "stderr",
          "text": [
            "\n"
          ]
        },
        {
          "output_type": "display_data",
          "data": {
            "text/plain": [
              "<IPython.core.display.HTML object>"
            ],
            "text/html": []
          },
          "metadata": {}
        },
        {
          "output_type": "display_data",
          "data": {
            "text/plain": [
              "<IPython.core.display.HTML object>"
            ],
            "text/html": [
              "<br>    <style><br>        .wandb-row {<br>            display: flex;<br>            flex-direction: row;<br>            flex-wrap: wrap;<br>            justify-content: flex-start;<br>            width: 100%;<br>        }<br>        .wandb-col {<br>            display: flex;<br>            flex-direction: column;<br>            flex-basis: 100%;<br>            flex: 1;<br>            padding: 10px;<br>        }<br>    </style><br><div class=\"wandb-row\"><div class=\"wandb-col\"><h3>Run history:</h3><br/><table class=\"wandb\"><tr><td>epoch</td><td>▁▂▂▃▃▄▅▅▆▆▇▇█</td></tr><tr><td>train_acc</td><td>▁▇█▇███▇████▇</td></tr><tr><td>train_loss</td><td>█▃▅▅▃▃▃▁▁▁▁▂▁</td></tr><tr><td>training time</td><td>█▁▁▁▁▁▁▁▁▁▁▁▁</td></tr><tr><td>val_acc</td><td>██▁█▁▁██▇▁▇██</td></tr><tr><td>val_loss</td><td>▁▃▅▁█▆▁▂▁▆▂▂▁</td></tr></table><br/></div><div class=\"wandb-col\"><h3>Run summary:</h3><br/><table class=\"wandb\"><tr><td>epoch</td><td>13</td></tr><tr><td>train_acc</td><td>63.51723</td></tr><tr><td>train_loss</td><td>1.66891</td></tr><tr><td>training time</td><td>64.50442</td></tr><tr><td>val_acc</td><td>58.45603</td></tr><tr><td>val_loss</td><td>5.73208</td></tr></table><br/></div></div>"
            ]
          },
          "metadata": {}
        },
        {
          "output_type": "display_data",
          "data": {
            "text/plain": [
              "<IPython.core.display.HTML object>"
            ],
            "text/html": [
              " View run <strong style=\"color:#cdcd00\"> num_of_decoders(3)_ cell_type(rnn)_latent_dim(128)_lr(0.05)_optimizer(rmsprop)_dropout(0.3)inp_emb_size(256)_batch_size(64</strong> at: <a href='https://wandb.ai/na21b050-iit-madras/CS6910_Assignment3/runs/8u9lcs6n' target=\"_blank\">https://wandb.ai/na21b050-iit-madras/CS6910_Assignment3/runs/8u9lcs6n</a><br> View project at: <a href='https://wandb.ai/na21b050-iit-madras/CS6910_Assignment3' target=\"_blank\">https://wandb.ai/na21b050-iit-madras/CS6910_Assignment3</a><br>Synced 5 W&B file(s), 0 media file(s), 0 artifact file(s) and 0 other file(s)"
            ]
          },
          "metadata": {}
        },
        {
          "output_type": "display_data",
          "data": {
            "text/plain": [
              "<IPython.core.display.HTML object>"
            ],
            "text/html": [
              "Find logs at: <code>./wandb/run-20250519_114329-8u9lcs6n/logs</code>"
            ]
          },
          "metadata": {}
        },
        {
          "output_type": "stream",
          "name": "stderr",
          "text": [
            "\u001b[34m\u001b[1mwandb\u001b[0m: Agent Starting Run: wzjpzb16 with config:\n",
            "\u001b[34m\u001b[1mwandb\u001b[0m: \tbatch_size: 64\n",
            "\u001b[34m\u001b[1mwandb\u001b[0m: \tcell_type: rnn\n",
            "\u001b[34m\u001b[1mwandb\u001b[0m: \tdropout: 0.3\n",
            "\u001b[34m\u001b[1mwandb\u001b[0m: \tinp_emb_size: 256\n",
            "\u001b[34m\u001b[1mwandb\u001b[0m: \tlatent_dim: 64\n",
            "\u001b[34m\u001b[1mwandb\u001b[0m: \tlr: 0.05\n",
            "\u001b[34m\u001b[1mwandb\u001b[0m: \tnum_of_decoders: 2\n",
            "\u001b[34m\u001b[1mwandb\u001b[0m: \tnum_of_encoders: 3\n",
            "\u001b[34m\u001b[1mwandb\u001b[0m: \toptimizer: rmsprop\n"
          ]
        },
        {
          "output_type": "display_data",
          "data": {
            "text/plain": [
              "<IPython.core.display.HTML object>"
            ],
            "text/html": [
              "Tracking run with wandb version 0.19.11"
            ]
          },
          "metadata": {}
        },
        {
          "output_type": "display_data",
          "data": {
            "text/plain": [
              "<IPython.core.display.HTML object>"
            ],
            "text/html": [
              "Run data is saved locally in <code>/content/wandb/run-20250519_115818-wzjpzb16</code>"
            ]
          },
          "metadata": {}
        },
        {
          "output_type": "display_data",
          "data": {
            "text/plain": [
              "<IPython.core.display.HTML object>"
            ],
            "text/html": [
              "Syncing run <strong><a href='https://wandb.ai/na21b050-iit-madras/CS6910_Assignment3/runs/wzjpzb16' target=\"_blank\">easy-sweep-15</a></strong> to <a href='https://wandb.ai/na21b050-iit-madras/CS6910_Assignment3' target=\"_blank\">Weights & Biases</a> (<a href='https://wandb.me/developer-guide' target=\"_blank\">docs</a>)<br>Sweep page: <a href='https://wandb.ai/na21b050-iit-madras/CS6910_Assignment3/sweeps/h16aspho' target=\"_blank\">https://wandb.ai/na21b050-iit-madras/CS6910_Assignment3/sweeps/h16aspho</a>"
            ]
          },
          "metadata": {}
        },
        {
          "output_type": "display_data",
          "data": {
            "text/plain": [
              "<IPython.core.display.HTML object>"
            ],
            "text/html": [
              " View project at <a href='https://wandb.ai/na21b050-iit-madras/CS6910_Assignment3' target=\"_blank\">https://wandb.ai/na21b050-iit-madras/CS6910_Assignment3</a>"
            ]
          },
          "metadata": {}
        },
        {
          "output_type": "display_data",
          "data": {
            "text/plain": [
              "<IPython.core.display.HTML object>"
            ],
            "text/html": [
              " View sweep at <a href='https://wandb.ai/na21b050-iit-madras/CS6910_Assignment3/sweeps/h16aspho' target=\"_blank\">https://wandb.ai/na21b050-iit-madras/CS6910_Assignment3/sweeps/h16aspho</a>"
            ]
          },
          "metadata": {}
        },
        {
          "output_type": "display_data",
          "data": {
            "text/plain": [
              "<IPython.core.display.HTML object>"
            ],
            "text/html": [
              " View run at <a href='https://wandb.ai/na21b050-iit-madras/CS6910_Assignment3/runs/wzjpzb16' target=\"_blank\">https://wandb.ai/na21b050-iit-madras/CS6910_Assignment3/runs/wzjpzb16</a>"
            ]
          },
          "metadata": {}
        },
        {
          "output_type": "stream",
          "name": "stderr",
          "text": [
            "Epochs :   7%|▋         | 1/15 [01:19<18:33, 79.50s/it]"
          ]
        },
        {
          "output_type": "stream",
          "name": "stdout",
          "text": [
            "\n",
            "Train Loss: 1.3364 Train Accuracy: 61.0085 Validation Loss: 5.1222 Validation Accuracy: 59.0630\n",
            "\n",
            "Time taken for the epoch 79.4954\n"
          ]
        },
        {
          "output_type": "stream",
          "name": "stderr",
          "text": [
            "\rEpochs :  13%|█▎        | 2/15 [02:05<12:56, 59.76s/it]"
          ]
        },
        {
          "output_type": "stream",
          "name": "stdout",
          "text": [
            "\n",
            "Train Loss: 1.2125 Train Accuracy: 66.4901 Validation Loss: 10.7972 Validation Accuracy: 27.7068\n",
            "\n",
            "Time taken for the epoch 45.9355\n"
          ]
        },
        {
          "output_type": "stream",
          "name": "stderr",
          "text": [
            "\rEpochs :  20%|██        | 3/15 [02:51<10:43, 53.59s/it]"
          ]
        },
        {
          "output_type": "stream",
          "name": "stdout",
          "text": [
            "\n",
            "Train Loss: 1.2009 Train Accuracy: 66.5480 Validation Loss: 4.2303 Validation Accuracy: 59.1021\n",
            "\n",
            "Time taken for the epoch 46.2306\n"
          ]
        },
        {
          "output_type": "stream",
          "name": "stderr",
          "text": [
            "\rEpochs :  27%|██▋       | 4/15 [03:37<09:16, 50.62s/it]"
          ]
        },
        {
          "output_type": "stream",
          "name": "stdout",
          "text": [
            "\n",
            "Train Loss: 1.1843 Train Accuracy: 66.8783 Validation Loss: 4.9296 Validation Accuracy: 58.8201\n",
            "\n",
            "Time taken for the epoch 46.0734\n"
          ]
        },
        {
          "output_type": "stream",
          "name": "stderr",
          "text": [
            "\rEpochs :  33%|███▎      | 5/15 [04:25<08:16, 49.63s/it]"
          ]
        },
        {
          "output_type": "stream",
          "name": "stdout",
          "text": [
            "\n",
            "Train Loss: 1.1781 Train Accuracy: 67.3284 Validation Loss: 19.6816 Validation Accuracy: 3.3266\n",
            "\n",
            "Time taken for the epoch 47.8798\n"
          ]
        },
        {
          "output_type": "stream",
          "name": "stderr",
          "text": [
            "\rEpochs :  40%|████      | 6/15 [05:13<07:21, 49.05s/it]"
          ]
        },
        {
          "output_type": "stream",
          "name": "stdout",
          "text": [
            "\n",
            "Train Loss: 1.1737 Train Accuracy: 67.3870 Validation Loss: 7.4163 Validation Accuracy: 59.3883\n",
            "\n",
            "Time taken for the epoch 47.9176\n"
          ]
        },
        {
          "output_type": "stream",
          "name": "stderr",
          "text": [
            "\rEpochs :  47%|████▋     | 7/15 [06:00<06:25, 48.25s/it]"
          ]
        },
        {
          "output_type": "stream",
          "name": "stdout",
          "text": [
            "\n",
            "Train Loss: 1.1766 Train Accuracy: 67.3279 Validation Loss: 5.9603 Validation Accuracy: 59.2056\n",
            "\n",
            "Time taken for the epoch 46.5921\n"
          ]
        },
        {
          "output_type": "stream",
          "name": "stderr",
          "text": [
            "\rEpochs :  53%|█████▎    | 8/15 [06:47<05:36, 48.03s/it]"
          ]
        },
        {
          "output_type": "stream",
          "name": "stdout",
          "text": [
            "\n",
            "Train Loss: 1.1702 Train Accuracy: 67.4544 Validation Loss: 5.9068 Validation Accuracy: 59.4421\n",
            "\n",
            "Time taken for the epoch 47.5474\n"
          ]
        },
        {
          "output_type": "stream",
          "name": "stderr",
          "text": [
            "\rEpochs :  60%|██████    | 9/15 [07:35<04:47, 47.86s/it]"
          ]
        },
        {
          "output_type": "stream",
          "name": "stdout",
          "text": [
            "\n",
            "Train Loss: 1.1724 Train Accuracy: 67.4181 Validation Loss: 5.4400 Validation Accuracy: 59.6848\n",
            "\n",
            "Time taken for the epoch 47.4913\n"
          ]
        },
        {
          "output_type": "stream",
          "name": "stderr",
          "text": [
            "\rEpochs :  67%|██████▋   | 10/15 [08:20<03:55, 47.13s/it]"
          ]
        },
        {
          "output_type": "stream",
          "name": "stdout",
          "text": [
            "\n",
            "Train Loss: 1.1698 Train Accuracy: 67.5900 Validation Loss: 8.2340 Validation Accuracy: 59.0308\n",
            "\n",
            "Time taken for the epoch 45.5014\n"
          ]
        },
        {
          "output_type": "stream",
          "name": "stderr",
          "text": [
            "\rEpochs :  73%|███████▎  | 11/15 [09:07<03:07, 46.92s/it]"
          ]
        },
        {
          "output_type": "stream",
          "name": "stdout",
          "text": [
            "\n",
            "Train Loss: 1.1679 Train Accuracy: 67.6867 Validation Loss: 6.5605 Validation Accuracy: 59.4642\n",
            "\n",
            "Time taken for the epoch 46.4409\n"
          ]
        },
        {
          "output_type": "stream",
          "name": "stderr",
          "text": [
            "\rEpochs :  80%|████████  | 12/15 [09:53<02:20, 46.79s/it]"
          ]
        },
        {
          "output_type": "stream",
          "name": "stdout",
          "text": [
            "\n",
            "Train Loss: 1.1619 Train Accuracy: 67.8615 Validation Loss: 7.3277 Validation Accuracy: 59.9374\n",
            "\n",
            "Time taken for the epoch 46.4863\n"
          ]
        },
        {
          "output_type": "stream",
          "name": "stderr",
          "text": [
            "\rEpochs :  87%|████████▋ | 13/15 [10:38<01:32, 46.28s/it]"
          ]
        },
        {
          "output_type": "stream",
          "name": "stdout",
          "text": [
            "\n",
            "Train Loss: 1.1583 Train Accuracy: 67.8278 Validation Loss: 6.7763 Validation Accuracy: 56.3072\n",
            "\n",
            "Time taken for the epoch 45.1040\n"
          ]
        },
        {
          "output_type": "stream",
          "name": "stderr",
          "text": [
            "\rEpochs :  93%|█████████▎| 14/15 [11:24<00:46, 46.22s/it]"
          ]
        },
        {
          "output_type": "stream",
          "name": "stdout",
          "text": [
            "\n",
            "Train Loss: 1.1581 Train Accuracy: 67.8494 Validation Loss: 7.2815 Validation Accuracy: 55.1307\n",
            "\n",
            "Time taken for the epoch 46.0631\n"
          ]
        },
        {
          "output_type": "stream",
          "name": "stderr",
          "text": [
            "Epochs : 100%|██████████| 15/15 [12:10<00:00, 48.69s/it]"
          ]
        },
        {
          "output_type": "stream",
          "name": "stdout",
          "text": [
            "\n",
            "Train Loss: 1.1514 Train Accuracy: 68.0240 Validation Loss: 13.7331 Validation Accuracy: 58.7146\n",
            "\n",
            "Time taken for the epoch 45.5349\n",
            "\n",
            "Model trained successfully !!\n"
          ]
        },
        {
          "output_type": "stream",
          "name": "stderr",
          "text": [
            "\n"
          ]
        },
        {
          "output_type": "display_data",
          "data": {
            "text/plain": [
              "<IPython.core.display.HTML object>"
            ],
            "text/html": []
          },
          "metadata": {}
        },
        {
          "output_type": "display_data",
          "data": {
            "text/plain": [
              "<IPython.core.display.HTML object>"
            ],
            "text/html": [
              "<br>    <style><br>        .wandb-row {<br>            display: flex;<br>            flex-direction: row;<br>            flex-wrap: wrap;<br>            justify-content: flex-start;<br>            width: 100%;<br>        }<br>        .wandb-col {<br>            display: flex;<br>            flex-direction: column;<br>            flex-basis: 100%;<br>            flex: 1;<br>            padding: 10px;<br>        }<br>    </style><br><div class=\"wandb-row\"><div class=\"wandb-col\"><h3>Run history:</h3><br/><table class=\"wandb\"><tr><td>epoch</td><td>▁▁▂▃▃▃▄▅▅▅▆▇▇▇█</td></tr><tr><td>train_acc</td><td>▁▆▇▇▇▇▇▇▇██████</td></tr><tr><td>train_loss</td><td>█▃▃▂▂▂▂▂▂▂▂▁▁▁▁</td></tr><tr><td>training time</td><td>█▁▁▁▂▂▁▁▁▁▁▁▁▁▁</td></tr><tr><td>val_acc</td><td>█▄██▁████████▇█</td></tr><tr><td>val_loss</td><td>▁▄▁▁█▂▂▂▂▃▂▂▂▂▅</td></tr></table><br/></div><div class=\"wandb-col\"><h3>Run summary:</h3><br/><table class=\"wandb\"><tr><td>epoch</td><td>15</td></tr><tr><td>train_acc</td><td>68.02396</td></tr><tr><td>train_loss</td><td>1.1514</td></tr><tr><td>training time</td><td>45.53489</td></tr><tr><td>val_acc</td><td>58.7146</td></tr><tr><td>val_loss</td><td>13.73306</td></tr></table><br/></div></div>"
            ]
          },
          "metadata": {}
        },
        {
          "output_type": "display_data",
          "data": {
            "text/plain": [
              "<IPython.core.display.HTML object>"
            ],
            "text/html": [
              " View run <strong style=\"color:#cdcd00\"> num_of_decoders(2)_ cell_type(rnn)_latent_dim(64)_lr(0.05)_optimizer(rmsprop)_dropout(0.3)inp_emb_size(256)_batch_size(64</strong> at: <a href='https://wandb.ai/na21b050-iit-madras/CS6910_Assignment3/runs/wzjpzb16' target=\"_blank\">https://wandb.ai/na21b050-iit-madras/CS6910_Assignment3/runs/wzjpzb16</a><br> View project at: <a href='https://wandb.ai/na21b050-iit-madras/CS6910_Assignment3' target=\"_blank\">https://wandb.ai/na21b050-iit-madras/CS6910_Assignment3</a><br>Synced 5 W&B file(s), 0 media file(s), 0 artifact file(s) and 0 other file(s)"
            ]
          },
          "metadata": {}
        },
        {
          "output_type": "display_data",
          "data": {
            "text/plain": [
              "<IPython.core.display.HTML object>"
            ],
            "text/html": [
              "Find logs at: <code>./wandb/run-20250519_115818-wzjpzb16/logs</code>"
            ]
          },
          "metadata": {}
        },
        {
          "output_type": "stream",
          "name": "stderr",
          "text": [
            "\u001b[34m\u001b[1mwandb\u001b[0m: Agent Starting Run: xgqn7g8z with config:\n",
            "\u001b[34m\u001b[1mwandb\u001b[0m: \tbatch_size: 64\n",
            "\u001b[34m\u001b[1mwandb\u001b[0m: \tcell_type: rnn\n",
            "\u001b[34m\u001b[1mwandb\u001b[0m: \tdropout: 0.3\n",
            "\u001b[34m\u001b[1mwandb\u001b[0m: \tinp_emb_size: 256\n",
            "\u001b[34m\u001b[1mwandb\u001b[0m: \tlatent_dim: 128\n",
            "\u001b[34m\u001b[1mwandb\u001b[0m: \tlr: 0.005\n",
            "\u001b[34m\u001b[1mwandb\u001b[0m: \tnum_of_decoders: 3\n",
            "\u001b[34m\u001b[1mwandb\u001b[0m: \tnum_of_encoders: 3\n",
            "\u001b[34m\u001b[1mwandb\u001b[0m: \toptimizer: adam\n"
          ]
        },
        {
          "output_type": "display_data",
          "data": {
            "text/plain": [
              "<IPython.core.display.HTML object>"
            ],
            "text/html": [
              "Tracking run with wandb version 0.19.11"
            ]
          },
          "metadata": {}
        },
        {
          "output_type": "display_data",
          "data": {
            "text/plain": [
              "<IPython.core.display.HTML object>"
            ],
            "text/html": [
              "Run data is saved locally in <code>/content/wandb/run-20250519_121037-xgqn7g8z</code>"
            ]
          },
          "metadata": {}
        },
        {
          "output_type": "display_data",
          "data": {
            "text/plain": [
              "<IPython.core.display.HTML object>"
            ],
            "text/html": [
              "Syncing run <strong><a href='https://wandb.ai/na21b050-iit-madras/CS6910_Assignment3/runs/xgqn7g8z' target=\"_blank\">restful-sweep-16</a></strong> to <a href='https://wandb.ai/na21b050-iit-madras/CS6910_Assignment3' target=\"_blank\">Weights & Biases</a> (<a href='https://wandb.me/developer-guide' target=\"_blank\">docs</a>)<br>Sweep page: <a href='https://wandb.ai/na21b050-iit-madras/CS6910_Assignment3/sweeps/h16aspho' target=\"_blank\">https://wandb.ai/na21b050-iit-madras/CS6910_Assignment3/sweeps/h16aspho</a>"
            ]
          },
          "metadata": {}
        },
        {
          "output_type": "display_data",
          "data": {
            "text/plain": [
              "<IPython.core.display.HTML object>"
            ],
            "text/html": [
              " View project at <a href='https://wandb.ai/na21b050-iit-madras/CS6910_Assignment3' target=\"_blank\">https://wandb.ai/na21b050-iit-madras/CS6910_Assignment3</a>"
            ]
          },
          "metadata": {}
        },
        {
          "output_type": "display_data",
          "data": {
            "text/plain": [
              "<IPython.core.display.HTML object>"
            ],
            "text/html": [
              " View sweep at <a href='https://wandb.ai/na21b050-iit-madras/CS6910_Assignment3/sweeps/h16aspho' target=\"_blank\">https://wandb.ai/na21b050-iit-madras/CS6910_Assignment3/sweeps/h16aspho</a>"
            ]
          },
          "metadata": {}
        },
        {
          "output_type": "display_data",
          "data": {
            "text/plain": [
              "<IPython.core.display.HTML object>"
            ],
            "text/html": [
              " View run at <a href='https://wandb.ai/na21b050-iit-madras/CS6910_Assignment3/runs/xgqn7g8z' target=\"_blank\">https://wandb.ai/na21b050-iit-madras/CS6910_Assignment3/runs/xgqn7g8z</a>"
            ]
          },
          "metadata": {}
        },
        {
          "output_type": "stream",
          "name": "stderr",
          "text": [
            "Epochs :   7%|▋         | 1/15 [01:52<26:21, 112.94s/it]"
          ]
        },
        {
          "output_type": "stream",
          "name": "stdout",
          "text": [
            "\n",
            "Train Loss: 1.0966 Train Accuracy: 64.6541 Validation Loss: 4.7348 Validation Accuracy: 50.3090\n",
            "\n",
            "Time taken for the epoch 112.9330\n"
          ]
        },
        {
          "output_type": "stream",
          "name": "stderr",
          "text": [
            "\rEpochs :  13%|█▎        | 2/15 [02:56<18:08, 83.72s/it] "
          ]
        },
        {
          "output_type": "stream",
          "name": "stdout",
          "text": [
            "\n",
            "Train Loss: 0.9122 Train Accuracy: 72.4514 Validation Loss: 4.5549 Validation Accuracy: 58.7197\n",
            "\n",
            "Time taken for the epoch 63.2611\n"
          ]
        },
        {
          "output_type": "stream",
          "name": "stderr",
          "text": [
            "\rEpochs :  20%|██        | 3/15 [03:57<14:40, 73.37s/it]"
          ]
        },
        {
          "output_type": "stream",
          "name": "stdout",
          "text": [
            "\n",
            "Train Loss: 0.8610 Train Accuracy: 73.9873 Validation Loss: 6.3172 Validation Accuracy: 46.9711\n",
            "\n",
            "Time taken for the epoch 61.0473\n"
          ]
        },
        {
          "output_type": "stream",
          "name": "stderr",
          "text": [
            "\rEpochs :  27%|██▋       | 4/15 [04:59<12:36, 68.80s/it]"
          ]
        },
        {
          "output_type": "stream",
          "name": "stdout",
          "text": [
            "\n",
            "Train Loss: 0.8320 Train Accuracy: 74.8176 Validation Loss: 8.1973 Validation Accuracy: 42.8885\n",
            "\n",
            "Time taken for the epoch 61.7837\n"
          ]
        },
        {
          "output_type": "stream",
          "name": "stderr",
          "text": [
            "\rEpochs :  33%|███▎      | 5/15 [06:03<11:11, 67.19s/it]"
          ]
        },
        {
          "output_type": "stream",
          "name": "stdout",
          "text": [
            "\n",
            "Train Loss: 0.8141 Train Accuracy: 75.4011 Validation Loss: 6.5198 Validation Accuracy: 51.4333\n",
            "\n",
            "Time taken for the epoch 64.3254\n"
          ]
        },
        {
          "output_type": "stream",
          "name": "stderr",
          "text": [
            "\rEpochs :  40%|████      | 6/15 [07:06<09:52, 65.84s/it]"
          ]
        },
        {
          "output_type": "stream",
          "name": "stdout",
          "text": [
            "\n",
            "Train Loss: 0.8020 Train Accuracy: 75.6581 Validation Loss: 12.1102 Validation Accuracy: 33.1367\n",
            "\n",
            "Time taken for the epoch 63.2212\n"
          ]
        },
        {
          "output_type": "stream",
          "name": "stderr",
          "text": [
            "Epochs :  47%|████▋     | 7/15 [08:09<09:19, 69.97s/it]"
          ]
        },
        {
          "output_type": "stream",
          "name": "stdout",
          "text": [
            "\n",
            "Train Loss: 0.7943 Train Accuracy: 75.8552 Validation Loss: 9.3264 Validation Accuracy: 41.6513\n",
            "\n",
            "Time taken for the epoch 63.1921\n",
            "\n",
            "Model trained successfully !!\n"
          ]
        },
        {
          "output_type": "stream",
          "name": "stderr",
          "text": [
            "\n"
          ]
        },
        {
          "output_type": "display_data",
          "data": {
            "text/plain": [
              "<IPython.core.display.HTML object>"
            ],
            "text/html": []
          },
          "metadata": {}
        },
        {
          "output_type": "display_data",
          "data": {
            "text/plain": [
              "<IPython.core.display.HTML object>"
            ],
            "text/html": [
              "<br>    <style><br>        .wandb-row {<br>            display: flex;<br>            flex-direction: row;<br>            flex-wrap: wrap;<br>            justify-content: flex-start;<br>            width: 100%;<br>        }<br>        .wandb-col {<br>            display: flex;<br>            flex-direction: column;<br>            flex-basis: 100%;<br>            flex: 1;<br>            padding: 10px;<br>        }<br>    </style><br><div class=\"wandb-row\"><div class=\"wandb-col\"><h3>Run history:</h3><br/><table class=\"wandb\"><tr><td>epoch</td><td>▁▂▃▅▆▇█</td></tr><tr><td>train_acc</td><td>▁▆▇▇███</td></tr><tr><td>train_loss</td><td>█▄▃▂▁▁▁</td></tr><tr><td>training time</td><td>█▁▁▁▁▁▁</td></tr><tr><td>val_acc</td><td>▆█▅▄▆▁▃</td></tr><tr><td>val_loss</td><td>▁▁▃▄▃█▅</td></tr></table><br/></div><div class=\"wandb-col\"><h3>Run summary:</h3><br/><table class=\"wandb\"><tr><td>epoch</td><td>7</td></tr><tr><td>train_acc</td><td>75.85516</td></tr><tr><td>train_loss</td><td>0.79431</td></tr><tr><td>training time</td><td>63.1921</td></tr><tr><td>val_acc</td><td>41.6513</td></tr><tr><td>val_loss</td><td>9.32641</td></tr></table><br/></div></div>"
            ]
          },
          "metadata": {}
        },
        {
          "output_type": "display_data",
          "data": {
            "text/plain": [
              "<IPython.core.display.HTML object>"
            ],
            "text/html": [
              " View run <strong style=\"color:#cdcd00\"> num_of_decoders(3)_ cell_type(rnn)_latent_dim(128)_lr(0.005)_optimizer(adam)_dropout(0.3)inp_emb_size(256)_batch_size(64</strong> at: <a href='https://wandb.ai/na21b050-iit-madras/CS6910_Assignment3/runs/xgqn7g8z' target=\"_blank\">https://wandb.ai/na21b050-iit-madras/CS6910_Assignment3/runs/xgqn7g8z</a><br> View project at: <a href='https://wandb.ai/na21b050-iit-madras/CS6910_Assignment3' target=\"_blank\">https://wandb.ai/na21b050-iit-madras/CS6910_Assignment3</a><br>Synced 5 W&B file(s), 0 media file(s), 0 artifact file(s) and 0 other file(s)"
            ]
          },
          "metadata": {}
        },
        {
          "output_type": "display_data",
          "data": {
            "text/plain": [
              "<IPython.core.display.HTML object>"
            ],
            "text/html": [
              "Find logs at: <code>./wandb/run-20250519_121037-xgqn7g8z/logs</code>"
            ]
          },
          "metadata": {}
        },
        {
          "output_type": "stream",
          "name": "stderr",
          "text": [
            "\u001b[34m\u001b[1mwandb\u001b[0m: Agent Starting Run: wvus7rf1 with config:\n",
            "\u001b[34m\u001b[1mwandb\u001b[0m: \tbatch_size: 64\n",
            "\u001b[34m\u001b[1mwandb\u001b[0m: \tcell_type: rnn\n",
            "\u001b[34m\u001b[1mwandb\u001b[0m: \tdropout: 0.3\n",
            "\u001b[34m\u001b[1mwandb\u001b[0m: \tinp_emb_size: 256\n",
            "\u001b[34m\u001b[1mwandb\u001b[0m: \tlatent_dim: 128\n",
            "\u001b[34m\u001b[1mwandb\u001b[0m: \tlr: 0.005\n",
            "\u001b[34m\u001b[1mwandb\u001b[0m: \tnum_of_decoders: 3\n",
            "\u001b[34m\u001b[1mwandb\u001b[0m: \tnum_of_encoders: 2\n",
            "\u001b[34m\u001b[1mwandb\u001b[0m: \toptimizer: adam\n"
          ]
        },
        {
          "output_type": "display_data",
          "data": {
            "text/plain": [
              "<IPython.core.display.HTML object>"
            ],
            "text/html": [
              "Tracking run with wandb version 0.19.11"
            ]
          },
          "metadata": {}
        },
        {
          "output_type": "display_data",
          "data": {
            "text/plain": [
              "<IPython.core.display.HTML object>"
            ],
            "text/html": [
              "Run data is saved locally in <code>/content/wandb/run-20250519_121854-wvus7rf1</code>"
            ]
          },
          "metadata": {}
        },
        {
          "output_type": "display_data",
          "data": {
            "text/plain": [
              "<IPython.core.display.HTML object>"
            ],
            "text/html": [
              "Syncing run <strong><a href='https://wandb.ai/na21b050-iit-madras/CS6910_Assignment3/runs/wvus7rf1' target=\"_blank\">lunar-sweep-17</a></strong> to <a href='https://wandb.ai/na21b050-iit-madras/CS6910_Assignment3' target=\"_blank\">Weights & Biases</a> (<a href='https://wandb.me/developer-guide' target=\"_blank\">docs</a>)<br>Sweep page: <a href='https://wandb.ai/na21b050-iit-madras/CS6910_Assignment3/sweeps/h16aspho' target=\"_blank\">https://wandb.ai/na21b050-iit-madras/CS6910_Assignment3/sweeps/h16aspho</a>"
            ]
          },
          "metadata": {}
        },
        {
          "output_type": "display_data",
          "data": {
            "text/plain": [
              "<IPython.core.display.HTML object>"
            ],
            "text/html": [
              " View project at <a href='https://wandb.ai/na21b050-iit-madras/CS6910_Assignment3' target=\"_blank\">https://wandb.ai/na21b050-iit-madras/CS6910_Assignment3</a>"
            ]
          },
          "metadata": {}
        },
        {
          "output_type": "display_data",
          "data": {
            "text/plain": [
              "<IPython.core.display.HTML object>"
            ],
            "text/html": [
              " View sweep at <a href='https://wandb.ai/na21b050-iit-madras/CS6910_Assignment3/sweeps/h16aspho' target=\"_blank\">https://wandb.ai/na21b050-iit-madras/CS6910_Assignment3/sweeps/h16aspho</a>"
            ]
          },
          "metadata": {}
        },
        {
          "output_type": "display_data",
          "data": {
            "text/plain": [
              "<IPython.core.display.HTML object>"
            ],
            "text/html": [
              " View run at <a href='https://wandb.ai/na21b050-iit-madras/CS6910_Assignment3/runs/wvus7rf1' target=\"_blank\">https://wandb.ai/na21b050-iit-madras/CS6910_Assignment3/runs/wvus7rf1</a>"
            ]
          },
          "metadata": {}
        },
        {
          "output_type": "stream",
          "name": "stderr",
          "text": [
            "\rEpochs :   0%|          | 0/15 [00:00<?, ?it/s]/usr/local/lib/python3.11/dist-packages/keras/src/optimizers/base_optimizer.py:774: UserWarning: Gradients do not exist for variables ['seed_generator/seed_generator_state', 'seed_generator_1/seed_generator_state', 'seed_generator_2/seed_generator_state', 'seed_generator_3/seed_generator_state', 'seed_generator_4/seed_generator_state'] when minimizing the loss. If using `model.compile()`, did you forget to provide a `loss` argument?\n",
            "  warnings.warn(\n",
            "Epochs :   7%|▋         | 1/15 [01:42<23:55, 102.54s/it]"
          ]
        },
        {
          "output_type": "stream",
          "name": "stdout",
          "text": [
            "\n",
            "Train Loss: 1.0832 Train Accuracy: 64.5564 Validation Loss: 4.2436 Validation Accuracy: 51.4172\n",
            "\n",
            "Time taken for the epoch 102.5353\n"
          ]
        },
        {
          "output_type": "stream",
          "name": "stderr",
          "text": [
            "\rEpochs :  13%|█▎        | 2/15 [02:38<16:16, 75.09s/it] "
          ]
        },
        {
          "output_type": "stream",
          "name": "stdout",
          "text": [
            "\n",
            "Train Loss: 0.8745 Train Accuracy: 73.4126 Validation Loss: 3.8888 Validation Accuracy: 54.4380\n",
            "\n",
            "Time taken for the epoch 55.8643\n"
          ]
        },
        {
          "output_type": "stream",
          "name": "stderr",
          "text": [
            "\rEpochs :  20%|██        | 3/15 [03:34<13:17, 66.49s/it]"
          ]
        },
        {
          "output_type": "stream",
          "name": "stdout",
          "text": [
            "\n",
            "Train Loss: 0.8242 Train Accuracy: 75.1019 Validation Loss: 4.8425 Validation Accuracy: 51.3878\n",
            "\n",
            "Time taken for the epoch 56.2452\n"
          ]
        },
        {
          "output_type": "stream",
          "name": "stderr",
          "text": [
            "\rEpochs :  27%|██▋       | 4/15 [04:29<11:20, 61.90s/it]"
          ]
        },
        {
          "output_type": "stream",
          "name": "stdout",
          "text": [
            "\n",
            "Train Loss: 0.8000 Train Accuracy: 75.7603 Validation Loss: 5.9887 Validation Accuracy: 47.1495\n",
            "\n",
            "Time taken for the epoch 54.8585\n"
          ]
        },
        {
          "output_type": "stream",
          "name": "stderr",
          "text": [
            "\rEpochs :  33%|███▎      | 5/15 [05:24<09:53, 59.33s/it]"
          ]
        },
        {
          "output_type": "stream",
          "name": "stdout",
          "text": [
            "\n",
            "Train Loss: 0.7852 Train Accuracy: 76.1128 Validation Loss: 5.3851 Validation Accuracy: 51.4572\n",
            "\n",
            "Time taken for the epoch 54.7681\n"
          ]
        },
        {
          "output_type": "stream",
          "name": "stderr",
          "text": [
            "\rEpochs :  40%|████      | 6/15 [06:20<08:44, 58.31s/it]"
          ]
        },
        {
          "output_type": "stream",
          "name": "stdout",
          "text": [
            "\n",
            "Train Loss: 0.7759 Train Accuracy: 76.4129 Validation Loss: 6.5790 Validation Accuracy: 46.9705\n",
            "\n",
            "Time taken for the epoch 56.3283\n"
          ]
        },
        {
          "output_type": "stream",
          "name": "stderr",
          "text": [
            "\rEpochs :  47%|████▋     | 7/15 [07:15<07:37, 57.21s/it]"
          ]
        },
        {
          "output_type": "stream",
          "name": "stdout",
          "text": [
            "\n",
            "Train Loss: 0.7699 Train Accuracy: 76.5181 Validation Loss: 4.6494 Validation Accuracy: 54.9941\n",
            "\n",
            "Time taken for the epoch 54.9547\n"
          ]
        },
        {
          "output_type": "stream",
          "name": "stderr",
          "text": [
            "\rEpochs :  53%|█████▎    | 8/15 [08:10<06:34, 56.35s/it]"
          ]
        },
        {
          "output_type": "stream",
          "name": "stdout",
          "text": [
            "\n",
            "Train Loss: 0.7673 Train Accuracy: 76.5982 Validation Loss: 11.0144 Validation Accuracy: 33.1639\n",
            "\n",
            "Time taken for the epoch 54.5000\n"
          ]
        },
        {
          "output_type": "stream",
          "name": "stderr",
          "text": [
            "\rEpochs :  60%|██████    | 9/15 [09:05<05:36, 56.13s/it]"
          ]
        },
        {
          "output_type": "stream",
          "name": "stdout",
          "text": [
            "\n",
            "Train Loss: 0.7655 Train Accuracy: 76.6463 Validation Loss: 5.3214 Validation Accuracy: 54.4400\n",
            "\n",
            "Time taken for the epoch 55.6322\n"
          ]
        },
        {
          "output_type": "stream",
          "name": "stderr",
          "text": [
            "\rEpochs :  67%|██████▋   | 10/15 [10:00<04:38, 55.76s/it]"
          ]
        },
        {
          "output_type": "stream",
          "name": "stdout",
          "text": [
            "\n",
            "Train Loss: 0.7636 Train Accuracy: 76.7154 Validation Loss: 10.9720 Validation Accuracy: 38.0820\n",
            "\n",
            "Time taken for the epoch 54.9107\n"
          ]
        },
        {
          "output_type": "stream",
          "name": "stderr",
          "text": [
            "\rEpochs :  73%|███████▎  | 11/15 [10:55<03:41, 55.47s/it]"
          ]
        },
        {
          "output_type": "stream",
          "name": "stdout",
          "text": [
            "\n",
            "Train Loss: 0.7649 Train Accuracy: 76.6133 Validation Loss: 5.8753 Validation Accuracy: 51.3947\n",
            "\n",
            "Time taken for the epoch 54.8168\n"
          ]
        },
        {
          "output_type": "stream",
          "name": "stderr",
          "text": [
            "Epochs :  80%|████████  | 12/15 [11:51<02:57, 59.30s/it]"
          ]
        },
        {
          "output_type": "stream",
          "name": "stdout",
          "text": [
            "\n",
            "Train Loss: 0.7645 Train Accuracy: 76.6365 Validation Loss: 5.1108 Validation Accuracy: 54.2120\n",
            "\n",
            "Time taken for the epoch 56.1131\n",
            "\n",
            "Model trained successfully !!\n"
          ]
        },
        {
          "output_type": "stream",
          "name": "stderr",
          "text": [
            "\n"
          ]
        },
        {
          "output_type": "display_data",
          "data": {
            "text/plain": [
              "<IPython.core.display.HTML object>"
            ],
            "text/html": []
          },
          "metadata": {}
        },
        {
          "output_type": "display_data",
          "data": {
            "text/plain": [
              "<IPython.core.display.HTML object>"
            ],
            "text/html": [
              "<br>    <style><br>        .wandb-row {<br>            display: flex;<br>            flex-direction: row;<br>            flex-wrap: wrap;<br>            justify-content: flex-start;<br>            width: 100%;<br>        }<br>        .wandb-col {<br>            display: flex;<br>            flex-direction: column;<br>            flex-basis: 100%;<br>            flex: 1;<br>            padding: 10px;<br>        }<br>    </style><br><div class=\"wandb-row\"><div class=\"wandb-col\"><h3>Run history:</h3><br/><table class=\"wandb\"><tr><td>epoch</td><td>▁▂▂▃▄▄▅▅▆▇▇█</td></tr><tr><td>train_acc</td><td>▁▆▇▇████████</td></tr><tr><td>train_loss</td><td>█▃▂▂▁▁▁▁▁▁▁▁</td></tr><tr><td>training time</td><td>█▁▁▁▁▁▁▁▁▁▁▁</td></tr><tr><td>val_acc</td><td>▇█▇▅▇▅█▁█▃▇█</td></tr><tr><td>val_loss</td><td>▁▁▂▃▂▄▂█▂█▃▂</td></tr></table><br/></div><div class=\"wandb-col\"><h3>Run summary:</h3><br/><table class=\"wandb\"><tr><td>epoch</td><td>12</td></tr><tr><td>train_acc</td><td>76.63654</td></tr><tr><td>train_loss</td><td>0.76446</td></tr><tr><td>training time</td><td>56.11307</td></tr><tr><td>val_acc</td><td>54.21198</td></tr><tr><td>val_loss</td><td>5.11079</td></tr></table><br/></div></div>"
            ]
          },
          "metadata": {}
        },
        {
          "output_type": "display_data",
          "data": {
            "text/plain": [
              "<IPython.core.display.HTML object>"
            ],
            "text/html": [
              " View run <strong style=\"color:#cdcd00\"> num_of_decoders(3)_ cell_type(rnn)_latent_dim(128)_lr(0.005)_optimizer(adam)_dropout(0.3)inp_emb_size(256)_batch_size(64</strong> at: <a href='https://wandb.ai/na21b050-iit-madras/CS6910_Assignment3/runs/wvus7rf1' target=\"_blank\">https://wandb.ai/na21b050-iit-madras/CS6910_Assignment3/runs/wvus7rf1</a><br> View project at: <a href='https://wandb.ai/na21b050-iit-madras/CS6910_Assignment3' target=\"_blank\">https://wandb.ai/na21b050-iit-madras/CS6910_Assignment3</a><br>Synced 5 W&B file(s), 0 media file(s), 0 artifact file(s) and 0 other file(s)"
            ]
          },
          "metadata": {}
        },
        {
          "output_type": "display_data",
          "data": {
            "text/plain": [
              "<IPython.core.display.HTML object>"
            ],
            "text/html": [
              "Find logs at: <code>./wandb/run-20250519_121854-wvus7rf1/logs</code>"
            ]
          },
          "metadata": {}
        },
        {
          "output_type": "stream",
          "name": "stderr",
          "text": [
            "\u001b[34m\u001b[1mwandb\u001b[0m: Agent Starting Run: 89ij825c with config:\n",
            "\u001b[34m\u001b[1mwandb\u001b[0m: \tbatch_size: 64\n",
            "\u001b[34m\u001b[1mwandb\u001b[0m: \tcell_type: rnn\n",
            "\u001b[34m\u001b[1mwandb\u001b[0m: \tdropout: 0.3\n",
            "\u001b[34m\u001b[1mwandb\u001b[0m: \tinp_emb_size: 256\n",
            "\u001b[34m\u001b[1mwandb\u001b[0m: \tlatent_dim: 128\n",
            "\u001b[34m\u001b[1mwandb\u001b[0m: \tlr: 0.001\n",
            "\u001b[34m\u001b[1mwandb\u001b[0m: \tnum_of_decoders: 3\n",
            "\u001b[34m\u001b[1mwandb\u001b[0m: \tnum_of_encoders: 4\n",
            "\u001b[34m\u001b[1mwandb\u001b[0m: \toptimizer: rmsprop\n"
          ]
        },
        {
          "output_type": "display_data",
          "data": {
            "text/plain": [
              "<IPython.core.display.HTML object>"
            ],
            "text/html": [
              "Tracking run with wandb version 0.19.11"
            ]
          },
          "metadata": {}
        },
        {
          "output_type": "display_data",
          "data": {
            "text/plain": [
              "<IPython.core.display.HTML object>"
            ],
            "text/html": [
              "Run data is saved locally in <code>/content/wandb/run-20250519_123052-89ij825c</code>"
            ]
          },
          "metadata": {}
        },
        {
          "output_type": "display_data",
          "data": {
            "text/plain": [
              "<IPython.core.display.HTML object>"
            ],
            "text/html": [
              "Syncing run <strong><a href='https://wandb.ai/na21b050-iit-madras/CS6910_Assignment3/runs/89ij825c' target=\"_blank\">restful-sweep-18</a></strong> to <a href='https://wandb.ai/na21b050-iit-madras/CS6910_Assignment3' target=\"_blank\">Weights & Biases</a> (<a href='https://wandb.me/developer-guide' target=\"_blank\">docs</a>)<br>Sweep page: <a href='https://wandb.ai/na21b050-iit-madras/CS6910_Assignment3/sweeps/h16aspho' target=\"_blank\">https://wandb.ai/na21b050-iit-madras/CS6910_Assignment3/sweeps/h16aspho</a>"
            ]
          },
          "metadata": {}
        },
        {
          "output_type": "display_data",
          "data": {
            "text/plain": [
              "<IPython.core.display.HTML object>"
            ],
            "text/html": [
              " View project at <a href='https://wandb.ai/na21b050-iit-madras/CS6910_Assignment3' target=\"_blank\">https://wandb.ai/na21b050-iit-madras/CS6910_Assignment3</a>"
            ]
          },
          "metadata": {}
        },
        {
          "output_type": "display_data",
          "data": {
            "text/plain": [
              "<IPython.core.display.HTML object>"
            ],
            "text/html": [
              " View sweep at <a href='https://wandb.ai/na21b050-iit-madras/CS6910_Assignment3/sweeps/h16aspho' target=\"_blank\">https://wandb.ai/na21b050-iit-madras/CS6910_Assignment3/sweeps/h16aspho</a>"
            ]
          },
          "metadata": {}
        },
        {
          "output_type": "display_data",
          "data": {
            "text/plain": [
              "<IPython.core.display.HTML object>"
            ],
            "text/html": [
              " View run at <a href='https://wandb.ai/na21b050-iit-madras/CS6910_Assignment3/runs/89ij825c' target=\"_blank\">https://wandb.ai/na21b050-iit-madras/CS6910_Assignment3/runs/89ij825c</a>"
            ]
          },
          "metadata": {}
        },
        {
          "output_type": "stream",
          "name": "stderr",
          "text": [
            "Epochs :   7%|▋         | 1/15 [01:51<25:56, 111.19s/it]"
          ]
        },
        {
          "output_type": "stream",
          "name": "stdout",
          "text": [
            "\n",
            "Train Loss: 0.9221 Train Accuracy: 68.0171 Validation Loss: 3.4085 Validation Accuracy: 52.9086\n",
            "\n",
            "Time taken for the epoch 111.1912\n"
          ]
        },
        {
          "output_type": "stream",
          "name": "stderr",
          "text": [
            "\rEpochs :  13%|█▎        | 2/15 [02:54<18:00, 83.15s/it] "
          ]
        },
        {
          "output_type": "stream",
          "name": "stdout",
          "text": [
            "\n",
            "Train Loss: 0.6199 Train Accuracy: 80.8456 Validation Loss: 4.1559 Validation Accuracy: 49.2697\n",
            "\n",
            "Time taken for the epoch 63.5194\n"
          ]
        },
        {
          "output_type": "stream",
          "name": "stderr",
          "text": [
            "\rEpochs :  20%|██        | 3/15 [03:58<14:52, 74.39s/it]"
          ]
        },
        {
          "output_type": "stream",
          "name": "stdout",
          "text": [
            "\n",
            "Train Loss: 0.5226 Train Accuracy: 83.8072 Validation Loss: 4.5258 Validation Accuracy: 48.3725\n",
            "\n",
            "Time taken for the epoch 63.9588\n"
          ]
        },
        {
          "output_type": "stream",
          "name": "stderr",
          "text": [
            "\rEpochs :  27%|██▋       | 4/15 [05:02<12:52, 70.21s/it]"
          ]
        },
        {
          "output_type": "stream",
          "name": "stdout",
          "text": [
            "\n",
            "Train Loss: 0.4634 Train Accuracy: 85.5619 Validation Loss: 4.5846 Validation Accuracy: 49.2806\n",
            "\n",
            "Time taken for the epoch 63.7934\n"
          ]
        },
        {
          "output_type": "stream",
          "name": "stderr",
          "text": [
            "\rEpochs :  33%|███▎      | 5/15 [06:06<11:19, 67.95s/it]"
          ]
        },
        {
          "output_type": "stream",
          "name": "stdout",
          "text": [
            "\n",
            "Train Loss: 0.4215 Train Accuracy: 86.8109 Validation Loss: 4.2773 Validation Accuracy: 52.5446\n",
            "\n",
            "Time taken for the epoch 63.9474\n"
          ]
        },
        {
          "output_type": "stream",
          "name": "stderr",
          "text": [
            "Epochs :  40%|████      | 6/15 [07:09<10:44, 71.66s/it]"
          ]
        },
        {
          "output_type": "stream",
          "name": "stdout",
          "text": [
            "\n",
            "Train Loss: 0.3885 Train Accuracy: 87.8247 Validation Loss: 4.4634 Validation Accuracy: 51.2569\n",
            "\n",
            "Time taken for the epoch 63.5310\n",
            "\n",
            "Model trained successfully !!\n"
          ]
        },
        {
          "output_type": "stream",
          "name": "stderr",
          "text": [
            "\n"
          ]
        },
        {
          "output_type": "display_data",
          "data": {
            "text/plain": [
              "<IPython.core.display.HTML object>"
            ],
            "text/html": []
          },
          "metadata": {}
        },
        {
          "output_type": "display_data",
          "data": {
            "text/plain": [
              "<IPython.core.display.HTML object>"
            ],
            "text/html": [
              "<br>    <style><br>        .wandb-row {<br>            display: flex;<br>            flex-direction: row;<br>            flex-wrap: wrap;<br>            justify-content: flex-start;<br>            width: 100%;<br>        }<br>        .wandb-col {<br>            display: flex;<br>            flex-direction: column;<br>            flex-basis: 100%;<br>            flex: 1;<br>            padding: 10px;<br>        }<br>    </style><br><div class=\"wandb-row\"><div class=\"wandb-col\"><h3>Run history:</h3><br/><table class=\"wandb\"><tr><td>epoch</td><td>▁▂▄▅▇█</td></tr><tr><td>train_acc</td><td>▁▆▇▇██</td></tr><tr><td>train_loss</td><td>█▄▃▂▁▁</td></tr><tr><td>training time</td><td>█▁▁▁▁▁</td></tr><tr><td>val_acc</td><td>█▂▁▂▇▅</td></tr><tr><td>val_loss</td><td>▁▅██▆▇</td></tr></table><br/></div><div class=\"wandb-col\"><h3>Run summary:</h3><br/><table class=\"wandb\"><tr><td>epoch</td><td>6</td></tr><tr><td>train_acc</td><td>87.82469</td></tr><tr><td>train_loss</td><td>0.38848</td></tr><tr><td>training time</td><td>63.53098</td></tr><tr><td>val_acc</td><td>51.25694</td></tr><tr><td>val_loss</td><td>4.46336</td></tr></table><br/></div></div>"
            ]
          },
          "metadata": {}
        },
        {
          "output_type": "display_data",
          "data": {
            "text/plain": [
              "<IPython.core.display.HTML object>"
            ],
            "text/html": [
              " View run <strong style=\"color:#cdcd00\"> num_of_decoders(3)_ cell_type(rnn)_latent_dim(128)_lr(0.001)_optimizer(rmsprop)_dropout(0.3)inp_emb_size(256)_batch_size(64</strong> at: <a href='https://wandb.ai/na21b050-iit-madras/CS6910_Assignment3/runs/89ij825c' target=\"_blank\">https://wandb.ai/na21b050-iit-madras/CS6910_Assignment3/runs/89ij825c</a><br> View project at: <a href='https://wandb.ai/na21b050-iit-madras/CS6910_Assignment3' target=\"_blank\">https://wandb.ai/na21b050-iit-madras/CS6910_Assignment3</a><br>Synced 5 W&B file(s), 0 media file(s), 0 artifact file(s) and 0 other file(s)"
            ]
          },
          "metadata": {}
        },
        {
          "output_type": "display_data",
          "data": {
            "text/plain": [
              "<IPython.core.display.HTML object>"
            ],
            "text/html": [
              "Find logs at: <code>./wandb/run-20250519_123052-89ij825c/logs</code>"
            ]
          },
          "metadata": {}
        },
        {
          "output_type": "stream",
          "name": "stderr",
          "text": [
            "\u001b[34m\u001b[1mwandb\u001b[0m: Agent Starting Run: fqlwd90i with config:\n",
            "\u001b[34m\u001b[1mwandb\u001b[0m: \tbatch_size: 128\n",
            "\u001b[34m\u001b[1mwandb\u001b[0m: \tcell_type: rnn\n",
            "\u001b[34m\u001b[1mwandb\u001b[0m: \tdropout: 0.5\n",
            "\u001b[34m\u001b[1mwandb\u001b[0m: \tinp_emb_size: 256\n",
            "\u001b[34m\u001b[1mwandb\u001b[0m: \tlatent_dim: 64\n",
            "\u001b[34m\u001b[1mwandb\u001b[0m: \tlr: 0.05\n",
            "\u001b[34m\u001b[1mwandb\u001b[0m: \tnum_of_decoders: 3\n",
            "\u001b[34m\u001b[1mwandb\u001b[0m: \tnum_of_encoders: 3\n",
            "\u001b[34m\u001b[1mwandb\u001b[0m: \toptimizer: rmsprop\n"
          ]
        },
        {
          "output_type": "display_data",
          "data": {
            "text/plain": [
              "<IPython.core.display.HTML object>"
            ],
            "text/html": [
              "Tracking run with wandb version 0.19.11"
            ]
          },
          "metadata": {}
        },
        {
          "output_type": "display_data",
          "data": {
            "text/plain": [
              "<IPython.core.display.HTML object>"
            ],
            "text/html": [
              "Run data is saved locally in <code>/content/wandb/run-20250519_123811-fqlwd90i</code>"
            ]
          },
          "metadata": {}
        },
        {
          "output_type": "display_data",
          "data": {
            "text/plain": [
              "<IPython.core.display.HTML object>"
            ],
            "text/html": [
              "Syncing run <strong><a href='https://wandb.ai/na21b050-iit-madras/CS6910_Assignment3/runs/fqlwd90i' target=\"_blank\">helpful-sweep-19</a></strong> to <a href='https://wandb.ai/na21b050-iit-madras/CS6910_Assignment3' target=\"_blank\">Weights & Biases</a> (<a href='https://wandb.me/developer-guide' target=\"_blank\">docs</a>)<br>Sweep page: <a href='https://wandb.ai/na21b050-iit-madras/CS6910_Assignment3/sweeps/h16aspho' target=\"_blank\">https://wandb.ai/na21b050-iit-madras/CS6910_Assignment3/sweeps/h16aspho</a>"
            ]
          },
          "metadata": {}
        },
        {
          "output_type": "display_data",
          "data": {
            "text/plain": [
              "<IPython.core.display.HTML object>"
            ],
            "text/html": [
              " View project at <a href='https://wandb.ai/na21b050-iit-madras/CS6910_Assignment3' target=\"_blank\">https://wandb.ai/na21b050-iit-madras/CS6910_Assignment3</a>"
            ]
          },
          "metadata": {}
        },
        {
          "output_type": "display_data",
          "data": {
            "text/plain": [
              "<IPython.core.display.HTML object>"
            ],
            "text/html": [
              " View sweep at <a href='https://wandb.ai/na21b050-iit-madras/CS6910_Assignment3/sweeps/h16aspho' target=\"_blank\">https://wandb.ai/na21b050-iit-madras/CS6910_Assignment3/sweeps/h16aspho</a>"
            ]
          },
          "metadata": {}
        },
        {
          "output_type": "display_data",
          "data": {
            "text/plain": [
              "<IPython.core.display.HTML object>"
            ],
            "text/html": [
              " View run at <a href='https://wandb.ai/na21b050-iit-madras/CS6910_Assignment3/runs/fqlwd90i' target=\"_blank\">https://wandb.ai/na21b050-iit-madras/CS6910_Assignment3/runs/fqlwd90i</a>"
            ]
          },
          "metadata": {}
        },
        {
          "output_type": "stream",
          "name": "stderr",
          "text": [
            "Epochs :   7%|▋         | 1/15 [01:48<25:25, 108.94s/it]"
          ]
        },
        {
          "output_type": "stream",
          "name": "stdout",
          "text": [
            "\n",
            "Train Loss: 1.9047 Train Accuracy: 50.6732 Validation Loss: 4.4536 Validation Accuracy: 60.0218\n",
            "\n",
            "Time taken for the epoch 108.9372\n"
          ]
        },
        {
          "output_type": "stream",
          "name": "stderr",
          "text": [
            "\rEpochs :  13%|█▎        | 2/15 [02:58<18:31, 85.49s/it] "
          ]
        },
        {
          "output_type": "stream",
          "name": "stdout",
          "text": [
            "\n",
            "Train Loss: 1.2546 Train Accuracy: 65.4531 Validation Loss: 3.2961 Validation Accuracy: 58.7069\n",
            "\n",
            "Time taken for the epoch 69.0596\n"
          ]
        },
        {
          "output_type": "stream",
          "name": "stderr",
          "text": [
            "\rEpochs :  20%|██        | 3/15 [04:00<14:59, 74.99s/it]"
          ]
        },
        {
          "output_type": "stream",
          "name": "stdout",
          "text": [
            "\n",
            "Train Loss: 1.2535 Train Accuracy: 65.4910 Validation Loss: 5.2036 Validation Accuracy: 46.8253\n",
            "\n",
            "Time taken for the epoch 62.5030\n"
          ]
        },
        {
          "output_type": "stream",
          "name": "stderr",
          "text": [
            "\rEpochs :  27%|██▋       | 4/15 [05:07<13:08, 71.71s/it]"
          ]
        },
        {
          "output_type": "stream",
          "name": "stdout",
          "text": [
            "\n",
            "Train Loss: 1.2653 Train Accuracy: 65.5254 Validation Loss: 5.4066 Validation Accuracy: 59.1901\n",
            "\n",
            "Time taken for the epoch 66.6661\n"
          ]
        },
        {
          "output_type": "stream",
          "name": "stderr",
          "text": [
            "\rEpochs :  33%|███▎      | 5/15 [06:16<11:49, 70.91s/it]"
          ]
        },
        {
          "output_type": "stream",
          "name": "stdout",
          "text": [
            "\n",
            "Train Loss: 1.2588 Train Accuracy: 65.7992 Validation Loss: 5.4617 Validation Accuracy: 61.1323\n",
            "\n",
            "Time taken for the epoch 69.4985\n"
          ]
        },
        {
          "output_type": "stream",
          "name": "stderr",
          "text": [
            "\rEpochs :  40%|████      | 6/15 [07:18<10:09, 67.67s/it]"
          ]
        },
        {
          "output_type": "stream",
          "name": "stdout",
          "text": [
            "\n",
            "Train Loss: 1.2683 Train Accuracy: 65.7424 Validation Loss: 4.8213 Validation Accuracy: 54.8044\n",
            "\n",
            "Time taken for the epoch 61.3769\n"
          ]
        },
        {
          "output_type": "stream",
          "name": "stderr",
          "text": [
            "\rEpochs :  47%|████▋     | 7/15 [08:21<08:49, 66.22s/it]"
          ]
        },
        {
          "output_type": "stream",
          "name": "stdout",
          "text": [
            "\n",
            "Train Loss: 1.2648 Train Accuracy: 65.6746 Validation Loss: 4.9643 Validation Accuracy: 59.6269\n",
            "\n",
            "Time taken for the epoch 63.2078\n"
          ]
        },
        {
          "output_type": "stream",
          "name": "stderr",
          "text": [
            "\rEpochs :  53%|█████▎    | 8/15 [09:24<07:35, 65.12s/it]"
          ]
        },
        {
          "output_type": "stream",
          "name": "stdout",
          "text": [
            "\n",
            "Train Loss: 1.2690 Train Accuracy: 65.7973 Validation Loss: 5.5352 Validation Accuracy: 58.7611\n",
            "\n",
            "Time taken for the epoch 62.7717\n"
          ]
        },
        {
          "output_type": "stream",
          "name": "stderr",
          "text": [
            "\rEpochs :  60%|██████    | 9/15 [10:26<06:25, 64.32s/it]"
          ]
        },
        {
          "output_type": "stream",
          "name": "stdout",
          "text": [
            "\n",
            "Train Loss: 1.2593 Train Accuracy: 65.7380 Validation Loss: 4.6560 Validation Accuracy: 54.2418\n",
            "\n",
            "Time taken for the epoch 62.5411\n"
          ]
        },
        {
          "output_type": "stream",
          "name": "stderr",
          "text": [
            "Epochs :  67%|██████▋   | 10/15 [11:29<05:44, 68.91s/it]"
          ]
        },
        {
          "output_type": "stream",
          "name": "stdout",
          "text": [
            "\n",
            "Train Loss: 1.2514 Train Accuracy: 65.9635 Validation Loss: 3.9834 Validation Accuracy: 59.4385\n",
            "\n",
            "Time taken for the epoch 62.5286\n",
            "\n",
            "Model trained successfully !!\n"
          ]
        },
        {
          "output_type": "stream",
          "name": "stderr",
          "text": [
            "\n"
          ]
        },
        {
          "output_type": "display_data",
          "data": {
            "text/plain": [
              "<IPython.core.display.HTML object>"
            ],
            "text/html": []
          },
          "metadata": {}
        },
        {
          "output_type": "display_data",
          "data": {
            "text/plain": [
              "<IPython.core.display.HTML object>"
            ],
            "text/html": [
              "<br>    <style><br>        .wandb-row {<br>            display: flex;<br>            flex-direction: row;<br>            flex-wrap: wrap;<br>            justify-content: flex-start;<br>            width: 100%;<br>        }<br>        .wandb-col {<br>            display: flex;<br>            flex-direction: column;<br>            flex-basis: 100%;<br>            flex: 1;<br>            padding: 10px;<br>        }<br>    </style><br><div class=\"wandb-row\"><div class=\"wandb-col\"><h3>Run history:</h3><br/><table class=\"wandb\"><tr><td>epoch</td><td>▁▂▃▃▄▅▆▆▇█</td></tr><tr><td>train_acc</td><td>▁█████████</td></tr><tr><td>train_loss</td><td>█▁▁▁▁▁▁▁▁▁</td></tr><tr><td>training time</td><td>█▂▁▂▂▁▁▁▁▁</td></tr><tr><td>val_acc</td><td>▇▇▁▇█▅▇▇▅▇</td></tr><tr><td>val_loss</td><td>▅▁▇██▆▆█▅▃</td></tr></table><br/></div><div class=\"wandb-col\"><h3>Run summary:</h3><br/><table class=\"wandb\"><tr><td>epoch</td><td>10</td></tr><tr><td>train_acc</td><td>65.96346</td></tr><tr><td>train_loss</td><td>1.25144</td></tr><tr><td>training time</td><td>62.52861</td></tr><tr><td>val_acc</td><td>59.43846</td></tr><tr><td>val_loss</td><td>3.98344</td></tr></table><br/></div></div>"
            ]
          },
          "metadata": {}
        },
        {
          "output_type": "display_data",
          "data": {
            "text/plain": [
              "<IPython.core.display.HTML object>"
            ],
            "text/html": [
              " View run <strong style=\"color:#cdcd00\"> num_of_decoders(3)_ cell_type(rnn)_latent_dim(64)_lr(0.05)_optimizer(rmsprop)_dropout(0.5)inp_emb_size(256)_batch_size(128</strong> at: <a href='https://wandb.ai/na21b050-iit-madras/CS6910_Assignment3/runs/fqlwd90i' target=\"_blank\">https://wandb.ai/na21b050-iit-madras/CS6910_Assignment3/runs/fqlwd90i</a><br> View project at: <a href='https://wandb.ai/na21b050-iit-madras/CS6910_Assignment3' target=\"_blank\">https://wandb.ai/na21b050-iit-madras/CS6910_Assignment3</a><br>Synced 5 W&B file(s), 0 media file(s), 0 artifact file(s) and 0 other file(s)"
            ]
          },
          "metadata": {}
        },
        {
          "output_type": "display_data",
          "data": {
            "text/plain": [
              "<IPython.core.display.HTML object>"
            ],
            "text/html": [
              "Find logs at: <code>./wandb/run-20250519_123811-fqlwd90i/logs</code>"
            ]
          },
          "metadata": {}
        },
        {
          "output_type": "stream",
          "name": "stderr",
          "text": [
            "\u001b[34m\u001b[1mwandb\u001b[0m: Agent Starting Run: 0ctjlvu3 with config:\n",
            "\u001b[34m\u001b[1mwandb\u001b[0m: \tbatch_size: 64\n",
            "\u001b[34m\u001b[1mwandb\u001b[0m: \tcell_type: rnn\n",
            "\u001b[34m\u001b[1mwandb\u001b[0m: \tdropout: 0.3\n",
            "\u001b[34m\u001b[1mwandb\u001b[0m: \tinp_emb_size: 256\n",
            "\u001b[34m\u001b[1mwandb\u001b[0m: \tlatent_dim: 64\n",
            "\u001b[34m\u001b[1mwandb\u001b[0m: \tlr: 0.001\n",
            "\u001b[34m\u001b[1mwandb\u001b[0m: \tnum_of_decoders: 2\n",
            "\u001b[34m\u001b[1mwandb\u001b[0m: \tnum_of_encoders: 4\n",
            "\u001b[34m\u001b[1mwandb\u001b[0m: \toptimizer: rmsprop\n"
          ]
        },
        {
          "output_type": "display_data",
          "data": {
            "text/plain": [
              "<IPython.core.display.HTML object>"
            ],
            "text/html": [
              "Tracking run with wandb version 0.19.11"
            ]
          },
          "metadata": {}
        },
        {
          "output_type": "display_data",
          "data": {
            "text/plain": [
              "<IPython.core.display.HTML object>"
            ],
            "text/html": [
              "Run data is saved locally in <code>/content/wandb/run-20250519_124948-0ctjlvu3</code>"
            ]
          },
          "metadata": {}
        },
        {
          "output_type": "display_data",
          "data": {
            "text/plain": [
              "<IPython.core.display.HTML object>"
            ],
            "text/html": [
              "Syncing run <strong><a href='https://wandb.ai/na21b050-iit-madras/CS6910_Assignment3/runs/0ctjlvu3' target=\"_blank\">flowing-sweep-20</a></strong> to <a href='https://wandb.ai/na21b050-iit-madras/CS6910_Assignment3' target=\"_blank\">Weights & Biases</a> (<a href='https://wandb.me/developer-guide' target=\"_blank\">docs</a>)<br>Sweep page: <a href='https://wandb.ai/na21b050-iit-madras/CS6910_Assignment3/sweeps/h16aspho' target=\"_blank\">https://wandb.ai/na21b050-iit-madras/CS6910_Assignment3/sweeps/h16aspho</a>"
            ]
          },
          "metadata": {}
        },
        {
          "output_type": "display_data",
          "data": {
            "text/plain": [
              "<IPython.core.display.HTML object>"
            ],
            "text/html": [
              " View project at <a href='https://wandb.ai/na21b050-iit-madras/CS6910_Assignment3' target=\"_blank\">https://wandb.ai/na21b050-iit-madras/CS6910_Assignment3</a>"
            ]
          },
          "metadata": {}
        },
        {
          "output_type": "display_data",
          "data": {
            "text/plain": [
              "<IPython.core.display.HTML object>"
            ],
            "text/html": [
              " View sweep at <a href='https://wandb.ai/na21b050-iit-madras/CS6910_Assignment3/sweeps/h16aspho' target=\"_blank\">https://wandb.ai/na21b050-iit-madras/CS6910_Assignment3/sweeps/h16aspho</a>"
            ]
          },
          "metadata": {}
        },
        {
          "output_type": "display_data",
          "data": {
            "text/plain": [
              "<IPython.core.display.HTML object>"
            ],
            "text/html": [
              " View run at <a href='https://wandb.ai/na21b050-iit-madras/CS6910_Assignment3/runs/0ctjlvu3' target=\"_blank\">https://wandb.ai/na21b050-iit-madras/CS6910_Assignment3/runs/0ctjlvu3</a>"
            ]
          },
          "metadata": {}
        },
        {
          "output_type": "stream",
          "name": "stderr",
          "text": [
            "Epochs :   7%|▋         | 1/15 [01:22<19:10, 82.21s/it]"
          ]
        },
        {
          "output_type": "stream",
          "name": "stdout",
          "text": [
            "\n",
            "Train Loss: 0.9618 Train Accuracy: 68.6820 Validation Loss: 2.9482 Validation Accuracy: 57.2387\n",
            "\n",
            "Time taken for the epoch 82.2084\n"
          ]
        },
        {
          "output_type": "stream",
          "name": "stderr",
          "text": [
            "\rEpochs :  13%|█▎        | 2/15 [02:12<13:41, 63.22s/it]"
          ]
        },
        {
          "output_type": "stream",
          "name": "stdout",
          "text": [
            "\n",
            "Train Loss: 0.7300 Train Accuracy: 78.0176 Validation Loss: 3.4685 Validation Accuracy: 53.8093\n",
            "\n",
            "Time taken for the epoch 49.9185\n"
          ]
        },
        {
          "output_type": "stream",
          "name": "stderr",
          "text": [
            "\rEpochs :  20%|██        | 3/15 [03:00<11:19, 56.59s/it]"
          ]
        },
        {
          "output_type": "stream",
          "name": "stdout",
          "text": [
            "\n",
            "Train Loss: 0.6670 Train Accuracy: 79.8596 Validation Loss: 3.9896 Validation Accuracy: 50.1166\n",
            "\n",
            "Time taken for the epoch 48.7065\n"
          ]
        },
        {
          "output_type": "stream",
          "name": "stderr",
          "text": [
            "\rEpochs :  27%|██▋       | 4/15 [03:49<09:46, 53.32s/it]"
          ]
        },
        {
          "output_type": "stream",
          "name": "stdout",
          "text": [
            "\n",
            "Train Loss: 0.6241 Train Accuracy: 81.0724 Validation Loss: 4.1635 Validation Accuracy: 50.8280\n",
            "\n",
            "Time taken for the epoch 48.3051\n"
          ]
        },
        {
          "output_type": "stream",
          "name": "stderr",
          "text": [
            "\rEpochs :  33%|███▎      | 5/15 [04:36<08:31, 51.11s/it]"
          ]
        },
        {
          "output_type": "stream",
          "name": "stdout",
          "text": [
            "\n",
            "Train Loss: 0.5922 Train Accuracy: 81.9309 Validation Loss: 3.8155 Validation Accuracy: 53.0225\n",
            "\n",
            "Time taken for the epoch 47.1698\n"
          ]
        },
        {
          "output_type": "stream",
          "name": "stderr",
          "text": [
            "Epochs :  40%|████      | 6/15 [05:25<08:07, 54.18s/it]"
          ]
        },
        {
          "output_type": "stream",
          "name": "stdout",
          "text": [
            "\n",
            "Train Loss: 0.5663 Train Accuracy: 82.6773 Validation Loss: 4.1733 Validation Accuracy: 51.6231\n",
            "\n",
            "Time taken for the epoch 48.7403\n",
            "\n",
            "Model trained successfully !!\n"
          ]
        },
        {
          "output_type": "stream",
          "name": "stderr",
          "text": [
            "\n"
          ]
        },
        {
          "output_type": "display_data",
          "data": {
            "text/plain": [
              "<IPython.core.display.HTML object>"
            ],
            "text/html": []
          },
          "metadata": {}
        },
        {
          "output_type": "display_data",
          "data": {
            "text/plain": [
              "<IPython.core.display.HTML object>"
            ],
            "text/html": [
              "<br>    <style><br>        .wandb-row {<br>            display: flex;<br>            flex-direction: row;<br>            flex-wrap: wrap;<br>            justify-content: flex-start;<br>            width: 100%;<br>        }<br>        .wandb-col {<br>            display: flex;<br>            flex-direction: column;<br>            flex-basis: 100%;<br>            flex: 1;<br>            padding: 10px;<br>        }<br>    </style><br><div class=\"wandb-row\"><div class=\"wandb-col\"><h3>Run history:</h3><br/><table class=\"wandb\"><tr><td>epoch</td><td>▁▂▄▅▇█</td></tr><tr><td>train_acc</td><td>▁▆▇▇██</td></tr><tr><td>train_loss</td><td>█▄▃▂▁▁</td></tr><tr><td>training time</td><td>█▂▁▁▁▁</td></tr><tr><td>val_acc</td><td>█▅▁▂▄▂</td></tr><tr><td>val_loss</td><td>▁▄▇█▆█</td></tr></table><br/></div><div class=\"wandb-col\"><h3>Run summary:</h3><br/><table class=\"wandb\"><tr><td>epoch</td><td>6</td></tr><tr><td>train_acc</td><td>82.67725</td></tr><tr><td>train_loss</td><td>0.56626</td></tr><tr><td>training time</td><td>48.74033</td></tr><tr><td>val_acc</td><td>51.62308</td></tr><tr><td>val_loss</td><td>4.1733</td></tr></table><br/></div></div>"
            ]
          },
          "metadata": {}
        },
        {
          "output_type": "display_data",
          "data": {
            "text/plain": [
              "<IPython.core.display.HTML object>"
            ],
            "text/html": [
              " View run <strong style=\"color:#cdcd00\"> num_of_decoders(2)_ cell_type(rnn)_latent_dim(64)_lr(0.001)_optimizer(rmsprop)_dropout(0.3)inp_emb_size(256)_batch_size(64</strong> at: <a href='https://wandb.ai/na21b050-iit-madras/CS6910_Assignment3/runs/0ctjlvu3' target=\"_blank\">https://wandb.ai/na21b050-iit-madras/CS6910_Assignment3/runs/0ctjlvu3</a><br> View project at: <a href='https://wandb.ai/na21b050-iit-madras/CS6910_Assignment3' target=\"_blank\">https://wandb.ai/na21b050-iit-madras/CS6910_Assignment3</a><br>Synced 5 W&B file(s), 0 media file(s), 0 artifact file(s) and 0 other file(s)"
            ]
          },
          "metadata": {}
        },
        {
          "output_type": "display_data",
          "data": {
            "text/plain": [
              "<IPython.core.display.HTML object>"
            ],
            "text/html": [
              "Find logs at: <code>./wandb/run-20250519_124948-0ctjlvu3/logs</code>"
            ]
          },
          "metadata": {}
        },
        {
          "output_type": "stream",
          "name": "stderr",
          "text": [
            "\u001b[34m\u001b[1mwandb\u001b[0m: Agent Starting Run: 7onp3wp6 with config:\n",
            "\u001b[34m\u001b[1mwandb\u001b[0m: \tbatch_size: 64\n",
            "\u001b[34m\u001b[1mwandb\u001b[0m: \tcell_type: rnn\n",
            "\u001b[34m\u001b[1mwandb\u001b[0m: \tdropout: 0.5\n",
            "\u001b[34m\u001b[1mwandb\u001b[0m: \tinp_emb_size: 256\n",
            "\u001b[34m\u001b[1mwandb\u001b[0m: \tlatent_dim: 256\n",
            "\u001b[34m\u001b[1mwandb\u001b[0m: \tlr: 0.05\n",
            "\u001b[34m\u001b[1mwandb\u001b[0m: \tnum_of_decoders: 3\n",
            "\u001b[34m\u001b[1mwandb\u001b[0m: \tnum_of_encoders: 4\n",
            "\u001b[34m\u001b[1mwandb\u001b[0m: \toptimizer: rmsprop\n"
          ]
        },
        {
          "output_type": "display_data",
          "data": {
            "text/plain": [
              "<IPython.core.display.HTML object>"
            ],
            "text/html": [
              "Tracking run with wandb version 0.19.11"
            ]
          },
          "metadata": {}
        },
        {
          "output_type": "display_data",
          "data": {
            "text/plain": [
              "<IPython.core.display.HTML object>"
            ],
            "text/html": [
              "Run data is saved locally in <code>/content/wandb/run-20250519_125523-7onp3wp6</code>"
            ]
          },
          "metadata": {}
        },
        {
          "output_type": "display_data",
          "data": {
            "text/plain": [
              "<IPython.core.display.HTML object>"
            ],
            "text/html": [
              "Syncing run <strong><a href='https://wandb.ai/na21b050-iit-madras/CS6910_Assignment3/runs/7onp3wp6' target=\"_blank\">volcanic-sweep-21</a></strong> to <a href='https://wandb.ai/na21b050-iit-madras/CS6910_Assignment3' target=\"_blank\">Weights & Biases</a> (<a href='https://wandb.me/developer-guide' target=\"_blank\">docs</a>)<br>Sweep page: <a href='https://wandb.ai/na21b050-iit-madras/CS6910_Assignment3/sweeps/h16aspho' target=\"_blank\">https://wandb.ai/na21b050-iit-madras/CS6910_Assignment3/sweeps/h16aspho</a>"
            ]
          },
          "metadata": {}
        },
        {
          "output_type": "display_data",
          "data": {
            "text/plain": [
              "<IPython.core.display.HTML object>"
            ],
            "text/html": [
              " View project at <a href='https://wandb.ai/na21b050-iit-madras/CS6910_Assignment3' target=\"_blank\">https://wandb.ai/na21b050-iit-madras/CS6910_Assignment3</a>"
            ]
          },
          "metadata": {}
        },
        {
          "output_type": "display_data",
          "data": {
            "text/plain": [
              "<IPython.core.display.HTML object>"
            ],
            "text/html": [
              " View sweep at <a href='https://wandb.ai/na21b050-iit-madras/CS6910_Assignment3/sweeps/h16aspho' target=\"_blank\">https://wandb.ai/na21b050-iit-madras/CS6910_Assignment3/sweeps/h16aspho</a>"
            ]
          },
          "metadata": {}
        },
        {
          "output_type": "display_data",
          "data": {
            "text/plain": [
              "<IPython.core.display.HTML object>"
            ],
            "text/html": [
              " View run at <a href='https://wandb.ai/na21b050-iit-madras/CS6910_Assignment3/runs/7onp3wp6' target=\"_blank\">https://wandb.ai/na21b050-iit-madras/CS6910_Assignment3/runs/7onp3wp6</a>"
            ]
          },
          "metadata": {}
        },
        {
          "output_type": "stream",
          "name": "stderr",
          "text": [
            "Epochs :   7%|▋         | 1/15 [01:54<26:41, 114.39s/it]"
          ]
        },
        {
          "output_type": "stream",
          "name": "stdout",
          "text": [
            "\n",
            "Train Loss: 15.7666 Train Accuracy: 29.5269 Validation Loss: 30.5987 Validation Accuracy: 2.3741\n",
            "\n",
            "Time taken for the epoch 114.3917\n"
          ]
        },
        {
          "output_type": "stream",
          "name": "stderr",
          "text": [
            "\rEpochs :  13%|█▎        | 2/15 [03:01<18:46, 86.67s/it] "
          ]
        },
        {
          "output_type": "stream",
          "name": "stdout",
          "text": [
            "\n",
            "Train Loss: 3.1485 Train Accuracy: 61.1454 Validation Loss: 30.4458 Validation Accuracy: 2.2304\n",
            "\n",
            "Time taken for the epoch 67.2591\n"
          ]
        },
        {
          "output_type": "stream",
          "name": "stderr",
          "text": [
            "\rEpochs :  20%|██        | 3/15 [04:10<15:42, 78.51s/it]"
          ]
        },
        {
          "output_type": "stream",
          "name": "stdout",
          "text": [
            "\n",
            "Train Loss: 3.1515 Train Accuracy: 61.8680 Validation Loss: 10.4485 Validation Accuracy: 58.6857\n",
            "\n",
            "Time taken for the epoch 68.7852\n"
          ]
        },
        {
          "output_type": "stream",
          "name": "stderr",
          "text": [
            "\rEpochs :  27%|██▋       | 4/15 [05:18<13:39, 74.46s/it]"
          ]
        },
        {
          "output_type": "stream",
          "name": "stdout",
          "text": [
            "\n",
            "Train Loss: 3.1350 Train Accuracy: 61.9501 Validation Loss: 59.9730 Validation Accuracy: 2.5036\n",
            "\n",
            "Time taken for the epoch 68.2447\n"
          ]
        },
        {
          "output_type": "stream",
          "name": "stderr",
          "text": [
            "\rEpochs :  33%|███▎      | 5/15 [06:26<11:59, 71.91s/it]"
          ]
        },
        {
          "output_type": "stream",
          "name": "stdout",
          "text": [
            "\n",
            "Train Loss: 3.0656 Train Accuracy: 62.2258 Validation Loss: 31.0213 Validation Accuracy: 3.3565\n",
            "\n",
            "Time taken for the epoch 67.3725\n"
          ]
        },
        {
          "output_type": "stream",
          "name": "stderr",
          "text": [
            "\rEpochs :  40%|████      | 6/15 [07:33<10:32, 70.28s/it]"
          ]
        },
        {
          "output_type": "stream",
          "name": "stdout",
          "text": [
            "\n",
            "Train Loss: 3.0352 Train Accuracy: 62.1849 Validation Loss: 39.4085 Validation Accuracy: 2.3621\n",
            "\n",
            "Time taken for the epoch 67.1130\n"
          ]
        },
        {
          "output_type": "stream",
          "name": "stderr",
          "text": [
            "\rEpochs :  47%|████▋     | 7/15 [08:41<09:18, 69.76s/it]"
          ]
        },
        {
          "output_type": "stream",
          "name": "stdout",
          "text": [
            "\n",
            "Train Loss: 3.0786 Train Accuracy: 62.0985 Validation Loss: 13.5957 Validation Accuracy: 41.1163\n",
            "\n",
            "Time taken for the epoch 68.6831\n"
          ]
        },
        {
          "output_type": "stream",
          "name": "stderr",
          "text": [
            "Epochs :  53%|█████▎    | 8/15 [09:48<08:35, 73.62s/it]"
          ]
        },
        {
          "output_type": "stream",
          "name": "stdout",
          "text": [
            "\n",
            "Train Loss: 3.0700 Train Accuracy: 62.2053 Validation Loss: 20.5070 Validation Accuracy: 36.6491\n",
            "\n",
            "Time taken for the epoch 67.0829\n",
            "\n",
            "Model trained successfully !!\n"
          ]
        },
        {
          "output_type": "stream",
          "name": "stderr",
          "text": [
            "\n"
          ]
        },
        {
          "output_type": "display_data",
          "data": {
            "text/plain": [
              "<IPython.core.display.HTML object>"
            ],
            "text/html": []
          },
          "metadata": {}
        },
        {
          "output_type": "display_data",
          "data": {
            "text/plain": [
              "<IPython.core.display.HTML object>"
            ],
            "text/html": [
              "<br>    <style><br>        .wandb-row {<br>            display: flex;<br>            flex-direction: row;<br>            flex-wrap: wrap;<br>            justify-content: flex-start;<br>            width: 100%;<br>        }<br>        .wandb-col {<br>            display: flex;<br>            flex-direction: column;<br>            flex-basis: 100%;<br>            flex: 1;<br>            padding: 10px;<br>        }<br>    </style><br><div class=\"wandb-row\"><div class=\"wandb-col\"><h3>Run history:</h3><br/><table class=\"wandb\"><tr><td>epoch</td><td>▁▂▃▄▅▆▇█</td></tr><tr><td>train_acc</td><td>▁███████</td></tr><tr><td>train_loss</td><td>█▁▁▁▁▁▁▁</td></tr><tr><td>training time</td><td>█▁▁▁▁▁▁▁</td></tr><tr><td>val_acc</td><td>▁▁█▁▁▁▆▅</td></tr><tr><td>val_loss</td><td>▄▄▁█▄▅▁▂</td></tr></table><br/></div><div class=\"wandb-col\"><h3>Run summary:</h3><br/><table class=\"wandb\"><tr><td>epoch</td><td>8</td></tr><tr><td>train_acc</td><td>62.20531</td></tr><tr><td>train_loss</td><td>3.07004</td></tr><tr><td>training time</td><td>67.08288</td></tr><tr><td>val_acc</td><td>36.64913</td></tr><tr><td>val_loss</td><td>20.50698</td></tr></table><br/></div></div>"
            ]
          },
          "metadata": {}
        },
        {
          "output_type": "display_data",
          "data": {
            "text/plain": [
              "<IPython.core.display.HTML object>"
            ],
            "text/html": [
              " View run <strong style=\"color:#cdcd00\"> num_of_decoders(3)_ cell_type(rnn)_latent_dim(256)_lr(0.05)_optimizer(rmsprop)_dropout(0.5)inp_emb_size(256)_batch_size(64</strong> at: <a href='https://wandb.ai/na21b050-iit-madras/CS6910_Assignment3/runs/7onp3wp6' target=\"_blank\">https://wandb.ai/na21b050-iit-madras/CS6910_Assignment3/runs/7onp3wp6</a><br> View project at: <a href='https://wandb.ai/na21b050-iit-madras/CS6910_Assignment3' target=\"_blank\">https://wandb.ai/na21b050-iit-madras/CS6910_Assignment3</a><br>Synced 5 W&B file(s), 0 media file(s), 0 artifact file(s) and 0 other file(s)"
            ]
          },
          "metadata": {}
        },
        {
          "output_type": "display_data",
          "data": {
            "text/plain": [
              "<IPython.core.display.HTML object>"
            ],
            "text/html": [
              "Find logs at: <code>./wandb/run-20250519_125523-7onp3wp6/logs</code>"
            ]
          },
          "metadata": {}
        },
        {
          "output_type": "stream",
          "name": "stderr",
          "text": [
            "\u001b[34m\u001b[1mwandb\u001b[0m: Agent Starting Run: lu6f9uwa with config:\n",
            "\u001b[34m\u001b[1mwandb\u001b[0m: \tbatch_size: 64\n",
            "\u001b[34m\u001b[1mwandb\u001b[0m: \tcell_type: rnn\n",
            "\u001b[34m\u001b[1mwandb\u001b[0m: \tdropout: 0.5\n",
            "\u001b[34m\u001b[1mwandb\u001b[0m: \tinp_emb_size: 256\n",
            "\u001b[34m\u001b[1mwandb\u001b[0m: \tlatent_dim: 64\n",
            "\u001b[34m\u001b[1mwandb\u001b[0m: \tlr: 0.001\n",
            "\u001b[34m\u001b[1mwandb\u001b[0m: \tnum_of_decoders: 2\n",
            "\u001b[34m\u001b[1mwandb\u001b[0m: \tnum_of_encoders: 4\n",
            "\u001b[34m\u001b[1mwandb\u001b[0m: \toptimizer: rmsprop\n"
          ]
        },
        {
          "output_type": "display_data",
          "data": {
            "text/plain": [
              "<IPython.core.display.HTML object>"
            ],
            "text/html": [
              "Tracking run with wandb version 0.19.11"
            ]
          },
          "metadata": {}
        },
        {
          "output_type": "display_data",
          "data": {
            "text/plain": [
              "<IPython.core.display.HTML object>"
            ],
            "text/html": [
              "Run data is saved locally in <code>/content/wandb/run-20250519_130520-lu6f9uwa</code>"
            ]
          },
          "metadata": {}
        },
        {
          "output_type": "display_data",
          "data": {
            "text/plain": [
              "<IPython.core.display.HTML object>"
            ],
            "text/html": [
              "Syncing run <strong><a href='https://wandb.ai/na21b050-iit-madras/CS6910_Assignment3/runs/lu6f9uwa' target=\"_blank\">radiant-sweep-22</a></strong> to <a href='https://wandb.ai/na21b050-iit-madras/CS6910_Assignment3' target=\"_blank\">Weights & Biases</a> (<a href='https://wandb.me/developer-guide' target=\"_blank\">docs</a>)<br>Sweep page: <a href='https://wandb.ai/na21b050-iit-madras/CS6910_Assignment3/sweeps/h16aspho' target=\"_blank\">https://wandb.ai/na21b050-iit-madras/CS6910_Assignment3/sweeps/h16aspho</a>"
            ]
          },
          "metadata": {}
        },
        {
          "output_type": "display_data",
          "data": {
            "text/plain": [
              "<IPython.core.display.HTML object>"
            ],
            "text/html": [
              " View project at <a href='https://wandb.ai/na21b050-iit-madras/CS6910_Assignment3' target=\"_blank\">https://wandb.ai/na21b050-iit-madras/CS6910_Assignment3</a>"
            ]
          },
          "metadata": {}
        },
        {
          "output_type": "display_data",
          "data": {
            "text/plain": [
              "<IPython.core.display.HTML object>"
            ],
            "text/html": [
              " View sweep at <a href='https://wandb.ai/na21b050-iit-madras/CS6910_Assignment3/sweeps/h16aspho' target=\"_blank\">https://wandb.ai/na21b050-iit-madras/CS6910_Assignment3/sweeps/h16aspho</a>"
            ]
          },
          "metadata": {}
        },
        {
          "output_type": "display_data",
          "data": {
            "text/plain": [
              "<IPython.core.display.HTML object>"
            ],
            "text/html": [
              " View run at <a href='https://wandb.ai/na21b050-iit-madras/CS6910_Assignment3/runs/lu6f9uwa' target=\"_blank\">https://wandb.ai/na21b050-iit-madras/CS6910_Assignment3/runs/lu6f9uwa</a>"
            ]
          },
          "metadata": {}
        },
        {
          "output_type": "stream",
          "name": "stderr",
          "text": [
            "Epochs :   7%|▋         | 1/15 [01:24<19:37, 84.09s/it]"
          ]
        },
        {
          "output_type": "stream",
          "name": "stdout",
          "text": [
            "\n",
            "Train Loss: 1.0122 Train Accuracy: 66.8231 Validation Loss: 2.7737 Validation Accuracy: 56.1580\n",
            "\n",
            "Time taken for the epoch 84.0823\n"
          ]
        },
        {
          "output_type": "stream",
          "name": "stderr",
          "text": [
            "\rEpochs :  13%|█▎        | 2/15 [02:14<13:51, 63.99s/it]"
          ]
        },
        {
          "output_type": "stream",
          "name": "stdout",
          "text": [
            "\n",
            "Train Loss: 0.7787 Train Accuracy: 76.6994 Validation Loss: 3.0918 Validation Accuracy: 54.4226\n",
            "\n",
            "Time taken for the epoch 49.9091\n"
          ]
        },
        {
          "output_type": "stream",
          "name": "stderr",
          "text": [
            "\rEpochs :  20%|██        | 3/15 [03:04<11:34, 57.90s/it]"
          ]
        },
        {
          "output_type": "stream",
          "name": "stdout",
          "text": [
            "\n",
            "Train Loss: 0.7187 Train Accuracy: 78.4447 Validation Loss: 3.9849 Validation Accuracy: 48.8223\n",
            "\n",
            "Time taken for the epoch 50.6572\n"
          ]
        },
        {
          "output_type": "stream",
          "name": "stderr",
          "text": [
            "\rEpochs :  27%|██▋       | 4/15 [03:54<10:03, 54.89s/it]"
          ]
        },
        {
          "output_type": "stream",
          "name": "stdout",
          "text": [
            "\n",
            "Train Loss: 0.6821 Train Accuracy: 79.5249 Validation Loss: 3.3324 Validation Accuracy: 54.5373\n",
            "\n",
            "Time taken for the epoch 50.2683\n"
          ]
        },
        {
          "output_type": "stream",
          "name": "stderr",
          "text": [
            "\rEpochs :  33%|███▎      | 5/15 [04:45<08:51, 53.18s/it]"
          ]
        },
        {
          "output_type": "stream",
          "name": "stdout",
          "text": [
            "\n",
            "Train Loss: 0.6576 Train Accuracy: 80.3120 Validation Loss: 3.8577 Validation Accuracy: 51.2573\n",
            "\n",
            "Time taken for the epoch 50.1380\n"
          ]
        },
        {
          "output_type": "stream",
          "name": "stderr",
          "text": [
            "Epochs :  40%|████      | 6/15 [05:34<08:21, 55.77s/it]"
          ]
        },
        {
          "output_type": "stream",
          "name": "stdout",
          "text": [
            "\n",
            "Train Loss: 0.6390 Train Accuracy: 80.8600 Validation Loss: 4.1731 Validation Accuracy: 49.5572\n",
            "\n",
            "Time taken for the epoch 49.5440\n",
            "\n",
            "Model trained successfully !!\n"
          ]
        },
        {
          "output_type": "stream",
          "name": "stderr",
          "text": [
            "\n"
          ]
        },
        {
          "output_type": "display_data",
          "data": {
            "text/plain": [
              "<IPython.core.display.HTML object>"
            ],
            "text/html": []
          },
          "metadata": {}
        },
        {
          "output_type": "display_data",
          "data": {
            "text/plain": [
              "<IPython.core.display.HTML object>"
            ],
            "text/html": [
              "<br>    <style><br>        .wandb-row {<br>            display: flex;<br>            flex-direction: row;<br>            flex-wrap: wrap;<br>            justify-content: flex-start;<br>            width: 100%;<br>        }<br>        .wandb-col {<br>            display: flex;<br>            flex-direction: column;<br>            flex-basis: 100%;<br>            flex: 1;<br>            padding: 10px;<br>        }<br>    </style><br><div class=\"wandb-row\"><div class=\"wandb-col\"><h3>Run history:</h3><br/><table class=\"wandb\"><tr><td>epoch</td><td>▁▂▄▅▇█</td></tr><tr><td>train_acc</td><td>▁▆▇▇██</td></tr><tr><td>train_loss</td><td>█▄▂▂▁▁</td></tr><tr><td>training time</td><td>█▁▁▁▁▁</td></tr><tr><td>val_acc</td><td>█▆▁▆▃▂</td></tr><tr><td>val_loss</td><td>▁▃▇▄▆█</td></tr></table><br/></div><div class=\"wandb-col\"><h3>Run summary:</h3><br/><table class=\"wandb\"><tr><td>epoch</td><td>6</td></tr><tr><td>train_acc</td><td>80.85997</td></tr><tr><td>train_loss</td><td>0.63902</td></tr><tr><td>training time</td><td>49.54403</td></tr><tr><td>val_acc</td><td>49.55715</td></tr><tr><td>val_loss</td><td>4.17314</td></tr></table><br/></div></div>"
            ]
          },
          "metadata": {}
        },
        {
          "output_type": "display_data",
          "data": {
            "text/plain": [
              "<IPython.core.display.HTML object>"
            ],
            "text/html": [
              " View run <strong style=\"color:#cdcd00\"> num_of_decoders(2)_ cell_type(rnn)_latent_dim(64)_lr(0.001)_optimizer(rmsprop)_dropout(0.5)inp_emb_size(256)_batch_size(64</strong> at: <a href='https://wandb.ai/na21b050-iit-madras/CS6910_Assignment3/runs/lu6f9uwa' target=\"_blank\">https://wandb.ai/na21b050-iit-madras/CS6910_Assignment3/runs/lu6f9uwa</a><br> View project at: <a href='https://wandb.ai/na21b050-iit-madras/CS6910_Assignment3' target=\"_blank\">https://wandb.ai/na21b050-iit-madras/CS6910_Assignment3</a><br>Synced 5 W&B file(s), 0 media file(s), 0 artifact file(s) and 0 other file(s)"
            ]
          },
          "metadata": {}
        },
        {
          "output_type": "display_data",
          "data": {
            "text/plain": [
              "<IPython.core.display.HTML object>"
            ],
            "text/html": [
              "Find logs at: <code>./wandb/run-20250519_130520-lu6f9uwa/logs</code>"
            ]
          },
          "metadata": {}
        },
        {
          "output_type": "stream",
          "name": "stderr",
          "text": [
            "\u001b[34m\u001b[1mwandb\u001b[0m: Sweep Agent: Waiting for job.\n",
            "\u001b[34m\u001b[1mwandb\u001b[0m: Job received.\n",
            "\u001b[34m\u001b[1mwandb\u001b[0m: Agent Starting Run: vuprhzja with config:\n",
            "\u001b[34m\u001b[1mwandb\u001b[0m: \tbatch_size: 128\n",
            "\u001b[34m\u001b[1mwandb\u001b[0m: \tcell_type: rnn\n",
            "\u001b[34m\u001b[1mwandb\u001b[0m: \tdropout: 0.5\n",
            "\u001b[34m\u001b[1mwandb\u001b[0m: \tinp_emb_size: 256\n",
            "\u001b[34m\u001b[1mwandb\u001b[0m: \tlatent_dim: 128\n",
            "\u001b[34m\u001b[1mwandb\u001b[0m: \tlr: 0.005\n",
            "\u001b[34m\u001b[1mwandb\u001b[0m: \tnum_of_decoders: 3\n",
            "\u001b[34m\u001b[1mwandb\u001b[0m: \tnum_of_encoders: 4\n",
            "\u001b[34m\u001b[1mwandb\u001b[0m: \toptimizer: rmsprop\n"
          ]
        },
        {
          "output_type": "display_data",
          "data": {
            "text/plain": [
              "<IPython.core.display.HTML object>"
            ],
            "text/html": [
              "Tracking run with wandb version 0.19.11"
            ]
          },
          "metadata": {}
        },
        {
          "output_type": "display_data",
          "data": {
            "text/plain": [
              "<IPython.core.display.HTML object>"
            ],
            "text/html": [
              "Run data is saved locally in <code>/content/wandb/run-20250519_131110-vuprhzja</code>"
            ]
          },
          "metadata": {}
        },
        {
          "output_type": "display_data",
          "data": {
            "text/plain": [
              "<IPython.core.display.HTML object>"
            ],
            "text/html": [
              "Syncing run <strong><a href='https://wandb.ai/na21b050-iit-madras/CS6910_Assignment3/runs/vuprhzja' target=\"_blank\">worldly-sweep-23</a></strong> to <a href='https://wandb.ai/na21b050-iit-madras/CS6910_Assignment3' target=\"_blank\">Weights & Biases</a> (<a href='https://wandb.me/developer-guide' target=\"_blank\">docs</a>)<br>Sweep page: <a href='https://wandb.ai/na21b050-iit-madras/CS6910_Assignment3/sweeps/h16aspho' target=\"_blank\">https://wandb.ai/na21b050-iit-madras/CS6910_Assignment3/sweeps/h16aspho</a>"
            ]
          },
          "metadata": {}
        },
        {
          "output_type": "display_data",
          "data": {
            "text/plain": [
              "<IPython.core.display.HTML object>"
            ],
            "text/html": [
              " View project at <a href='https://wandb.ai/na21b050-iit-madras/CS6910_Assignment3' target=\"_blank\">https://wandb.ai/na21b050-iit-madras/CS6910_Assignment3</a>"
            ]
          },
          "metadata": {}
        },
        {
          "output_type": "display_data",
          "data": {
            "text/plain": [
              "<IPython.core.display.HTML object>"
            ],
            "text/html": [
              " View sweep at <a href='https://wandb.ai/na21b050-iit-madras/CS6910_Assignment3/sweeps/h16aspho' target=\"_blank\">https://wandb.ai/na21b050-iit-madras/CS6910_Assignment3/sweeps/h16aspho</a>"
            ]
          },
          "metadata": {}
        },
        {
          "output_type": "display_data",
          "data": {
            "text/plain": [
              "<IPython.core.display.HTML object>"
            ],
            "text/html": [
              " View run at <a href='https://wandb.ai/na21b050-iit-madras/CS6910_Assignment3/runs/vuprhzja' target=\"_blank\">https://wandb.ai/na21b050-iit-madras/CS6910_Assignment3/runs/vuprhzja</a>"
            ]
          },
          "metadata": {}
        },
        {
          "output_type": "stream",
          "name": "stderr",
          "text": [
            "Epochs :   7%|▋         | 1/15 [01:54<26:38, 114.19s/it]"
          ]
        },
        {
          "output_type": "stream",
          "name": "stdout",
          "text": [
            "\n",
            "Train Loss: 1.1697 Train Accuracy: 62.7369 Validation Loss: 7.3634 Validation Accuracy: 33.1861\n",
            "\n",
            "Time taken for the epoch 114.1825\n"
          ]
        },
        {
          "output_type": "stream",
          "name": "stderr",
          "text": [
            "\rEpochs :  13%|█▎        | 2/15 [02:59<18:28, 85.31s/it] "
          ]
        },
        {
          "output_type": "stream",
          "name": "stdout",
          "text": [
            "\n",
            "Train Loss: 0.9125 Train Accuracy: 72.3902 Validation Loss: 4.1964 Validation Accuracy: 56.0349\n",
            "\n",
            "Time taken for the epoch 65.0885\n"
          ]
        },
        {
          "output_type": "stream",
          "name": "stderr",
          "text": [
            "\rEpochs :  20%|██        | 3/15 [04:04<15:12, 76.04s/it]"
          ]
        },
        {
          "output_type": "stream",
          "name": "stdout",
          "text": [
            "\n",
            "Train Loss: 0.8553 Train Accuracy: 74.1088 Validation Loss: 3.9255 Validation Accuracy: 57.5986\n",
            "\n",
            "Time taken for the epoch 65.0074\n"
          ]
        },
        {
          "output_type": "stream",
          "name": "stderr",
          "text": [
            "\rEpochs :  27%|██▋       | 4/15 [05:09<13:09, 71.77s/it]"
          ]
        },
        {
          "output_type": "stream",
          "name": "stdout",
          "text": [
            "\n",
            "Train Loss: 0.8256 Train Accuracy: 75.0140 Validation Loss: 4.2748 Validation Accuracy: 54.5615\n",
            "\n",
            "Time taken for the epoch 65.2152\n"
          ]
        },
        {
          "output_type": "stream",
          "name": "stderr",
          "text": [
            "\rEpochs :  33%|███▎      | 5/15 [06:14<11:32, 69.30s/it]"
          ]
        },
        {
          "output_type": "stream",
          "name": "stdout",
          "text": [
            "\n",
            "Train Loss: 0.8080 Train Accuracy: 75.5178 Validation Loss: 6.0710 Validation Accuracy: 46.9966\n",
            "\n",
            "Time taken for the epoch 64.9157\n"
          ]
        },
        {
          "output_type": "stream",
          "name": "stderr",
          "text": [
            "\rEpochs :  40%|████      | 6/15 [07:19<10:09, 67.76s/it]"
          ]
        },
        {
          "output_type": "stream",
          "name": "stdout",
          "text": [
            "\n",
            "Train Loss: 0.7963 Train Accuracy: 75.8733 Validation Loss: 11.7549 Validation Accuracy: 33.0690\n",
            "\n",
            "Time taken for the epoch 64.7683\n"
          ]
        },
        {
          "output_type": "stream",
          "name": "stderr",
          "text": [
            "\rEpochs :  47%|████▋     | 7/15 [08:25<08:58, 67.33s/it]"
          ]
        },
        {
          "output_type": "stream",
          "name": "stdout",
          "text": [
            "\n",
            "Train Loss: 0.7888 Train Accuracy: 76.0430 Validation Loss: 6.7594 Validation Accuracy: 51.5247\n",
            "\n",
            "Time taken for the epoch 66.4369\n"
          ]
        },
        {
          "output_type": "stream",
          "name": "stderr",
          "text": [
            "Epochs :  53%|█████▎    | 8/15 [09:32<08:20, 71.51s/it]"
          ]
        },
        {
          "output_type": "stream",
          "name": "stdout",
          "text": [
            "\n",
            "Train Loss: 0.7832 Train Accuracy: 76.1702 Validation Loss: 11.6058 Validation Accuracy: 38.5246\n",
            "\n",
            "Time taken for the epoch 66.4056\n",
            "\n",
            "Model trained successfully !!\n"
          ]
        },
        {
          "output_type": "stream",
          "name": "stderr",
          "text": [
            "\n"
          ]
        },
        {
          "output_type": "display_data",
          "data": {
            "text/plain": [
              "<IPython.core.display.HTML object>"
            ],
            "text/html": []
          },
          "metadata": {}
        },
        {
          "output_type": "display_data",
          "data": {
            "text/plain": [
              "<IPython.core.display.HTML object>"
            ],
            "text/html": [
              "<br>    <style><br>        .wandb-row {<br>            display: flex;<br>            flex-direction: row;<br>            flex-wrap: wrap;<br>            justify-content: flex-start;<br>            width: 100%;<br>        }<br>        .wandb-col {<br>            display: flex;<br>            flex-direction: column;<br>            flex-basis: 100%;<br>            flex: 1;<br>            padding: 10px;<br>        }<br>    </style><br><div class=\"wandb-row\"><div class=\"wandb-col\"><h3>Run history:</h3><br/><table class=\"wandb\"><tr><td>epoch</td><td>▁▂▃▄▅▆▇█</td></tr><tr><td>train_acc</td><td>▁▆▇▇████</td></tr><tr><td>train_loss</td><td>█▃▂▂▁▁▁▁</td></tr><tr><td>training time</td><td>█▁▁▁▁▁▁▁</td></tr><tr><td>val_acc</td><td>▁██▇▅▁▆▃</td></tr><tr><td>val_loss</td><td>▄▁▁▁▃█▄█</td></tr></table><br/></div><div class=\"wandb-col\"><h3>Run summary:</h3><br/><table class=\"wandb\"><tr><td>epoch</td><td>8</td></tr><tr><td>train_acc</td><td>76.17019</td></tr><tr><td>train_loss</td><td>0.7832</td></tr><tr><td>training time</td><td>66.40558</td></tr><tr><td>val_acc</td><td>38.52458</td></tr><tr><td>val_loss</td><td>11.60582</td></tr></table><br/></div></div>"
            ]
          },
          "metadata": {}
        },
        {
          "output_type": "display_data",
          "data": {
            "text/plain": [
              "<IPython.core.display.HTML object>"
            ],
            "text/html": [
              " View run <strong style=\"color:#cdcd00\"> num_of_decoders(3)_ cell_type(rnn)_latent_dim(128)_lr(0.005)_optimizer(rmsprop)_dropout(0.5)inp_emb_size(256)_batch_size(128</strong> at: <a href='https://wandb.ai/na21b050-iit-madras/CS6910_Assignment3/runs/vuprhzja' target=\"_blank\">https://wandb.ai/na21b050-iit-madras/CS6910_Assignment3/runs/vuprhzja</a><br> View project at: <a href='https://wandb.ai/na21b050-iit-madras/CS6910_Assignment3' target=\"_blank\">https://wandb.ai/na21b050-iit-madras/CS6910_Assignment3</a><br>Synced 5 W&B file(s), 0 media file(s), 0 artifact file(s) and 0 other file(s)"
            ]
          },
          "metadata": {}
        },
        {
          "output_type": "display_data",
          "data": {
            "text/plain": [
              "<IPython.core.display.HTML object>"
            ],
            "text/html": [
              "Find logs at: <code>./wandb/run-20250519_131110-vuprhzja/logs</code>"
            ]
          },
          "metadata": {}
        },
        {
          "output_type": "stream",
          "name": "stderr",
          "text": [
            "\u001b[34m\u001b[1mwandb\u001b[0m: Agent Starting Run: zwll1zhi with config:\n",
            "\u001b[34m\u001b[1mwandb\u001b[0m: \tbatch_size: 64\n",
            "\u001b[34m\u001b[1mwandb\u001b[0m: \tcell_type: rnn\n",
            "\u001b[34m\u001b[1mwandb\u001b[0m: \tdropout: 0.3\n",
            "\u001b[34m\u001b[1mwandb\u001b[0m: \tinp_emb_size: 256\n",
            "\u001b[34m\u001b[1mwandb\u001b[0m: \tlatent_dim: 512\n",
            "\u001b[34m\u001b[1mwandb\u001b[0m: \tlr: 0.001\n",
            "\u001b[34m\u001b[1mwandb\u001b[0m: \tnum_of_decoders: 2\n",
            "\u001b[34m\u001b[1mwandb\u001b[0m: \tnum_of_encoders: 4\n",
            "\u001b[34m\u001b[1mwandb\u001b[0m: \toptimizer: rmsprop\n"
          ]
        },
        {
          "output_type": "display_data",
          "data": {
            "text/plain": [
              "<IPython.core.display.HTML object>"
            ],
            "text/html": [
              "Tracking run with wandb version 0.19.11"
            ]
          },
          "metadata": {}
        },
        {
          "output_type": "display_data",
          "data": {
            "text/plain": [
              "<IPython.core.display.HTML object>"
            ],
            "text/html": [
              "Run data is saved locally in <code>/content/wandb/run-20250519_132051-zwll1zhi</code>"
            ]
          },
          "metadata": {}
        },
        {
          "output_type": "display_data",
          "data": {
            "text/plain": [
              "<IPython.core.display.HTML object>"
            ],
            "text/html": [
              "Syncing run <strong><a href='https://wandb.ai/na21b050-iit-madras/CS6910_Assignment3/runs/zwll1zhi' target=\"_blank\">cerulean-sweep-24</a></strong> to <a href='https://wandb.ai/na21b050-iit-madras/CS6910_Assignment3' target=\"_blank\">Weights & Biases</a> (<a href='https://wandb.me/developer-guide' target=\"_blank\">docs</a>)<br>Sweep page: <a href='https://wandb.ai/na21b050-iit-madras/CS6910_Assignment3/sweeps/h16aspho' target=\"_blank\">https://wandb.ai/na21b050-iit-madras/CS6910_Assignment3/sweeps/h16aspho</a>"
            ]
          },
          "metadata": {}
        },
        {
          "output_type": "display_data",
          "data": {
            "text/plain": [
              "<IPython.core.display.HTML object>"
            ],
            "text/html": [
              " View project at <a href='https://wandb.ai/na21b050-iit-madras/CS6910_Assignment3' target=\"_blank\">https://wandb.ai/na21b050-iit-madras/CS6910_Assignment3</a>"
            ]
          },
          "metadata": {}
        },
        {
          "output_type": "display_data",
          "data": {
            "text/plain": [
              "<IPython.core.display.HTML object>"
            ],
            "text/html": [
              " View sweep at <a href='https://wandb.ai/na21b050-iit-madras/CS6910_Assignment3/sweeps/h16aspho' target=\"_blank\">https://wandb.ai/na21b050-iit-madras/CS6910_Assignment3/sweeps/h16aspho</a>"
            ]
          },
          "metadata": {}
        },
        {
          "output_type": "display_data",
          "data": {
            "text/plain": [
              "<IPython.core.display.HTML object>"
            ],
            "text/html": [
              " View run at <a href='https://wandb.ai/na21b050-iit-madras/CS6910_Assignment3/runs/zwll1zhi' target=\"_blank\">https://wandb.ai/na21b050-iit-madras/CS6910_Assignment3/runs/zwll1zhi</a>"
            ]
          },
          "metadata": {}
        },
        {
          "output_type": "stream",
          "name": "stderr",
          "text": [
            "Epochs :   7%|▋         | 1/15 [01:27<20:22, 87.29s/it]"
          ]
        },
        {
          "output_type": "stream",
          "name": "stdout",
          "text": [
            "\n",
            "Train Loss: 1.1710 Train Accuracy: 61.3351 Validation Loss: 5.2930 Validation Accuracy: 37.9953\n",
            "\n",
            "Time taken for the epoch 87.2867\n"
          ]
        },
        {
          "output_type": "stream",
          "name": "stderr",
          "text": [
            "\rEpochs :  13%|█▎        | 2/15 [02:19<14:24, 66.53s/it]"
          ]
        },
        {
          "output_type": "stream",
          "name": "stdout",
          "text": [
            "\n",
            "Train Loss: 0.8313 Train Accuracy: 74.4211 Validation Loss: 8.7221 Validation Accuracy: 32.8630\n",
            "\n",
            "Time taken for the epoch 51.9998\n"
          ]
        },
        {
          "output_type": "stream",
          "name": "stderr",
          "text": [
            "\rEpochs :  20%|██        | 3/15 [03:11<11:58, 59.91s/it]"
          ]
        },
        {
          "output_type": "stream",
          "name": "stdout",
          "text": [
            "\n",
            "Train Loss: 0.7430 Train Accuracy: 77.1342 Validation Loss: 5.7033 Validation Accuracy: 51.4759\n",
            "\n",
            "Time taken for the epoch 52.0216\n"
          ]
        },
        {
          "output_type": "stream",
          "name": "stderr",
          "text": [
            "\rEpochs :  27%|██▋       | 4/15 [04:03<10:27, 57.03s/it]"
          ]
        },
        {
          "output_type": "stream",
          "name": "stdout",
          "text": [
            "\n",
            "Train Loss: 0.6871 Train Accuracy: 78.7475 Validation Loss: 11.2258 Validation Accuracy: 27.6610\n",
            "\n",
            "Time taken for the epoch 52.6200\n"
          ]
        },
        {
          "output_type": "stream",
          "name": "stderr",
          "text": [
            "\rEpochs :  33%|███▎      | 5/15 [04:56<09:14, 55.42s/it]"
          ]
        },
        {
          "output_type": "stream",
          "name": "stdout",
          "text": [
            "\n",
            "Train Loss: 0.6481 Train Accuracy: 79.8433 Validation Loss: 8.1682 Validation Accuracy: 42.7967\n",
            "\n",
            "Time taken for the epoch 52.5319\n"
          ]
        },
        {
          "output_type": "stream",
          "name": "stderr",
          "text": [
            "\rEpochs :  40%|████      | 6/15 [05:48<08:08, 54.33s/it]"
          ]
        },
        {
          "output_type": "stream",
          "name": "stdout",
          "text": [
            "\n",
            "Train Loss: 0.6194 Train Accuracy: 80.5894 Validation Loss: 7.2908 Validation Accuracy: 47.4087\n",
            "\n",
            "Time taken for the epoch 52.2212\n"
          ]
        },
        {
          "output_type": "stream",
          "name": "stderr",
          "text": [
            "\rEpochs :  47%|████▋     | 7/15 [06:40<07:08, 53.51s/it]"
          ]
        },
        {
          "output_type": "stream",
          "name": "stdout",
          "text": [
            "\n",
            "Train Loss: 0.5986 Train Accuracy: 81.1205 Validation Loss: 7.1345 Validation Accuracy: 42.8035\n",
            "\n",
            "Time taken for the epoch 51.8007\n"
          ]
        },
        {
          "output_type": "stream",
          "name": "stderr",
          "text": [
            "Epochs :  53%|█████▎    | 8/15 [07:32<06:36, 56.61s/it]"
          ]
        },
        {
          "output_type": "stream",
          "name": "stdout",
          "text": [
            "\n",
            "Train Loss: 0.5828 Train Accuracy: 81.5294 Validation Loss: 6.0635 Validation Accuracy: 47.2084\n",
            "\n",
            "Time taken for the epoch 52.3606\n",
            "\n",
            "Model trained successfully !!\n"
          ]
        },
        {
          "output_type": "stream",
          "name": "stderr",
          "text": [
            "\n"
          ]
        },
        {
          "output_type": "display_data",
          "data": {
            "text/plain": [
              "<IPython.core.display.HTML object>"
            ],
            "text/html": []
          },
          "metadata": {}
        },
        {
          "output_type": "display_data",
          "data": {
            "text/plain": [
              "<IPython.core.display.HTML object>"
            ],
            "text/html": [
              "<br>    <style><br>        .wandb-row {<br>            display: flex;<br>            flex-direction: row;<br>            flex-wrap: wrap;<br>            justify-content: flex-start;<br>            width: 100%;<br>        }<br>        .wandb-col {<br>            display: flex;<br>            flex-direction: column;<br>            flex-basis: 100%;<br>            flex: 1;<br>            padding: 10px;<br>        }<br>    </style><br><div class=\"wandb-row\"><div class=\"wandb-col\"><h3>Run history:</h3><br/><table class=\"wandb\"><tr><td>epoch</td><td>▁▂▃▄▅▆▇█</td></tr><tr><td>train_acc</td><td>▁▆▆▇▇███</td></tr><tr><td>train_loss</td><td>█▄▃▂▂▁▁▁</td></tr><tr><td>training time</td><td>█▁▁▁▁▁▁▁</td></tr><tr><td>val_acc</td><td>▄▃█▁▅▇▅▇</td></tr><tr><td>val_loss</td><td>▁▅▁█▄▃▃▂</td></tr></table><br/></div><div class=\"wandb-col\"><h3>Run summary:</h3><br/><table class=\"wandb\"><tr><td>epoch</td><td>8</td></tr><tr><td>train_acc</td><td>81.52939</td></tr><tr><td>train_loss</td><td>0.58284</td></tr><tr><td>training time</td><td>52.36062</td></tr><tr><td>val_acc</td><td>47.2084</td></tr><tr><td>val_loss</td><td>6.06351</td></tr></table><br/></div></div>"
            ]
          },
          "metadata": {}
        },
        {
          "output_type": "display_data",
          "data": {
            "text/plain": [
              "<IPython.core.display.HTML object>"
            ],
            "text/html": [
              " View run <strong style=\"color:#cdcd00\"> num_of_decoders(2)_ cell_type(rnn)_latent_dim(512)_lr(0.001)_optimizer(rmsprop)_dropout(0.3)inp_emb_size(256)_batch_size(64</strong> at: <a href='https://wandb.ai/na21b050-iit-madras/CS6910_Assignment3/runs/zwll1zhi' target=\"_blank\">https://wandb.ai/na21b050-iit-madras/CS6910_Assignment3/runs/zwll1zhi</a><br> View project at: <a href='https://wandb.ai/na21b050-iit-madras/CS6910_Assignment3' target=\"_blank\">https://wandb.ai/na21b050-iit-madras/CS6910_Assignment3</a><br>Synced 5 W&B file(s), 0 media file(s), 0 artifact file(s) and 0 other file(s)"
            ]
          },
          "metadata": {}
        },
        {
          "output_type": "display_data",
          "data": {
            "text/plain": [
              "<IPython.core.display.HTML object>"
            ],
            "text/html": [
              "Find logs at: <code>./wandb/run-20250519_132051-zwll1zhi/logs</code>"
            ]
          },
          "metadata": {}
        },
        {
          "output_type": "stream",
          "name": "stderr",
          "text": [
            "\u001b[34m\u001b[1mwandb\u001b[0m: Agent Starting Run: z1jrgujl with config:\n",
            "\u001b[34m\u001b[1mwandb\u001b[0m: \tbatch_size: 128\n",
            "\u001b[34m\u001b[1mwandb\u001b[0m: \tcell_type: rnn\n",
            "\u001b[34m\u001b[1mwandb\u001b[0m: \tdropout: 0.5\n",
            "\u001b[34m\u001b[1mwandb\u001b[0m: \tinp_emb_size: 256\n",
            "\u001b[34m\u001b[1mwandb\u001b[0m: \tlatent_dim: 512\n",
            "\u001b[34m\u001b[1mwandb\u001b[0m: \tlr: 0.05\n",
            "\u001b[34m\u001b[1mwandb\u001b[0m: \tnum_of_decoders: 3\n",
            "\u001b[34m\u001b[1mwandb\u001b[0m: \tnum_of_encoders: 3\n",
            "\u001b[34m\u001b[1mwandb\u001b[0m: \toptimizer: rmsprop\n"
          ]
        },
        {
          "output_type": "display_data",
          "data": {
            "text/plain": [
              "<IPython.core.display.HTML object>"
            ],
            "text/html": [
              "Tracking run with wandb version 0.19.11"
            ]
          },
          "metadata": {}
        },
        {
          "output_type": "display_data",
          "data": {
            "text/plain": [
              "<IPython.core.display.HTML object>"
            ],
            "text/html": [
              "Run data is saved locally in <code>/content/wandb/run-20250519_132833-z1jrgujl</code>"
            ]
          },
          "metadata": {}
        },
        {
          "output_type": "display_data",
          "data": {
            "text/plain": [
              "<IPython.core.display.HTML object>"
            ],
            "text/html": [
              "Syncing run <strong><a href='https://wandb.ai/na21b050-iit-madras/CS6910_Assignment3/runs/z1jrgujl' target=\"_blank\">revived-sweep-25</a></strong> to <a href='https://wandb.ai/na21b050-iit-madras/CS6910_Assignment3' target=\"_blank\">Weights & Biases</a> (<a href='https://wandb.me/developer-guide' target=\"_blank\">docs</a>)<br>Sweep page: <a href='https://wandb.ai/na21b050-iit-madras/CS6910_Assignment3/sweeps/h16aspho' target=\"_blank\">https://wandb.ai/na21b050-iit-madras/CS6910_Assignment3/sweeps/h16aspho</a>"
            ]
          },
          "metadata": {}
        },
        {
          "output_type": "display_data",
          "data": {
            "text/plain": [
              "<IPython.core.display.HTML object>"
            ],
            "text/html": [
              " View project at <a href='https://wandb.ai/na21b050-iit-madras/CS6910_Assignment3' target=\"_blank\">https://wandb.ai/na21b050-iit-madras/CS6910_Assignment3</a>"
            ]
          },
          "metadata": {}
        },
        {
          "output_type": "display_data",
          "data": {
            "text/plain": [
              "<IPython.core.display.HTML object>"
            ],
            "text/html": [
              " View sweep at <a href='https://wandb.ai/na21b050-iit-madras/CS6910_Assignment3/sweeps/h16aspho' target=\"_blank\">https://wandb.ai/na21b050-iit-madras/CS6910_Assignment3/sweeps/h16aspho</a>"
            ]
          },
          "metadata": {}
        },
        {
          "output_type": "display_data",
          "data": {
            "text/plain": [
              "<IPython.core.display.HTML object>"
            ],
            "text/html": [
              " View run at <a href='https://wandb.ai/na21b050-iit-madras/CS6910_Assignment3/runs/z1jrgujl' target=\"_blank\">https://wandb.ai/na21b050-iit-madras/CS6910_Assignment3/runs/z1jrgujl</a>"
            ]
          },
          "metadata": {}
        },
        {
          "output_type": "stream",
          "name": "stderr",
          "text": [
            "Epochs :   7%|▋         | 1/15 [01:56<27:05, 116.11s/it]"
          ]
        },
        {
          "output_type": "stream",
          "name": "stdout",
          "text": [
            "\n",
            "Train Loss: 27.7420 Train Accuracy: 33.8271 Validation Loss: 105.1068 Validation Accuracy: 2.2010\n",
            "\n",
            "Time taken for the epoch 116.0981\n"
          ]
        },
        {
          "output_type": "stream",
          "name": "stderr",
          "text": [
            "\rEpochs :  13%|█▎        | 2/15 [03:03<18:56, 87.39s/it] "
          ]
        },
        {
          "output_type": "stream",
          "name": "stdout",
          "text": [
            "\n",
            "Train Loss: 18.6872 Train Accuracy: 59.5115 Validation Loss: 270.1001 Validation Accuracy: 2.0543\n",
            "\n",
            "Time taken for the epoch 67.2809\n"
          ]
        },
        {
          "output_type": "stream",
          "name": "stderr",
          "text": [
            "\rEpochs :  20%|██        | 3/15 [04:09<15:32, 77.70s/it]"
          ]
        },
        {
          "output_type": "stream",
          "name": "stdout",
          "text": [
            "\n",
            "Train Loss: 19.0588 Train Accuracy: 59.5195 Validation Loss: 431.4904 Validation Accuracy: 1.4613\n",
            "\n",
            "Time taken for the epoch 66.1555\n"
          ]
        },
        {
          "output_type": "stream",
          "name": "stderr",
          "text": [
            "\rEpochs :  27%|██▋       | 4/15 [05:17<13:32, 73.84s/it]"
          ]
        },
        {
          "output_type": "stream",
          "name": "stdout",
          "text": [
            "\n",
            "Train Loss: 18.9535 Train Accuracy: 59.5537 Validation Loss: 550.2617 Validation Accuracy: 1.3802\n",
            "\n",
            "Time taken for the epoch 67.9192\n"
          ]
        },
        {
          "output_type": "stream",
          "name": "stderr",
          "text": [
            "\rEpochs :  33%|███▎      | 5/15 [06:23<11:49, 70.95s/it]"
          ]
        },
        {
          "output_type": "stream",
          "name": "stdout",
          "text": [
            "\n",
            "Train Loss: 19.3618 Train Accuracy: 59.6316 Validation Loss: 662.6528 Validation Accuracy: 2.5074\n",
            "\n",
            "Time taken for the epoch 65.8187\n"
          ]
        },
        {
          "output_type": "stream",
          "name": "stderr",
          "text": [
            "\rEpochs :  40%|████      | 6/15 [07:29<10:24, 69.40s/it]"
          ]
        },
        {
          "output_type": "stream",
          "name": "stdout",
          "text": [
            "\n",
            "Train Loss: 18.9757 Train Accuracy: 59.8117 Validation Loss: 780.8019 Validation Accuracy: 2.7398\n",
            "\n",
            "Time taken for the epoch 66.3957\n"
          ]
        },
        {
          "output_type": "stream",
          "name": "stderr",
          "text": [
            "\rEpochs :  47%|████▋     | 7/15 [08:37<09:10, 68.79s/it]"
          ]
        },
        {
          "output_type": "stream",
          "name": "stdout",
          "text": [
            "\n",
            "Train Loss: 19.1619 Train Accuracy: 59.6835 Validation Loss: 918.9297 Validation Accuracy: 2.6265\n",
            "\n",
            "Time taken for the epoch 67.5078\n"
          ]
        },
        {
          "output_type": "stream",
          "name": "stderr",
          "text": [
            "\rEpochs :  53%|█████▎    | 8/15 [09:43<07:54, 67.84s/it]"
          ]
        },
        {
          "output_type": "stream",
          "name": "stdout",
          "text": [
            "\n",
            "Train Loss: 19.7173 Train Accuracy: 59.9607 Validation Loss: 1066.8912 Validation Accuracy: 3.0130\n",
            "\n",
            "Time taken for the epoch 65.7936\n"
          ]
        },
        {
          "output_type": "stream",
          "name": "stderr",
          "text": [
            "\rEpochs :  60%|██████    | 9/15 [10:49<06:44, 67.36s/it]"
          ]
        },
        {
          "output_type": "stream",
          "name": "stdout",
          "text": [
            "\n",
            "Train Loss: 19.1126 Train Accuracy: 59.7930 Validation Loss: 1193.4838 Validation Accuracy: 3.1616\n",
            "\n",
            "Time taken for the epoch 66.3034\n"
          ]
        },
        {
          "output_type": "stream",
          "name": "stderr",
          "text": [
            "\rEpochs :  67%|██████▋   | 10/15 [11:55<05:35, 67.00s/it]"
          ]
        },
        {
          "output_type": "stream",
          "name": "stdout",
          "text": [
            "\n",
            "Train Loss: 19.4512 Train Accuracy: 59.7808 Validation Loss: 1368.6854 Validation Accuracy: 2.2109\n",
            "\n",
            "Time taken for the epoch 66.2070\n"
          ]
        },
        {
          "output_type": "stream",
          "name": "stderr",
          "text": [
            "\rEpochs :  73%|███████▎  | 11/15 [13:00<04:25, 66.46s/it]"
          ]
        },
        {
          "output_type": "stream",
          "name": "stdout",
          "text": [
            "\n",
            "Train Loss: 19.3972 Train Accuracy: 59.7239 Validation Loss: 1487.2346 Validation Accuracy: 2.6769\n",
            "\n",
            "Time taken for the epoch 65.2176\n"
          ]
        },
        {
          "output_type": "stream",
          "name": "stderr",
          "text": [
            "\rEpochs :  80%|████████  | 12/15 [14:05<03:18, 66.01s/it]"
          ]
        },
        {
          "output_type": "stream",
          "name": "stdout",
          "text": [
            "\n",
            "Train Loss: 20.1829 Train Accuracy: 59.6830 Validation Loss: 1645.0128 Validation Accuracy: 1.6777\n",
            "\n",
            "Time taken for the epoch 64.9629\n"
          ]
        },
        {
          "output_type": "stream",
          "name": "stderr",
          "text": [
            "\rEpochs :  87%|████████▋ | 13/15 [15:11<02:11, 65.89s/it]"
          ]
        },
        {
          "output_type": "stream",
          "name": "stdout",
          "text": [
            "\n",
            "Train Loss: 19.9868 Train Accuracy: 59.7073 Validation Loss: 1802.0145 Validation Accuracy: 1.9869\n",
            "\n",
            "Time taken for the epoch 65.6106\n"
          ]
        },
        {
          "output_type": "stream",
          "name": "stderr",
          "text": [
            "Epochs :  93%|█████████▎| 14/15 [16:17<01:09, 69.80s/it]"
          ]
        },
        {
          "output_type": "stream",
          "name": "stdout",
          "text": [
            "\n",
            "Train Loss: 19.8037 Train Accuracy: 59.8399 Validation Loss: 1934.4728 Validation Accuracy: 1.0477\n",
            "\n",
            "Time taken for the epoch 65.8722\n",
            "\n",
            "Model trained successfully !!\n"
          ]
        },
        {
          "output_type": "stream",
          "name": "stderr",
          "text": [
            "\n"
          ]
        },
        {
          "output_type": "display_data",
          "data": {
            "text/plain": [
              "<IPython.core.display.HTML object>"
            ],
            "text/html": []
          },
          "metadata": {}
        },
        {
          "output_type": "display_data",
          "data": {
            "text/plain": [
              "<IPython.core.display.HTML object>"
            ],
            "text/html": [
              "<br>    <style><br>        .wandb-row {<br>            display: flex;<br>            flex-direction: row;<br>            flex-wrap: wrap;<br>            justify-content: flex-start;<br>            width: 100%;<br>        }<br>        .wandb-col {<br>            display: flex;<br>            flex-direction: column;<br>            flex-basis: 100%;<br>            flex: 1;<br>            padding: 10px;<br>        }<br>    </style><br><div class=\"wandb-row\"><div class=\"wandb-col\"><h3>Run history:</h3><br/><table class=\"wandb\"><tr><td>epoch</td><td>▁▂▂▃▃▄▄▅▅▆▆▇▇█</td></tr><tr><td>train_acc</td><td>▁█████████████</td></tr><tr><td>train_loss</td><td>█▁▁▁▂▁▁▂▁▂▂▂▂▂</td></tr><tr><td>training time</td><td>█▁▁▁▁▁▁▁▁▁▁▁▁▁</td></tr><tr><td>val_acc</td><td>▅▄▂▂▆▇▆██▅▆▃▄▁</td></tr><tr><td>val_loss</td><td>▁▂▂▃▃▄▄▅▅▆▆▇▇█</td></tr></table><br/></div><div class=\"wandb-col\"><h3>Run summary:</h3><br/><table class=\"wandb\"><tr><td>epoch</td><td>14</td></tr><tr><td>train_acc</td><td>59.8399</td></tr><tr><td>train_loss</td><td>19.80371</td></tr><tr><td>training time</td><td>65.87216</td></tr><tr><td>val_acc</td><td>1.04773</td></tr><tr><td>val_loss</td><td>1934.47278</td></tr></table><br/></div></div>"
            ]
          },
          "metadata": {}
        },
        {
          "output_type": "display_data",
          "data": {
            "text/plain": [
              "<IPython.core.display.HTML object>"
            ],
            "text/html": [
              " View run <strong style=\"color:#cdcd00\"> num_of_decoders(3)_ cell_type(rnn)_latent_dim(512)_lr(0.05)_optimizer(rmsprop)_dropout(0.5)inp_emb_size(256)_batch_size(128</strong> at: <a href='https://wandb.ai/na21b050-iit-madras/CS6910_Assignment3/runs/z1jrgujl' target=\"_blank\">https://wandb.ai/na21b050-iit-madras/CS6910_Assignment3/runs/z1jrgujl</a><br> View project at: <a href='https://wandb.ai/na21b050-iit-madras/CS6910_Assignment3' target=\"_blank\">https://wandb.ai/na21b050-iit-madras/CS6910_Assignment3</a><br>Synced 5 W&B file(s), 0 media file(s), 0 artifact file(s) and 0 other file(s)"
            ]
          },
          "metadata": {}
        },
        {
          "output_type": "display_data",
          "data": {
            "text/plain": [
              "<IPython.core.display.HTML object>"
            ],
            "text/html": [
              "Find logs at: <code>./wandb/run-20250519_132833-z1jrgujl/logs</code>"
            ]
          },
          "metadata": {}
        },
        {
          "output_type": "stream",
          "name": "stderr",
          "text": [
            "\u001b[34m\u001b[1mwandb\u001b[0m: Agent Starting Run: biy3ff6n with config:\n",
            "\u001b[34m\u001b[1mwandb\u001b[0m: \tbatch_size: 64\n",
            "\u001b[34m\u001b[1mwandb\u001b[0m: \tcell_type: rnn\n",
            "\u001b[34m\u001b[1mwandb\u001b[0m: \tdropout: 0.3\n",
            "\u001b[34m\u001b[1mwandb\u001b[0m: \tinp_emb_size: 256\n",
            "\u001b[34m\u001b[1mwandb\u001b[0m: \tlatent_dim: 128\n",
            "\u001b[34m\u001b[1mwandb\u001b[0m: \tlr: 0.001\n",
            "\u001b[34m\u001b[1mwandb\u001b[0m: \tnum_of_decoders: 2\n",
            "\u001b[34m\u001b[1mwandb\u001b[0m: \tnum_of_encoders: 3\n",
            "\u001b[34m\u001b[1mwandb\u001b[0m: \toptimizer: rmsprop\n"
          ]
        },
        {
          "output_type": "display_data",
          "data": {
            "text/plain": [
              "<IPython.core.display.HTML object>"
            ],
            "text/html": [
              "Tracking run with wandb version 0.19.11"
            ]
          },
          "metadata": {}
        },
        {
          "output_type": "display_data",
          "data": {
            "text/plain": [
              "<IPython.core.display.HTML object>"
            ],
            "text/html": [
              "Run data is saved locally in <code>/content/wandb/run-20250519_134457-biy3ff6n</code>"
            ]
          },
          "metadata": {}
        },
        {
          "output_type": "display_data",
          "data": {
            "text/plain": [
              "<IPython.core.display.HTML object>"
            ],
            "text/html": [
              "Syncing run <strong><a href='https://wandb.ai/na21b050-iit-madras/CS6910_Assignment3/runs/biy3ff6n' target=\"_blank\">magic-sweep-26</a></strong> to <a href='https://wandb.ai/na21b050-iit-madras/CS6910_Assignment3' target=\"_blank\">Weights & Biases</a> (<a href='https://wandb.me/developer-guide' target=\"_blank\">docs</a>)<br>Sweep page: <a href='https://wandb.ai/na21b050-iit-madras/CS6910_Assignment3/sweeps/h16aspho' target=\"_blank\">https://wandb.ai/na21b050-iit-madras/CS6910_Assignment3/sweeps/h16aspho</a>"
            ]
          },
          "metadata": {}
        },
        {
          "output_type": "display_data",
          "data": {
            "text/plain": [
              "<IPython.core.display.HTML object>"
            ],
            "text/html": [
              " View project at <a href='https://wandb.ai/na21b050-iit-madras/CS6910_Assignment3' target=\"_blank\">https://wandb.ai/na21b050-iit-madras/CS6910_Assignment3</a>"
            ]
          },
          "metadata": {}
        },
        {
          "output_type": "display_data",
          "data": {
            "text/plain": [
              "<IPython.core.display.HTML object>"
            ],
            "text/html": [
              " View sweep at <a href='https://wandb.ai/na21b050-iit-madras/CS6910_Assignment3/sweeps/h16aspho' target=\"_blank\">https://wandb.ai/na21b050-iit-madras/CS6910_Assignment3/sweeps/h16aspho</a>"
            ]
          },
          "metadata": {}
        },
        {
          "output_type": "display_data",
          "data": {
            "text/plain": [
              "<IPython.core.display.HTML object>"
            ],
            "text/html": [
              " View run at <a href='https://wandb.ai/na21b050-iit-madras/CS6910_Assignment3/runs/biy3ff6n' target=\"_blank\">https://wandb.ai/na21b050-iit-madras/CS6910_Assignment3/runs/biy3ff6n</a>"
            ]
          },
          "metadata": {}
        },
        {
          "output_type": "stream",
          "name": "stderr",
          "text": [
            "Epochs :   7%|▋         | 1/15 [01:24<19:43, 84.54s/it]"
          ]
        },
        {
          "output_type": "stream",
          "name": "stdout",
          "text": [
            "\n",
            "Train Loss: 0.8225 Train Accuracy: 71.2062 Validation Loss: 3.6460 Validation Accuracy: 50.1081\n",
            "\n",
            "Time taken for the epoch 84.5364\n"
          ]
        },
        {
          "output_type": "stream",
          "name": "stderr",
          "text": [
            "\rEpochs :  13%|█▎        | 2/15 [02:12<13:38, 62.95s/it]"
          ]
        },
        {
          "output_type": "stream",
          "name": "stdout",
          "text": [
            "\n",
            "Train Loss: 0.5615 Train Accuracy: 82.4835 Validation Loss: 4.2177 Validation Accuracy: 50.0615\n",
            "\n",
            "Time taken for the epoch 47.8295\n"
          ]
        },
        {
          "output_type": "stream",
          "name": "stderr",
          "text": [
            "\rEpochs :  20%|██        | 3/15 [03:01<11:17, 56.48s/it]"
          ]
        },
        {
          "output_type": "stream",
          "name": "stdout",
          "text": [
            "\n",
            "Train Loss: 0.4765 Train Accuracy: 85.0256 Validation Loss: 4.0101 Validation Accuracy: 51.8065\n",
            "\n",
            "Time taken for the epoch 48.7771\n"
          ]
        },
        {
          "output_type": "stream",
          "name": "stderr",
          "text": [
            "\rEpochs :  27%|██▋       | 4/15 [03:49<09:47, 53.38s/it]"
          ]
        },
        {
          "output_type": "stream",
          "name": "stdout",
          "text": [
            "\n",
            "Train Loss: 0.4208 Train Accuracy: 86.7370 Validation Loss: 4.4610 Validation Accuracy: 51.3291\n",
            "\n",
            "Time taken for the epoch 48.6160\n"
          ]
        },
        {
          "output_type": "stream",
          "name": "stderr",
          "text": [
            "\rEpochs :  33%|███▎      | 5/15 [04:37<08:35, 51.50s/it]"
          ]
        },
        {
          "output_type": "stream",
          "name": "stdout",
          "text": [
            "\n",
            "Train Loss: 0.3832 Train Accuracy: 87.7845 Validation Loss: 4.8809 Validation Accuracy: 49.4196\n",
            "\n",
            "Time taken for the epoch 48.1685\n"
          ]
        },
        {
          "output_type": "stream",
          "name": "stderr",
          "text": [
            "\rEpochs :  40%|████      | 6/15 [05:24<07:29, 49.91s/it]"
          ]
        },
        {
          "output_type": "stream",
          "name": "stdout",
          "text": [
            "\n",
            "Train Loss: 0.3540 Train Accuracy: 88.8537 Validation Loss: 4.9962 Validation Accuracy: 48.8684\n",
            "\n",
            "Time taken for the epoch 46.8274\n"
          ]
        },
        {
          "output_type": "stream",
          "name": "stderr",
          "text": [
            "\rEpochs :  47%|████▋     | 7/15 [06:13<06:34, 49.36s/it]"
          ]
        },
        {
          "output_type": "stream",
          "name": "stdout",
          "text": [
            "\n",
            "Train Loss: 0.3314 Train Accuracy: 89.5120 Validation Loss: 5.3131 Validation Accuracy: 47.0075\n",
            "\n",
            "Time taken for the epoch 48.2284\n"
          ]
        },
        {
          "output_type": "stream",
          "name": "stderr",
          "text": [
            "Epochs :  53%|█████▎    | 8/15 [07:01<06:08, 52.65s/it]"
          ]
        },
        {
          "output_type": "stream",
          "name": "stdout",
          "text": [
            "\n",
            "Train Loss: 0.3128 Train Accuracy: 90.0347 Validation Loss: 5.2438 Validation Accuracy: 48.3343\n",
            "\n",
            "Time taken for the epoch 48.2077\n",
            "\n",
            "Model trained successfully !!\n"
          ]
        },
        {
          "output_type": "stream",
          "name": "stderr",
          "text": [
            "\n"
          ]
        },
        {
          "output_type": "display_data",
          "data": {
            "text/plain": [
              "<IPython.core.display.HTML object>"
            ],
            "text/html": []
          },
          "metadata": {}
        },
        {
          "output_type": "display_data",
          "data": {
            "text/plain": [
              "<IPython.core.display.HTML object>"
            ],
            "text/html": [
              "<br>    <style><br>        .wandb-row {<br>            display: flex;<br>            flex-direction: row;<br>            flex-wrap: wrap;<br>            justify-content: flex-start;<br>            width: 100%;<br>        }<br>        .wandb-col {<br>            display: flex;<br>            flex-direction: column;<br>            flex-basis: 100%;<br>            flex: 1;<br>            padding: 10px;<br>        }<br>    </style><br><div class=\"wandb-row\"><div class=\"wandb-col\"><h3>Run history:</h3><br/><table class=\"wandb\"><tr><td>epoch</td><td>▁▂▃▄▅▆▇█</td></tr><tr><td>train_acc</td><td>▁▅▆▇▇███</td></tr><tr><td>train_loss</td><td>█▄▃▂▂▂▁▁</td></tr><tr><td>training time</td><td>█▁▁▁▁▁▁▁</td></tr><tr><td>val_acc</td><td>▆▅█▇▅▄▁▃</td></tr><tr><td>val_loss</td><td>▁▃▃▄▆▇██</td></tr></table><br/></div><div class=\"wandb-col\"><h3>Run summary:</h3><br/><table class=\"wandb\"><tr><td>epoch</td><td>8</td></tr><tr><td>train_acc</td><td>90.03474</td></tr><tr><td>train_loss</td><td>0.31283</td></tr><tr><td>training time</td><td>48.20772</td></tr><tr><td>val_acc</td><td>48.33426</td></tr><tr><td>val_loss</td><td>5.24383</td></tr></table><br/></div></div>"
            ]
          },
          "metadata": {}
        },
        {
          "output_type": "display_data",
          "data": {
            "text/plain": [
              "<IPython.core.display.HTML object>"
            ],
            "text/html": [
              " View run <strong style=\"color:#cdcd00\"> num_of_decoders(2)_ cell_type(rnn)_latent_dim(128)_lr(0.001)_optimizer(rmsprop)_dropout(0.3)inp_emb_size(256)_batch_size(64</strong> at: <a href='https://wandb.ai/na21b050-iit-madras/CS6910_Assignment3/runs/biy3ff6n' target=\"_blank\">https://wandb.ai/na21b050-iit-madras/CS6910_Assignment3/runs/biy3ff6n</a><br> View project at: <a href='https://wandb.ai/na21b050-iit-madras/CS6910_Assignment3' target=\"_blank\">https://wandb.ai/na21b050-iit-madras/CS6910_Assignment3</a><br>Synced 5 W&B file(s), 0 media file(s), 0 artifact file(s) and 0 other file(s)"
            ]
          },
          "metadata": {}
        },
        {
          "output_type": "display_data",
          "data": {
            "text/plain": [
              "<IPython.core.display.HTML object>"
            ],
            "text/html": [
              "Find logs at: <code>./wandb/run-20250519_134457-biy3ff6n/logs</code>"
            ]
          },
          "metadata": {}
        },
        {
          "output_type": "stream",
          "name": "stderr",
          "text": [
            "\u001b[34m\u001b[1mwandb\u001b[0m: Agent Starting Run: 3h36xulb with config:\n",
            "\u001b[34m\u001b[1mwandb\u001b[0m: \tbatch_size: 64\n",
            "\u001b[34m\u001b[1mwandb\u001b[0m: \tcell_type: rnn\n",
            "\u001b[34m\u001b[1mwandb\u001b[0m: \tdropout: 0.3\n",
            "\u001b[34m\u001b[1mwandb\u001b[0m: \tinp_emb_size: 256\n",
            "\u001b[34m\u001b[1mwandb\u001b[0m: \tlatent_dim: 128\n",
            "\u001b[34m\u001b[1mwandb\u001b[0m: \tlr: 0.001\n",
            "\u001b[34m\u001b[1mwandb\u001b[0m: \tnum_of_decoders: 3\n",
            "\u001b[34m\u001b[1mwandb\u001b[0m: \tnum_of_encoders: 3\n",
            "\u001b[34m\u001b[1mwandb\u001b[0m: \toptimizer: rmsprop\n"
          ]
        },
        {
          "output_type": "display_data",
          "data": {
            "text/plain": [
              "<IPython.core.display.HTML object>"
            ],
            "text/html": [
              "Tracking run with wandb version 0.19.11"
            ]
          },
          "metadata": {}
        },
        {
          "output_type": "display_data",
          "data": {
            "text/plain": [
              "<IPython.core.display.HTML object>"
            ],
            "text/html": [
              "Run data is saved locally in <code>/content/wandb/run-20250519_135207-3h36xulb</code>"
            ]
          },
          "metadata": {}
        },
        {
          "output_type": "display_data",
          "data": {
            "text/plain": [
              "<IPython.core.display.HTML object>"
            ],
            "text/html": [
              "Syncing run <strong><a href='https://wandb.ai/na21b050-iit-madras/CS6910_Assignment3/runs/3h36xulb' target=\"_blank\">elated-sweep-27</a></strong> to <a href='https://wandb.ai/na21b050-iit-madras/CS6910_Assignment3' target=\"_blank\">Weights & Biases</a> (<a href='https://wandb.me/developer-guide' target=\"_blank\">docs</a>)<br>Sweep page: <a href='https://wandb.ai/na21b050-iit-madras/CS6910_Assignment3/sweeps/h16aspho' target=\"_blank\">https://wandb.ai/na21b050-iit-madras/CS6910_Assignment3/sweeps/h16aspho</a>"
            ]
          },
          "metadata": {}
        },
        {
          "output_type": "display_data",
          "data": {
            "text/plain": [
              "<IPython.core.display.HTML object>"
            ],
            "text/html": [
              " View project at <a href='https://wandb.ai/na21b050-iit-madras/CS6910_Assignment3' target=\"_blank\">https://wandb.ai/na21b050-iit-madras/CS6910_Assignment3</a>"
            ]
          },
          "metadata": {}
        },
        {
          "output_type": "display_data",
          "data": {
            "text/plain": [
              "<IPython.core.display.HTML object>"
            ],
            "text/html": [
              " View sweep at <a href='https://wandb.ai/na21b050-iit-madras/CS6910_Assignment3/sweeps/h16aspho' target=\"_blank\">https://wandb.ai/na21b050-iit-madras/CS6910_Assignment3/sweeps/h16aspho</a>"
            ]
          },
          "metadata": {}
        },
        {
          "output_type": "display_data",
          "data": {
            "text/plain": [
              "<IPython.core.display.HTML object>"
            ],
            "text/html": [
              " View run at <a href='https://wandb.ai/na21b050-iit-madras/CS6910_Assignment3/runs/3h36xulb' target=\"_blank\">https://wandb.ai/na21b050-iit-madras/CS6910_Assignment3/runs/3h36xulb</a>"
            ]
          },
          "metadata": {}
        },
        {
          "output_type": "stream",
          "name": "stderr",
          "text": [
            "Epochs :   7%|▋         | 1/15 [01:49<25:33, 109.51s/it]"
          ]
        },
        {
          "output_type": "stream",
          "name": "stdout",
          "text": [
            "\n",
            "Train Loss: 0.8274 Train Accuracy: 69.6543 Validation Loss: 4.1833 Validation Accuracy: 45.5398\n",
            "\n",
            "Time taken for the epoch 109.5070\n"
          ]
        },
        {
          "output_type": "stream",
          "name": "stderr",
          "text": [
            "\rEpochs :  13%|█▎        | 2/15 [02:52<17:45, 81.99s/it] "
          ]
        },
        {
          "output_type": "stream",
          "name": "stdout",
          "text": [
            "\n",
            "Train Loss: 0.5015 Train Accuracy: 83.9845 Validation Loss: 4.2722 Validation Accuracy: 48.9412\n",
            "\n",
            "Time taken for the epoch 62.7168\n"
          ]
        },
        {
          "output_type": "stream",
          "name": "stderr",
          "text": [
            "\rEpochs :  20%|██        | 3/15 [03:54<14:38, 73.18s/it]"
          ]
        },
        {
          "output_type": "stream",
          "name": "stdout",
          "text": [
            "\n",
            "Train Loss: 0.4096 Train Accuracy: 86.8774 Validation Loss: 4.5404 Validation Accuracy: 49.1166\n",
            "\n",
            "Time taken for the epoch 62.7030\n"
          ]
        },
        {
          "output_type": "stream",
          "name": "stderr",
          "text": [
            "\rEpochs :  27%|██▋       | 4/15 [04:58<12:41, 69.25s/it]"
          ]
        },
        {
          "output_type": "stream",
          "name": "stdout",
          "text": [
            "\n",
            "Train Loss: 0.3543 Train Accuracy: 88.7435 Validation Loss: 4.6818 Validation Accuracy: 49.7600\n",
            "\n",
            "Time taken for the epoch 63.2156\n"
          ]
        }
      ],
      "source": [
        "\n",
        "wandb.agent(sweep_id, train_wandb)"
      ]
    },
    {
      "cell_type": "code",
      "execution_count": null,
      "metadata": {
        "id": "jtk0kCcGblPV"
      },
      "outputs": [],
      "source": []
    }
  ],
  "metadata": {
    "colab": {
      "provenance": [],
      "gpuType": "T4",
      "include_colab_link": true
    },
    "kernelspec": {
      "display_name": "Python 3",
      "name": "python3"
    },
    "language_info": {
      "codemirror_mode": {
        "name": "ipython",
        "version": 3
      },
      "file_extension": ".py",
      "mimetype": "text/x-python",
      "name": "python",
      "nbconvert_exporter": "python",
      "pygments_lexer": "ipython3",
      "version": "3.13.2"
    },
    "accelerator": "GPU"
  },
  "nbformat": 4,
  "nbformat_minor": 0
}